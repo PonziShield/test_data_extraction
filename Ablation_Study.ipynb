{
  "cells": [
    {
      "cell_type": "code",
      "execution_count": 450,
      "metadata": {
        "id": "zLKXORvJ001J"
      },
      "outputs": [],
      "source": [
        "#!pip install torch==2.0.0+cu118 torchvision==0.15.1+cu118 torchaudio==2.0.1 --index-url https://download.pytorch.org/whl/cu118"
      ]
    },
    {
      "cell_type": "code",
      "execution_count": 451,
      "metadata": {
        "id": "mTm7zOD22Yye"
      },
      "outputs": [],
      "source": [
        "#!pip install torchdata==0.6.0"
      ]
    },
    {
      "cell_type": "code",
      "execution_count": 452,
      "metadata": {
        "id": "z5FlTM652mfv"
      },
      "outputs": [],
      "source": [
        "#!pip install torchtext==0.15.1"
      ]
    },
    {
      "cell_type": "code",
      "execution_count": 453,
      "metadata": {
        "id": "TQ9vaZNjg-Bv"
      },
      "outputs": [],
      "source": [
        "import torch\n",
        "from torch import nn, Tensor\n",
        "from torch.nn import TransformerEncoder, TransformerEncoderLayer\n",
        "import math\n",
        "import numpy as np"
      ]
    },
    {
      "cell_type": "code",
      "execution_count": 454,
      "metadata": {
        "colab": {
          "base_uri": "https://localhost:8080/",
          "height": 35
        },
        "id": "ZYbnZdbz06pn",
        "outputId": "127ba225-c112-4132-baee-8c0163daae7d"
      },
      "outputs": [
        {
          "data": {
            "text/plain": [
              "'2.1.1+cpu'"
            ]
          },
          "execution_count": 454,
          "metadata": {},
          "output_type": "execute_result"
        }
      ],
      "source": [
        "torch.__version__"
      ]
    },
    {
      "cell_type": "code",
      "execution_count": 455,
      "metadata": {
        "id": "lKX9oYtu6LD0"
      },
      "outputs": [],
      "source": [
        "class BinaryClassification(nn.Module):\n",
        "  def __init__(self, embed_size, device):\n",
        "    super(BinaryClassification, self).__init__()\n",
        "    # Number of input features is embed_size.\n",
        "    self.layer_1 = nn.Linear(embed_size, 64)\n",
        "    self.layer_2 = nn.Linear(64, 64)\n",
        "    self.layer_out = nn.Linear(64, 1)\n",
        "\n",
        "    self.relu = nn.ReLU()\n",
        "    self.dropout = nn.Dropout(p=0.1)\n",
        "    self.batchnorm1 = nn.BatchNorm1d(64)\n",
        "    self.batchnorm2 = nn.BatchNorm1d(64)\n",
        "    self.device = device\n",
        "\n",
        "  def forward(self, inputs):\n",
        "    # print(\"start binary classification\")\n",
        "    # print(inputs.shape)\n",
        "    # print(inputs)\n",
        "    x = self.relu(self.layer_1(inputs))\n",
        "    x = self.batchnorm1(x)\n",
        "    x = self.relu(self.layer_2(x))\n",
        "    x = self.batchnorm2(x)\n",
        "    x = self.dropout(x)\n",
        "    x = self.layer_out(x)\n",
        "    #if math.isnan (x[0][0]):\n",
        "    #  print(src)\n",
        "\n",
        "    return x"
      ]
    },
    {
      "cell_type": "code",
      "execution_count": 456,
      "metadata": {
        "id": "UfthdYqI6W0U"
      },
      "outputs": [],
      "source": [
        "class Classifier(nn.Module):\n",
        "  def __init__(self, d_model, seq_len, nhead, dim_feedforward, nlayers, device, dropout = 0.5):\n",
        "    super(Classifier, self).__init__()\n",
        "    self.d_model = d_model\n",
        "    self.seq_len = seq_len\n",
        "    self.nhead = nhead\n",
        "    self.dim_feedforward = dim_feedforward\n",
        "    self.nlayers = nlayers\n",
        "    self.device = device\n",
        "    #self.pos_encoder = PositionalEncoding(d_model, dropout)\n",
        "    self.position_embedding = nn.Embedding(seq_len, d_model)\n",
        "    encoder_layer = TransformerEncoderLayer(d_model, nhead, dim_feedforward, dropout, batch_first=True)\n",
        "    self.encoder = TransformerEncoder(encoder_layer, nlayers)\n",
        "    self.binary_classifier = BinaryClassification(seq_len*d_model, device)\n",
        "\n",
        "\n",
        "  def forward(self, src: Tensor) -> Tensor:\n",
        "    # print(\"Classifier forwrd\")\n",
        "    \"\"\"\n",
        "    Args:\n",
        "        src: Tensor, shape [seq_len, batch_size]\n",
        "        src_mask: Tensor, shape [seq_len, seq_len]\n",
        "    Returns:\n",
        "        output Tensor of shape [seq_len, batch_size, ntoken]\n",
        "    \"\"\"\n",
        "    N, seq_length, embed_size = src.shape\n",
        "    positions = torch.arange(0, seq_length).expand(N, seq_length).to(self.device)\n",
        "\n",
        "    # print(f\"src before positional embeddings: {src.shape}\")\n",
        "    src_ = src + self.position_embedding(positions)\n",
        "    # print(f\"src after positional embeddings: {src_.shape}\")\n",
        "    # print(f\"src after positional embeddings: {src.shape}\")\n",
        "    # print(src_)\n",
        "    # print(\"before encoder\")\n",
        "    output = self.encoder(src_)\n",
        "    # print(f\"encoder output shape: {output.shape}\")\n",
        "    # print(output[0])\n",
        "    # print(output)\n",
        "    # print(\"after encoder\")\n",
        "    output = self.binary_classifier(torch.reshape(output, (N, seq_length*embed_size))) ##\n",
        "    # output_tx_f = torch.reshape(output, (N, seq_length*embed_size))\n",
        "    # output = self.binary_classifier(torch.cat((output_tx_f), dim=1)) ##\n",
        "    return output"
      ]
    },
    {
      "cell_type": "code",
      "execution_count": 457,
      "metadata": {
        "id": "CZfzqI_v619i"
      },
      "outputs": [],
      "source": [
        "device = torch.device(\"cuda\" if torch.cuda.is_available() else \"cpu\")"
      ]
    },
    {
      "cell_type": "code",
      "execution_count": 458,
      "metadata": {
        "id": "SboFES2e69Y_"
      },
      "outputs": [],
      "source": [
        "#hyperparameters\n",
        "dim_feedforward=16\n",
        "#dim_feedforward=32\n",
        "nlayers_tx=8"
      ]
    },
    {
      "cell_type": "code",
      "execution_count": 459,
      "metadata": {
        "colab": {
          "base_uri": "https://localhost:8080/"
        },
        "id": "p5_6Jclv616E",
        "outputId": "28dab34d-471d-49f0-ed8d-b75ffd6eeb8f"
      },
      "outputs": [
        {
          "name": "stderr",
          "output_type": "stream",
          "text": [
            "c:\\Users\\sandu\\Desktop\\sem7\\fyp\\App\\.venv\\lib\\site-packages\\torch\\nn\\modules\\transformer.py:282: UserWarning: enable_nested_tensor is True, but self.use_nested_tensor is False because encoder_layer.self_attn.num_heads is odd\n",
            "  warnings.warn(f\"enable_nested_tensor is True, but self.use_nested_tensor is False because {why_not_sparsity_fast_path}\")\n"
          ]
        },
        {
          "data": {
            "text/plain": [
              "Classifier(\n",
              "  (position_embedding): Embedding(108, 11)\n",
              "  (encoder): TransformerEncoder(\n",
              "    (layers): ModuleList(\n",
              "      (0-7): 8 x TransformerEncoderLayer(\n",
              "        (self_attn): MultiheadAttention(\n",
              "          (out_proj): NonDynamicallyQuantizableLinear(in_features=11, out_features=11, bias=True)\n",
              "        )\n",
              "        (linear1): Linear(in_features=11, out_features=8, bias=True)\n",
              "        (dropout): Dropout(p=0.5, inplace=False)\n",
              "        (linear2): Linear(in_features=8, out_features=11, bias=True)\n",
              "        (norm1): LayerNorm((11,), eps=1e-05, elementwise_affine=True)\n",
              "        (norm2): LayerNorm((11,), eps=1e-05, elementwise_affine=True)\n",
              "        (dropout1): Dropout(p=0.5, inplace=False)\n",
              "        (dropout2): Dropout(p=0.5, inplace=False)\n",
              "      )\n",
              "    )\n",
              "  )\n",
              "  (binary_classifier): BinaryClassification(\n",
              "    (layer_1): Linear(in_features=1188, out_features=64, bias=True)\n",
              "    (layer_2): Linear(in_features=64, out_features=64, bias=True)\n",
              "    (layer_out): Linear(in_features=64, out_features=1, bias=True)\n",
              "    (relu): ReLU()\n",
              "    (dropout): Dropout(p=0.1, inplace=False)\n",
              "    (batchnorm1): BatchNorm1d(64, eps=1e-05, momentum=0.1, affine=True, track_running_stats=True)\n",
              "    (batchnorm2): BatchNorm1d(64, eps=1e-05, momentum=0.1, affine=True, track_running_stats=True)\n",
              "  )\n",
              ")"
            ]
          },
          "execution_count": 459,
          "metadata": {},
          "output_type": "execute_result"
        }
      ],
      "source": [
        "model = Classifier(d_model=11, seq_len=108, nhead=11, dim_feedforward=8, nlayers=8, device=device)\n",
        "model.to(device)"
      ]
    },
    {
      "cell_type": "code",
      "execution_count": 460,
      "metadata": {
        "id": "rIQDpV0s77eH"
      },
      "outputs": [],
      "source": [
        "def binary_acc(y_pred, y_test):\n",
        "    y_pred_tag = torch.round(torch.sigmoid(y_pred))\n",
        "\n",
        "    correct_results_sum = (y_pred_tag == y_test).sum().float()\n",
        "    acc = correct_results_sum/y_test.shape[0]\n",
        "    acc = torch.round(acc * 100)\n",
        "\n",
        "    return acc"
      ]
    },
    {
      "cell_type": "code",
      "execution_count": 461,
      "metadata": {
        "id": "mU3oZoDP792s"
      },
      "outputs": [],
      "source": [
        "from sklearn.model_selection import train_test_split"
      ]
    },
    {
      "cell_type": "code",
      "execution_count": 462,
      "metadata": {
        "colab": {
          "base_uri": "https://localhost:8080/"
        },
        "id": "SFaIQKIlBLNN",
        "outputId": "491ceec6-cc83-4374-8b7e-ca511ec9f00a"
      },
      "outputs": [],
      "source": [
        "# from google.colab import drive\n",
        "# drive.mount('/content/drive')"
      ]
    },
    {
      "cell_type": "code",
      "execution_count": 463,
      "metadata": {
        "colab": {
          "base_uri": "https://localhost:8080/"
        },
        "id": "iXZlsm6GBdcD",
        "outputId": "bd52e33c-5482-48ca-dc15-b110216de6ca"
      },
      "outputs": [],
      "source": [
        "# %cd /content/drive/My Drive/FYP_Data/Ablation"
      ]
    },
    {
      "cell_type": "code",
      "execution_count": 464,
      "metadata": {
        "id": "FHOlujz9BjAd"
      },
      "outputs": [],
      "source": [
        "x = np.load(\"data\\other\\data.npy\")\n",
        "y = np.load(\"data\\other\\labels.npy\")"
      ]
    },
    {
      "cell_type": "code",
      "execution_count": 465,
      "metadata": {
        "colab": {
          "base_uri": "https://localhost:8080/"
        },
        "id": "xH_Tcn8CBk08",
        "outputId": "03382ba4-e4ee-4e23-ffd0-430a3482ff0f"
      },
      "outputs": [
        {
          "name": "stdout",
          "output_type": "stream",
          "text": [
            "(301, 108, 11)\n",
            "(301,)\n"
          ]
        }
      ],
      "source": [
        "print(x.shape)\n",
        "print(y.shape)"
      ]
    },
    {
      "cell_type": "code",
      "execution_count": null,
      "metadata": {},
      "outputs": [],
      "source": []
    },
    {
      "cell_type": "code",
      "execution_count": 466,
      "metadata": {},
      "outputs": [
        {
          "name": "stdout",
          "output_type": "stream",
          "text": [
            "[[[0.00000000e+00 0.00000000e+00 0.00000000e+00 ... 0.00000000e+00\n",
            "   2.00000000e+00 0.00000000e+00]\n",
            "  [0.00000000e+00 0.00000000e+00 0.00000000e+00 ... 0.00000000e+00\n",
            "   1.00000000e+00 0.00000000e+00]\n",
            "  [0.00000000e+00 0.00000000e+00 0.00000000e+00 ... 0.00000000e+00\n",
            "   1.00000000e+00 0.00000000e+00]\n",
            "  ...\n",
            "  [0.00000000e+00 0.00000000e+00 0.00000000e+00 ... 0.00000000e+00\n",
            "   0.00000000e+00 0.00000000e+00]\n",
            "  [0.00000000e+00 0.00000000e+00 0.00000000e+00 ... 0.00000000e+00\n",
            "   0.00000000e+00 0.00000000e+00]\n",
            "  [0.00000000e+00 0.00000000e+00 0.00000000e+00 ... 0.00000000e+00\n",
            "   0.00000000e+00 0.00000000e+00]]\n",
            "\n",
            " [[6.25000000e-01 6.25000000e-01 1.08000000e+20 ... 8.00000000e+00\n",
            "   2.00000000e+00 1.00000000e+01]\n",
            "  [1.00000000e+00 1.00000000e+00 1.00000000e+19 ... 9.00000000e+00\n",
            "   1.00000000e+00 1.00000000e+01]\n",
            "  [5.71428571e-01 5.71428571e-01 1.90000000e+19 ... 7.00000000e+00\n",
            "   1.00000000e+00 1.00000000e+01]\n",
            "  ...\n",
            "  [0.00000000e+00 0.00000000e+00 0.00000000e+00 ... 7.00000000e+00\n",
            "   0.00000000e+00 1.00000000e+01]\n",
            "  [0.00000000e+00 0.00000000e+00 0.00000000e+00 ... 9.00000000e+00\n",
            "   0.00000000e+00 1.00000000e+01]\n",
            "  [0.00000000e+00 0.00000000e+00 0.00000000e+00 ... 2.00000000e+00\n",
            "   0.00000000e+00 9.00000000e+00]]\n",
            "\n",
            " [[0.00000000e+00 0.00000000e+00 0.00000000e+00 ... 1.00000000e+01\n",
            "   1.00000000e+00 1.00000000e+01]\n",
            "  [0.00000000e+00 0.00000000e+00 0.00000000e+00 ... 1.00000000e+01\n",
            "   1.00000000e+00 1.00000000e+01]\n",
            "  [0.00000000e+00 0.00000000e+00 0.00000000e+00 ... 1.00000000e+01\n",
            "   1.00000000e+00 1.00000000e+01]\n",
            "  ...\n",
            "  [0.00000000e+00 0.00000000e+00 0.00000000e+00 ... 1.00000000e+01\n",
            "   1.00000000e+00 1.00000000e+01]\n",
            "  [0.00000000e+00 0.00000000e+00 1.00000000e+16 ... 1.00000000e+01\n",
            "   1.00000000e+00 1.00000000e+01]\n",
            "  [1.00000000e-01 3.00000000e-01 1.00000000e+16 ... 1.00000000e+01\n",
            "   1.00000000e+00 1.00000000e+01]]\n",
            "\n",
            " [[1.00000000e+00 1.00000000e+00 5.06100000e+20 ... 2.00000000e+00\n",
            "   2.00000000e+00 1.00000000e+01]\n",
            "  [5.00000000e-01 5.00000000e-01 1.10000000e+19 ... 2.00000000e+00\n",
            "   1.00000000e+00 1.00000000e+01]\n",
            "  [3.33333333e-01 3.33333333e-01 2.40000000e+19 ... 3.00000000e+00\n",
            "   1.00000000e+00 1.00000000e+01]\n",
            "  ...\n",
            "  [0.00000000e+00 0.00000000e+00 0.00000000e+00 ... 0.00000000e+00\n",
            "   0.00000000e+00 0.00000000e+00]\n",
            "  [0.00000000e+00 0.00000000e+00 0.00000000e+00 ... 0.00000000e+00\n",
            "   0.00000000e+00 0.00000000e+00]\n",
            "  [0.00000000e+00 0.00000000e+00 0.00000000e+00 ... 0.00000000e+00\n",
            "   0.00000000e+00 0.00000000e+00]]\n",
            "\n",
            " [[3.33333333e-01 3.33333333e-01 1.00500000e+21 ... 3.00000000e+00\n",
            "   2.00000000e+00 1.00000000e+01]\n",
            "  [6.66666667e-01 6.66666667e-01 6.00000000e+18 ... 3.00000000e+00\n",
            "   1.00000000e+00 1.00000000e+01]\n",
            "  [0.00000000e+00 0.00000000e+00 1.00000000e+18 ... 2.00000000e+00\n",
            "   1.00000000e+00 1.00000000e+01]\n",
            "  ...\n",
            "  [0.00000000e+00 0.00000000e+00 0.00000000e+00 ... 0.00000000e+00\n",
            "   0.00000000e+00 0.00000000e+00]\n",
            "  [0.00000000e+00 0.00000000e+00 0.00000000e+00 ... 0.00000000e+00\n",
            "   0.00000000e+00 0.00000000e+00]\n",
            "  [0.00000000e+00 0.00000000e+00 0.00000000e+00 ... 0.00000000e+00\n",
            "   0.00000000e+00 0.00000000e+00]]]\n"
          ]
        }
      ],
      "source": [
        "print(x[:5])"
      ]
    },
    {
      "cell_type": "code",
      "execution_count": 467,
      "metadata": {},
      "outputs": [
        {
          "name": "stdout",
          "output_type": "stream",
          "text": [
            "[[[-1.02945209e-01 -1.14356860e-01 -1.38146329e-02 ... -2.37866691e-01\n",
            "    6.17300954e+00 -2.28408205e-01]\n",
            "  [-1.02945209e-01 -1.14356860e-01 -1.38146329e-02 ... -2.37866691e-01\n",
            "    2.93045142e+00 -2.28408205e-01]\n",
            "  [-1.02945209e-01 -1.14356860e-01 -1.38146329e-02 ... -2.37866691e-01\n",
            "    2.93045142e+00 -2.28408205e-01]\n",
            "  ...\n",
            "  [-1.02945209e-01 -1.14356860e-01 -1.38146329e-02 ... -2.37866691e-01\n",
            "   -3.12106692e-01 -2.28408205e-01]\n",
            "  [-1.02945209e-01 -1.14356860e-01 -1.38146329e-02 ... -2.37866691e-01\n",
            "   -3.12106692e-01 -2.28408205e-01]\n",
            "  [-1.02945209e-01 -1.14356860e-01 -1.38146329e-02 ... -2.37866691e-01\n",
            "   -3.12106692e-01 -2.28408205e-01]]\n",
            "\n",
            " [[ 8.86766055e+00  8.05507759e+00 -4.84967205e-03 ...  6.99221315e+00\n",
            "    6.17300954e+00  4.61193986e+00]\n",
            "  [ 1.42500240e+01  1.29567383e+01 -1.29845439e-02 ...  7.89597313e+00\n",
            "    2.93045142e+00  4.61193986e+00]\n",
            "  [ 8.09875148e+00  7.35484035e+00 -1.22374638e-02 ...  6.08845317e+00\n",
            "    2.93045142e+00  4.61193986e+00]\n",
            "  ...\n",
            "  [-1.02945209e-01 -1.14356860e-01 -1.38146329e-02 ...  6.08845317e+00\n",
            "   -3.12106692e-01  4.61193986e+00]\n",
            "  [-1.02945209e-01 -1.14356860e-01 -1.38146329e-02 ...  7.89597313e+00\n",
            "   -3.12106692e-01  4.61193986e+00]\n",
            "  [-1.02945209e-01 -1.14356860e-01 -1.38146329e-02 ...  1.56965327e+00\n",
            "   -3.12106692e-01  4.12790505e+00]]\n",
            "\n",
            " [[-1.02945209e-01 -1.14356860e-01 -1.38146329e-02 ...  8.79973311e+00\n",
            "    2.93045142e+00  4.61193986e+00]\n",
            "  [-1.02945209e-01 -1.14356860e-01 -1.38146329e-02 ...  8.79973311e+00\n",
            "    2.93045142e+00  4.61193986e+00]\n",
            "  [-1.02945209e-01 -1.14356860e-01 -1.38146329e-02 ...  8.79973311e+00\n",
            "    2.93045142e+00  4.61193986e+00]\n",
            "  ...\n",
            "  [-1.02945209e-01 -1.14356860e-01 -1.38146329e-02 ...  8.79973311e+00\n",
            "    2.93045142e+00  4.61193986e+00]\n",
            "  [-1.02945209e-01 -1.14356860e-01 -1.38138028e-02 ...  8.79973311e+00\n",
            "    2.93045142e+00  4.61193986e+00]\n",
            "  [ 1.33235171e+00  3.80697167e+00 -1.38138028e-02 ...  8.79973311e+00\n",
            "    2.93045142e+00  4.61193986e+00]]\n",
            "\n",
            " [[ 1.42500240e+01  1.29567383e+01  2.81961697e-02 ...  1.56965327e+00\n",
            "    6.17300954e+00  4.61193986e+00]\n",
            "  [ 7.07353939e+00  6.42119070e+00 -1.29015350e-02 ...  1.56965327e+00\n",
            "    2.93045142e+00  4.61193986e+00]\n",
            "  [ 4.68137786e+00  4.24267485e+00 -1.18224194e-02 ...  2.47341325e+00\n",
            "    2.93045142e+00  4.61193986e+00]\n",
            "  ...\n",
            "  [-1.02945209e-01 -1.14356860e-01 -1.38146329e-02 ... -2.37866691e-01\n",
            "   -3.12106692e-01 -2.28408205e-01]\n",
            "  [-1.02945209e-01 -1.14356860e-01 -1.38146329e-02 ... -2.37866691e-01\n",
            "   -3.12106692e-01 -2.28408205e-01]\n",
            "  [-1.02945209e-01 -1.14356860e-01 -1.38146329e-02 ... -2.37866691e-01\n",
            "   -3.12106692e-01 -2.28408205e-01]]\n",
            "\n",
            " [[ 4.68137786e+00  4.24267485e+00  6.96093081e-02 ...  2.47341325e+00\n",
            "    6.17300954e+00  4.61193986e+00]\n",
            "  [ 9.46570093e+00  8.59970655e+00 -1.33165795e-02 ...  2.47341325e+00\n",
            "    2.93045142e+00  4.61193986e+00]\n",
            "  [-1.02945209e-01 -1.14356860e-01 -1.37316240e-02 ...  1.56965327e+00\n",
            "    2.93045142e+00  4.61193986e+00]\n",
            "  ...\n",
            "  [-1.02945209e-01 -1.14356860e-01 -1.38146329e-02 ... -2.37866691e-01\n",
            "   -3.12106692e-01 -2.28408205e-01]\n",
            "  [-1.02945209e-01 -1.14356860e-01 -1.38146329e-02 ... -2.37866691e-01\n",
            "   -3.12106692e-01 -2.28408205e-01]\n",
            "  [-1.02945209e-01 -1.14356860e-01 -1.38146329e-02 ... -2.37866691e-01\n",
            "   -3.12106692e-01 -2.28408205e-01]]]\n"
          ]
        }
      ],
      "source": [
        "import numpy as np\n",
        "from sklearn.preprocessing import StandardScaler\n",
        "\n",
        "# Assuming you have loaded your data into a variable called data_array\n",
        "# data_array should be of shape (301, 108, 11)\n",
        "\n",
        "# Reshape the array to (301*108, 11) for normalization\n",
        "reshaped_data = x.reshape((-1, 11))\n",
        "\n",
        "# Initialize the StandardScaler\n",
        "scaler = StandardScaler()\n",
        "\n",
        "# Fit the scaler on the reshaped data and transform it\n",
        "normalized_data = scaler.fit_transform(reshaped_data)\n",
        "\n",
        "# Reshape the normalized data back to the original shape\n",
        "normalized_data_array = normalized_data.reshape(x.shape)\n",
        "\n",
        "# Now, normalized_data_array contains the normalized data with shape (301, 108, 11)\n",
        "print(normalized_data_array[:5])"
      ]
    },
    {
      "cell_type": "code",
      "execution_count": 468,
      "metadata": {
        "id": "j5RlkcKNBt1o"
      },
      "outputs": [],
      "source": [
        "X, X_test, Y, y_test = train_test_split(normalized_data_array, y, test_size=0.1, random_state=42) #test split"
      ]
    },
    {
      "cell_type": "code",
      "execution_count": 469,
      "metadata": {
        "id": "XyBHdv88B5qh"
      },
      "outputs": [],
      "source": [
        "np.save(\"X_test.npy\",X_test)\n",
        "np.save(\"y_test.npy\",y_test)"
      ]
    },
    {
      "cell_type": "code",
      "execution_count": 470,
      "metadata": {
        "id": "GWqGNAxWB-il"
      },
      "outputs": [],
      "source": [
        "#load test\n",
        "X_test = np.load(\"X_test.npy\", allow_pickle=True)\n",
        "y_test = np.load(\"y_test.npy\", allow_pickle=True)"
      ]
    },
    {
      "cell_type": "code",
      "execution_count": 471,
      "metadata": {
        "id": "Ca97i61sCBjd"
      },
      "outputs": [],
      "source": [
        "X_train, X_val, y_train, y_val = train_test_split(X, Y, test_size=0.1, random_state=42) #validation split"
      ]
    },
    {
      "cell_type": "code",
      "execution_count": 472,
      "metadata": {
        "id": "Y0ih1KJNCE7P"
      },
      "outputs": [],
      "source": [
        "np.save(\"X_train.npy\",X_train)\n",
        "np.save(\"y_train.npy\",y_train)\n",
        "np.save(\"X_val.npy\",X_val)\n",
        "np.save(\"y_val.npy\",y_val)"
      ]
    },
    {
      "cell_type": "code",
      "execution_count": 473,
      "metadata": {
        "id": "Y8PcTJ3ACG8P"
      },
      "outputs": [],
      "source": [
        "#load train val\n",
        "X_train = np.load(\"X_train.npy\", allow_pickle=True)\n",
        "y_train = np.load(\"y_train.npy\", allow_pickle=True)\n",
        "X_val = np.load(\"X_val.npy\", allow_pickle=True)\n",
        "y_val = np.load(\"y_val.npy\", allow_pickle=True)"
      ]
    },
    {
      "cell_type": "code",
      "execution_count": 474,
      "metadata": {
        "colab": {
          "base_uri": "https://localhost:8080/"
        },
        "id": "U-qSZ1ENCJDk",
        "outputId": "fe204dc9-57a8-488c-a410-42a0af34f9cc"
      },
      "outputs": [
        {
          "name": "stdout",
          "output_type": "stream",
          "text": [
            "(243, 108, 11)\n"
          ]
        }
      ],
      "source": [
        "print(X_train.shape)"
      ]
    },
    {
      "cell_type": "code",
      "execution_count": 475,
      "metadata": {
        "id": "54p4Ewh-Fp68"
      },
      "outputs": [],
      "source": [
        "X_train = X_train[:19656]"
      ]
    },
    {
      "cell_type": "code",
      "execution_count": 476,
      "metadata": {
        "colab": {
          "base_uri": "https://localhost:8080/"
        },
        "id": "-bh7IRI0CLDb",
        "outputId": "f38562c3-a146-4305-9664-f443cc72bc6c"
      },
      "outputs": [
        {
          "name": "stdout",
          "output_type": "stream",
          "text": [
            "(27, 108, 11)\n"
          ]
        }
      ],
      "source": [
        "print(X_val.shape)"
      ]
    },
    {
      "cell_type": "code",
      "execution_count": 477,
      "metadata": {
        "id": "_AVMFcuGFlYW"
      },
      "outputs": [],
      "source": [
        "X_val = X_val[:2184]"
      ]
    },
    {
      "cell_type": "code",
      "execution_count": 478,
      "metadata": {
        "colab": {
          "base_uri": "https://localhost:8080/"
        },
        "id": "8w-8A9LxCM0J",
        "outputId": "671effc7-146d-463c-9514-04e4c6e96e4c"
      },
      "outputs": [
        {
          "name": "stdout",
          "output_type": "stream",
          "text": [
            "(31, 108, 11)\n"
          ]
        }
      ],
      "source": [
        "print(X_test.shape)"
      ]
    },
    {
      "cell_type": "code",
      "execution_count": 479,
      "metadata": {
        "colab": {
          "base_uri": "https://localhost:8080/"
        },
        "id": "D3DJpQXeCPOY",
        "outputId": "a0a09959-2cad-4e8d-a278-a52ddd7da5e1"
      },
      "outputs": [
        {
          "name": "stdout",
          "output_type": "stream",
          "text": [
            "0.2962962962962963\n",
            "0.4074074074074074\n",
            "0.45161290322580644\n"
          ]
        }
      ],
      "source": [
        "print(np.sum(y_train)/y_train.shape[0])\n",
        "print(np.sum(y_val)/y_val.shape[0])\n",
        "print(np.sum(y_test)/y_test.shape[0])"
      ]
    },
    {
      "cell_type": "code",
      "execution_count": 480,
      "metadata": {
        "id": "utMXpDr1CR3q"
      },
      "outputs": [],
      "source": [
        "from torch.utils.data import Dataset, DataLoader"
      ]
    },
    {
      "cell_type": "code",
      "execution_count": 481,
      "metadata": {
        "id": "mhQSnKuECVIN"
      },
      "outputs": [],
      "source": [
        "## train data\n",
        "from sklearn import preprocessing\n",
        "class TrainData(Dataset):\n",
        "\n",
        "    def __init__(self, X_data, y_data):\n",
        "        self.X_data = X_data\n",
        "        self.y_data = y_data\n",
        "\n",
        "    def __getitem__(self, index):\n",
        "        return self.X_data[index], self.y_data[index]\n",
        "\n",
        "    def __len__ (self):\n",
        "        return len(self.X_data)\n",
        "\n",
        "\n",
        "train_data = TrainData(X_train, y_train)\n",
        "\n",
        "## val data\n",
        "class ValData(Dataset):\n",
        "\n",
        "    def __init__(self, X_data, y_data):\n",
        "        self.X_data = X_data\n",
        "        self.y_data = y_data\n",
        "\n",
        "    def __getitem__(self, index):\n",
        "        return self.X_data[index], self.y_data[index]\n",
        "\n",
        "    def __len__ (self):\n",
        "        return len(self.X_data)\n",
        "\n",
        "\n",
        "val_data = ValData(X_val, y_val)\n",
        "\n",
        "## test data\n",
        "class TestData(Dataset):\n",
        "\n",
        "    def __init__(self, X_data, y_data):\n",
        "        self.X_data = X_data\n",
        "        self.y_data = y_data\n",
        "\n",
        "    def __getitem__(self, index):\n",
        "        return self.X_data[index], self.y_data[index]\n",
        "\n",
        "    def __len__ (self):\n",
        "        return len(self.X_data)\n",
        "\n",
        "\n",
        "test_data = TestData(X_test, y_test)"
      ]
    },
    {
      "cell_type": "code",
      "execution_count": 482,
      "metadata": {
        "id": "uc8whSsvCuEx"
      },
      "outputs": [],
      "source": [
        "EPOCHS = 50\n",
        "BATCH_SIZE = 8\n",
        "LEARNING_RATE = 0.001"
      ]
    },
    {
      "cell_type": "code",
      "execution_count": 483,
      "metadata": {
        "id": "zcNASJP4CwRY"
      },
      "outputs": [],
      "source": [
        "train_loader = DataLoader(dataset=train_data, batch_size=BATCH_SIZE, shuffle=True)\n",
        "test_loader = DataLoader(dataset=test_data, batch_size=1)"
      ]
    },
    {
      "cell_type": "code",
      "execution_count": 484,
      "metadata": {
        "id": "aZRNOMv-CzS8"
      },
      "outputs": [],
      "source": [
        "import torch.optim as optim\n",
        "criterion = nn.BCEWithLogitsLoss()\n",
        "optimizer = optim.Adam(model.parameters(), lr=LEARNING_RATE)"
      ]
    },
    {
      "cell_type": "code",
      "execution_count": 485,
      "metadata": {},
      "outputs": [
        {
          "name": "stdout",
          "output_type": "stream",
          "text": [
            "31\n",
            "<torch.utils.data.dataloader.DataLoader object at 0x000001C6AC6FB280>\n"
          ]
        }
      ],
      "source": [
        "print(len(train_loader))\n",
        "print(train_loader)"
      ]
    },
    {
      "cell_type": "code",
      "execution_count": 486,
      "metadata": {
        "colab": {
          "base_uri": "https://localhost:8080/"
        },
        "id": "by_qiNMVC2oX",
        "outputId": "fc7c1c34-5409-4665-986e-f97f86f1b7ea"
      },
      "outputs": [
        {
          "name": "stdout",
          "output_type": "stream",
          "text": [
            "Epoch 001: | Loss: 0.72009 | Acc: 53.323 | Val_Loss: 0.67493 | Val_Acc: 58.065\n",
            "Epoch 002: | Loss: 0.65573 | Acc: 59.742 | Val_Loss: 0.65779 | Val_Acc: 51.613\n",
            "Epoch 003: | Loss: 0.62368 | Acc: 65.710 | Val_Loss: 0.64568 | Val_Acc: 61.290\n",
            "Epoch 004: | Loss: 0.63162 | Acc: 66.032 | Val_Loss: 0.69703 | Val_Acc: 54.839\n",
            "Epoch 005: | Loss: 0.61713 | Acc: 66.710 | Val_Loss: 0.64160 | Val_Acc: 61.290\n",
            "Epoch 006: | Loss: 0.61819 | Acc: 67.710 | Val_Loss: 0.66834 | Val_Acc: 64.516\n",
            "Epoch 007: | Loss: 0.58605 | Acc: 69.581 | Val_Loss: 0.69293 | Val_Acc: 48.387\n",
            "Epoch 008: | Loss: 0.63136 | Acc: 64.645 | Val_Loss: 0.72882 | Val_Acc: 54.839\n",
            "Epoch 009: | Loss: 0.61000 | Acc: 65.968 | Val_Loss: 0.71542 | Val_Acc: 54.839\n",
            "Epoch 010: | Loss: 0.60883 | Acc: 69.645 | Val_Loss: 0.66094 | Val_Acc: 54.839\n",
            "Epoch 011: | Loss: 0.61057 | Acc: 69.000 | Val_Loss: 0.73049 | Val_Acc: 54.839\n",
            "Epoch 012: | Loss: 0.59768 | Acc: 69.548 | Val_Loss: 0.68688 | Val_Acc: 51.613\n",
            "Epoch 013: | Loss: 0.60560 | Acc: 70.710 | Val_Loss: 0.70231 | Val_Acc: 51.613\n",
            "Epoch 014: | Loss: 0.61920 | Acc: 67.548 | Val_Loss: 0.64806 | Val_Acc: 54.839\n",
            "Epoch 015: | Loss: 0.55618 | Acc: 72.935 | Val_Loss: 0.63636 | Val_Acc: 58.065\n",
            "Epoch 016: | Loss: 0.57762 | Acc: 70.677 | Val_Loss: 0.64633 | Val_Acc: 54.839\n",
            "Epoch 017: | Loss: 0.58409 | Acc: 69.839 | Val_Loss: 0.64831 | Val_Acc: 54.839\n",
            "Epoch 018: | Loss: 0.57988 | Acc: 72.581 | Val_Loss: 0.67963 | Val_Acc: 54.839\n",
            "Epoch 019: | Loss: 0.56508 | Acc: 73.129 | Val_Loss: 0.75529 | Val_Acc: 54.839\n",
            "Epoch 020: | Loss: 0.58003 | Acc: 74.613 | Val_Loss: 0.64536 | Val_Acc: 64.516\n",
            "Epoch 021: | Loss: 0.58232 | Acc: 68.419 | Val_Loss: 0.63969 | Val_Acc: 61.290\n",
            "Epoch 022: | Loss: 0.55103 | Acc: 72.774 | Val_Loss: 0.66392 | Val_Acc: 58.065\n",
            "Epoch 023: | Loss: 0.57087 | Acc: 72.742 | Val_Loss: 0.64053 | Val_Acc: 67.742\n",
            "Epoch 024: | Loss: 0.57544 | Acc: 72.258 | Val_Loss: 0.62852 | Val_Acc: 67.742\n",
            "Epoch 025: | Loss: 0.55376 | Acc: 74.419 | Val_Loss: 0.67738 | Val_Acc: 54.839\n",
            "Epoch 026: | Loss: 0.59152 | Acc: 72.484 | Val_Loss: 1.10653 | Val_Acc: 54.839\n",
            "Epoch 027: | Loss: 0.57256 | Acc: 73.323 | Val_Loss: 1.61610 | Val_Acc: 58.065\n",
            "Epoch 028: | Loss: 0.58749 | Acc: 68.677 | Val_Loss: 0.66204 | Val_Acc: 61.290\n",
            "Epoch 029: | Loss: 0.56086 | Acc: 71.452 | Val_Loss: 0.97964 | Val_Acc: 67.742\n",
            "Epoch 030: | Loss: 0.57115 | Acc: 72.581 | Val_Loss: 0.62104 | Val_Acc: 67.742\n",
            "Epoch 031: | Loss: 0.54353 | Acc: 74.065 | Val_Loss: 0.64971 | Val_Acc: 67.742\n",
            "Epoch 032: | Loss: 0.55370 | Acc: 73.742 | Val_Loss: 0.89115 | Val_Acc: 54.839\n",
            "Epoch 033: | Loss: 0.56115 | Acc: 72.355 | Val_Loss: 0.85598 | Val_Acc: 54.839\n",
            "Epoch 034: | Loss: 0.59256 | Acc: 69.452 | Val_Loss: 0.80684 | Val_Acc: 58.065\n",
            "Epoch 035: | Loss: 0.59969 | Acc: 72.581 | Val_Loss: 0.70033 | Val_Acc: 54.839\n",
            "Epoch 036: | Loss: 0.57419 | Acc: 73.710 | Val_Loss: 0.72344 | Val_Acc: 54.839\n",
            "Epoch 037: | Loss: 0.55887 | Acc: 76.032 | Val_Loss: 0.79959 | Val_Acc: 54.839\n",
            "Epoch 038: | Loss: 0.56948 | Acc: 72.871 | Val_Loss: 0.74134 | Val_Acc: 58.065\n",
            "Epoch 039: | Loss: 0.57460 | Acc: 73.452 | Val_Loss: 0.78642 | Val_Acc: 54.839\n",
            "Epoch 040: | Loss: 0.55415 | Acc: 73.548 | Val_Loss: 0.72306 | Val_Acc: 54.839\n",
            "Epoch 041: | Loss: 0.55852 | Acc: 74.677 | Val_Loss: 0.67247 | Val_Acc: 61.290\n",
            "Epoch 042: | Loss: 0.57260 | Acc: 72.419 | Val_Loss: 0.63018 | Val_Acc: 61.290\n",
            "Epoch 043: | Loss: 0.54497 | Acc: 76.000 | Val_Loss: 0.82329 | Val_Acc: 54.839\n",
            "Epoch 044: | Loss: 0.55902 | Acc: 74.548 | Val_Loss: 0.74022 | Val_Acc: 54.839\n",
            "Epoch 045: | Loss: 0.56035 | Acc: 74.645 | Val_Loss: 0.73603 | Val_Acc: 54.839\n",
            "Epoch 046: | Loss: 0.54335 | Acc: 75.452 | Val_Loss: 0.79185 | Val_Acc: 58.065\n",
            "Epoch 047: | Loss: 0.55003 | Acc: 75.161 | Val_Loss: 0.71910 | Val_Acc: 54.839\n",
            "Epoch 048: | Loss: 0.55457 | Acc: 73.000 | Val_Loss: 1.22888 | Val_Acc: 58.065\n",
            "Epoch 049: | Loss: 0.53435 | Acc: 74.613 | Val_Loss: 0.97192 | Val_Acc: 67.742\n",
            "Epoch 050: | Loss: 0.54901 | Acc: 75.516 | Val_Loss: 0.74658 | Val_Acc: 67.742\n"
          ]
        }
      ],
      "source": [
        "\n",
        "for e in range(1, EPOCHS+1):\n",
        "    epoch_loss = 0\n",
        "    epoch_acc = 0\n",
        "    model.train()\n",
        "    for X_batch, y_batch in train_loader:\n",
        "        #print(\"w.requires_grad:\",X_batch.requires_grad)\n",
        "        X_batch, y_batch = X_batch.to(device), y_batch.to(device)\n",
        "        optimizer.zero_grad()\n",
        "\n",
        "        y_pred = model(X_batch.float())\n",
        "        # print(f\"y_pred = {y_pred}\")\n",
        "        #y_pred = (y_pred>0.5).float()\n",
        "        #print(f\"y_pred = {y_pred}\")\n",
        "        #print(f\"y_batch.unsqueeze(1) = {y_batch.unsqueeze(1)}\")\n",
        "\n",
        "        loss = criterion(y_pred.float(), y_batch.unsqueeze(1).float())\n",
        "        acc = binary_acc(y_pred.float(), y_batch.unsqueeze(1).float())\n",
        "\n",
        "        loss.backward()\n",
        "        optimizer.step()\n",
        "\n",
        "        epoch_loss += loss.item()\n",
        "        epoch_acc += acc.item()\n",
        "    val_loss = 0\n",
        "    val_accuracy = 0\n",
        "    model.eval()\n",
        "    for X_batch, y_batch in test_loader:\n",
        "        X_batch, y_batch = X_batch.to(device), y_batch.to(device)\n",
        "        y_pred = model(X_batch.float())\n",
        "        loss = criterion(y_pred.float(), y_batch.unsqueeze(1).float())\n",
        "        acc = binary_acc(y_pred.float(), y_batch.unsqueeze(1).float())\n",
        "        val_loss += loss.item()\n",
        "        val_accuracy += acc.item()\n",
        "\n",
        "    print(f'Epoch {e+0:03}: | Loss: {epoch_loss/len(train_loader):.5f} | Acc: {epoch_acc/len(train_loader):.3f} | Val_Loss: {val_loss/len(test_loader):.5f} | Val_Acc: {val_accuracy/len(test_loader):.3f}')\n",
        "    #print(f'Epoch {e+0:03}: | Loss: {epoch_loss/len(train_loader):.5f} | Acc: {epoch_acc/len(train_loader):.3f}')"
      ]
    },
    {
      "cell_type": "code",
      "execution_count": null,
      "metadata": {
        "id": "m2a7DTkzC5Vy"
      },
      "outputs": [],
      "source": [
        "#PATH = './DeFi_Supervised_v1.pth'\n",
        "#PATH = './DeFi_Ablation_v2.pth'\n",
        "PATH = './DeFi_Ablation_v3.pth'\n",
        "#torch.save(model, PATH)"
      ]
    },
    {
      "cell_type": "code",
      "execution_count": null,
      "metadata": {
        "colab": {
          "base_uri": "https://localhost:8080/"
        },
        "id": "izEn8HI6C-NP",
        "outputId": "5f23c6ca-52a9-4e98-bc7c-14750f5fd644"
      },
      "outputs": [
        {
          "data": {
            "text/plain": [
              "Classifier(\n",
              "  (position_embedding): Embedding(108, 7)\n",
              "  (encoder): TransformerEncoder(\n",
              "    (layers): ModuleList(\n",
              "      (0): TransformerEncoderLayer(\n",
              "        (self_attn): MultiheadAttention(\n",
              "          (out_proj): NonDynamicallyQuantizableLinear(in_features=7, out_features=7, bias=True)\n",
              "        )\n",
              "        (linear1): Linear(in_features=7, out_features=8, bias=True)\n",
              "        (dropout): Dropout(p=0.5, inplace=False)\n",
              "        (linear2): Linear(in_features=8, out_features=7, bias=True)\n",
              "        (norm1): LayerNorm((7,), eps=1e-05, elementwise_affine=True)\n",
              "        (norm2): LayerNorm((7,), eps=1e-05, elementwise_affine=True)\n",
              "        (dropout1): Dropout(p=0.5, inplace=False)\n",
              "        (dropout2): Dropout(p=0.5, inplace=False)\n",
              "      )\n",
              "      (1): TransformerEncoderLayer(\n",
              "        (self_attn): MultiheadAttention(\n",
              "          (out_proj): NonDynamicallyQuantizableLinear(in_features=7, out_features=7, bias=True)\n",
              "        )\n",
              "        (linear1): Linear(in_features=7, out_features=8, bias=True)\n",
              "        (dropout): Dropout(p=0.5, inplace=False)\n",
              "        (linear2): Linear(in_features=8, out_features=7, bias=True)\n",
              "        (norm1): LayerNorm((7,), eps=1e-05, elementwise_affine=True)\n",
              "        (norm2): LayerNorm((7,), eps=1e-05, elementwise_affine=True)\n",
              "        (dropout1): Dropout(p=0.5, inplace=False)\n",
              "        (dropout2): Dropout(p=0.5, inplace=False)\n",
              "      )\n",
              "      (2): TransformerEncoderLayer(\n",
              "        (self_attn): MultiheadAttention(\n",
              "          (out_proj): NonDynamicallyQuantizableLinear(in_features=7, out_features=7, bias=True)\n",
              "        )\n",
              "        (linear1): Linear(in_features=7, out_features=8, bias=True)\n",
              "        (dropout): Dropout(p=0.5, inplace=False)\n",
              "        (linear2): Linear(in_features=8, out_features=7, bias=True)\n",
              "        (norm1): LayerNorm((7,), eps=1e-05, elementwise_affine=True)\n",
              "        (norm2): LayerNorm((7,), eps=1e-05, elementwise_affine=True)\n",
              "        (dropout1): Dropout(p=0.5, inplace=False)\n",
              "        (dropout2): Dropout(p=0.5, inplace=False)\n",
              "      )\n",
              "      (3): TransformerEncoderLayer(\n",
              "        (self_attn): MultiheadAttention(\n",
              "          (out_proj): NonDynamicallyQuantizableLinear(in_features=7, out_features=7, bias=True)\n",
              "        )\n",
              "        (linear1): Linear(in_features=7, out_features=8, bias=True)\n",
              "        (dropout): Dropout(p=0.5, inplace=False)\n",
              "        (linear2): Linear(in_features=8, out_features=7, bias=True)\n",
              "        (norm1): LayerNorm((7,), eps=1e-05, elementwise_affine=True)\n",
              "        (norm2): LayerNorm((7,), eps=1e-05, elementwise_affine=True)\n",
              "        (dropout1): Dropout(p=0.5, inplace=False)\n",
              "        (dropout2): Dropout(p=0.5, inplace=False)\n",
              "      )\n",
              "      (4): TransformerEncoderLayer(\n",
              "        (self_attn): MultiheadAttention(\n",
              "          (out_proj): NonDynamicallyQuantizableLinear(in_features=7, out_features=7, bias=True)\n",
              "        )\n",
              "        (linear1): Linear(in_features=7, out_features=8, bias=True)\n",
              "        (dropout): Dropout(p=0.5, inplace=False)\n",
              "        (linear2): Linear(in_features=8, out_features=7, bias=True)\n",
              "        (norm1): LayerNorm((7,), eps=1e-05, elementwise_affine=True)\n",
              "        (norm2): LayerNorm((7,), eps=1e-05, elementwise_affine=True)\n",
              "        (dropout1): Dropout(p=0.5, inplace=False)\n",
              "        (dropout2): Dropout(p=0.5, inplace=False)\n",
              "      )\n",
              "      (5): TransformerEncoderLayer(\n",
              "        (self_attn): MultiheadAttention(\n",
              "          (out_proj): NonDynamicallyQuantizableLinear(in_features=7, out_features=7, bias=True)\n",
              "        )\n",
              "        (linear1): Linear(in_features=7, out_features=8, bias=True)\n",
              "        (dropout): Dropout(p=0.5, inplace=False)\n",
              "        (linear2): Linear(in_features=8, out_features=7, bias=True)\n",
              "        (norm1): LayerNorm((7,), eps=1e-05, elementwise_affine=True)\n",
              "        (norm2): LayerNorm((7,), eps=1e-05, elementwise_affine=True)\n",
              "        (dropout1): Dropout(p=0.5, inplace=False)\n",
              "        (dropout2): Dropout(p=0.5, inplace=False)\n",
              "      )\n",
              "      (6): TransformerEncoderLayer(\n",
              "        (self_attn): MultiheadAttention(\n",
              "          (out_proj): NonDynamicallyQuantizableLinear(in_features=7, out_features=7, bias=True)\n",
              "        )\n",
              "        (linear1): Linear(in_features=7, out_features=8, bias=True)\n",
              "        (dropout): Dropout(p=0.5, inplace=False)\n",
              "        (linear2): Linear(in_features=8, out_features=7, bias=True)\n",
              "        (norm1): LayerNorm((7,), eps=1e-05, elementwise_affine=True)\n",
              "        (norm2): LayerNorm((7,), eps=1e-05, elementwise_affine=True)\n",
              "        (dropout1): Dropout(p=0.5, inplace=False)\n",
              "        (dropout2): Dropout(p=0.5, inplace=False)\n",
              "      )\n",
              "      (7): TransformerEncoderLayer(\n",
              "        (self_attn): MultiheadAttention(\n",
              "          (out_proj): NonDynamicallyQuantizableLinear(in_features=7, out_features=7, bias=True)\n",
              "        )\n",
              "        (linear1): Linear(in_features=7, out_features=8, bias=True)\n",
              "        (dropout): Dropout(p=0.5, inplace=False)\n",
              "        (linear2): Linear(in_features=8, out_features=7, bias=True)\n",
              "        (norm1): LayerNorm((7,), eps=1e-05, elementwise_affine=True)\n",
              "        (norm2): LayerNorm((7,), eps=1e-05, elementwise_affine=True)\n",
              "        (dropout1): Dropout(p=0.5, inplace=False)\n",
              "        (dropout2): Dropout(p=0.5, inplace=False)\n",
              "      )\n",
              "    )\n",
              "  )\n",
              "  (binary_classifier): BinaryClassification(\n",
              "    (layer_1): Linear(in_features=756, out_features=64, bias=True)\n",
              "    (layer_2): Linear(in_features=64, out_features=64, bias=True)\n",
              "    (layer_out): Linear(in_features=64, out_features=1, bias=True)\n",
              "    (relu): ReLU()\n",
              "    (dropout): Dropout(p=0.1, inplace=False)\n",
              "    (batchnorm1): BatchNorm1d(64, eps=1e-05, momentum=0.1, affine=True, track_running_stats=True)\n",
              "    (batchnorm2): BatchNorm1d(64, eps=1e-05, momentum=0.1, affine=True, track_running_stats=True)\n",
              "  )\n",
              ")"
            ]
          },
          "execution_count": 9,
          "metadata": {},
          "output_type": "execute_result"
        }
      ],
      "source": [
        "#PATH = './DeFi_Ablation_v1.pth'\n",
        "#PATH = './DeFi_Ablation_v2.pth'\n",
        "PATH = './DeFi_Ablation_v3.pth'\n",
        "loaded_model = torch.load(PATH)\n",
        "loaded_model.eval()"
      ]
    },
    {
      "cell_type": "code",
      "execution_count": null,
      "metadata": {
        "id": "cZ0o2hiGDDfj"
      },
      "outputs": [],
      "source": [
        "import matplotlib.pyplot as plt\n",
        "from sklearn.metrics import confusion_matrix\n",
        "import seaborn as sn\n",
        "import pandas as pd"
      ]
    },
    {
      "cell_type": "code",
      "execution_count": null,
      "metadata": {
        "id": "sGBwIMGUDGdB"
      },
      "outputs": [],
      "source": [
        "y_pred = []\n",
        "y_true = []\n",
        "sigmoid = nn.Sigmoid()\n",
        "\n",
        "for X_batch, y_batch in test_loader:\n",
        "        #print(\"w.requires_grad:\",X_batch.requires_grad)\n",
        "        X_batch, y_batch = X_batch.to(device), y_batch.to(device)\n",
        "        y_batch_pred = torch.round(sigmoid(loaded_model(X_batch.float())))\n",
        "        y_pred.extend(y_batch_pred.cpu().detach().numpy())\n",
        "        y_true.extend(y_batch.cpu().detach().numpy())"
      ]
    },
    {
      "cell_type": "code",
      "execution_count": null,
      "metadata": {
        "colab": {
          "base_uri": "https://localhost:8080/"
        },
        "id": "CSzmhsFfDKu3",
        "outputId": "5879c768-5ff1-4583-dc90-f1166fd16bf3"
      },
      "outputs": [
        {
          "name": "stdout",
          "output_type": "stream",
          "text": [
            "2427\n",
            "0.992583436341162\n"
          ]
        }
      ],
      "source": [
        "count_true = 0\n",
        "for i in range(len(y_pred)):\n",
        "  if y_true[i]==y_pred[i]:\n",
        "    count_true+=1\n",
        "acc = count_true/len(y_pred)\n",
        "print(len(y_test))\n",
        "print(acc)"
      ]
    },
    {
      "cell_type": "code",
      "execution_count": null,
      "metadata": {
        "colab": {
          "base_uri": "https://localhost:8080/"
        },
        "id": "vHGP4PFqDMw1",
        "outputId": "0fb2d34c-a7e6-4fe1-ef08-ee76fb58175f"
      },
      "outputs": [
        {
          "data": {
            "text/plain": [
              "(2354, 4, 14, 55)"
            ]
          },
          "execution_count": 55,
          "metadata": {},
          "output_type": "execute_result"
        }
      ],
      "source": [
        "tn, fp, fn, tp = confusion_matrix(y_true, y_pred).ravel()\n",
        "(tn, fp, fn, tp)"
      ]
    },
    {
      "cell_type": "code",
      "execution_count": null,
      "metadata": {
        "colab": {
          "base_uri": "https://localhost:8080/",
          "height": 599
        },
        "id": "bgsv6Tk1DQLi",
        "outputId": "a71ab99b-a206-4038-e58f-ff66341910a9"
      },
      "outputs": [
        {
          "data": {
            "image/png": "[encoded data removed]",
            "text/plain": [
              "<Figure size 1200x700 with 2 Axes>"
            ]
          },
          "metadata": {},
          "output_type": "display_data"
        }
      ],
      "source": [
        "cf_matrix = confusion_matrix(y_true, y_pred)\n",
        "df_cm = pd.DataFrame(cf_matrix / np.sum(cf_matrix, axis=1), index = ['0','1'],\n",
        "                     columns = ['0','1'])\n",
        "plt.figure(figsize = (12,7))\n",
        "sn.heatmap(df_cm, annot=True)\n",
        "plt.savefig('output.png')"
      ]
    },
    {
      "cell_type": "markdown",
      "metadata": {
        "id": "0GJccHvh7Kmg"
      },
      "source": [
        "**Two token**"
      ]
    },
    {
      "cell_type": "code",
      "execution_count": null,
      "metadata": {
        "id": "R778VOz17Pk7"
      },
      "outputs": [],
      "source": [
        "#Anubis\n",
        "ankh_x1 = np.load(\"ankh_full_x1.npy\", allow_pickle=True)"
      ]
    },
    {
      "cell_type": "code",
      "execution_count": null,
      "metadata": {
        "colab": {
          "base_uri": "https://localhost:8080/"
        },
        "id": "RODlfT087TAH",
        "outputId": "11319c3f-9ff4-4f46-e0c5-99e8f424aa81"
      },
      "outputs": [
        {
          "name": "stdout",
          "output_type": "stream",
          "text": [
            "(108, 7)\n",
            "(1, 108, 7)\n",
            "tensor([[0.0071]], device='cuda:0', grad_fn=<SigmoidBackward0>)\n"
          ]
        },
        {
          "data": {
            "text/plain": [
              "tensor([[0.]], device='cuda:0', grad_fn=<RoundBackward0>)"
            ]
          },
          "execution_count": 15,
          "metadata": {},
          "output_type": "execute_result"
        }
      ],
      "source": [
        "#500\n",
        "\n",
        "for i in range(50,108):\n",
        "  ankh_x1[i] = [0,0,0,0,0,0,0]\n",
        "\n",
        "print(ankh_x1.shape)\n",
        "ankh_x1 = np.reshape(ankh_x1, (1, 108, 7))\n",
        "print(ankh_x1.shape)\n",
        "\n",
        "ankh_x1 = torch.from_numpy(ankh_x1)\n",
        "ankh_x1 = ankh_x1.to(device)\n",
        "\n",
        "sigmoid = nn.Sigmoid()\n",
        "val = sigmoid(loaded_model(ankh_x1.float()))\n",
        "print(val)\n",
        "torch.round(val)"
      ]
    },
    {
      "cell_type": "code",
      "execution_count": null,
      "metadata": {
        "colab": {
          "base_uri": "https://localhost:8080/"
        },
        "id": "B0bNCGzH8Lwf",
        "outputId": "867a719d-b917-4996-ddd5-40008b5e1b3e"
      },
      "outputs": [
        {
          "name": "stdout",
          "output_type": "stream",
          "text": [
            "(108, 7)\n",
            "(1, 108, 7)\n",
            "tensor([[0.2284]], device='cuda:0', grad_fn=<SigmoidBackward0>)\n"
          ]
        },
        {
          "data": {
            "text/plain": [
              "tensor([[0.]], device='cuda:0', grad_fn=<RoundBackward0>)"
            ]
          },
          "execution_count": 27,
          "metadata": {},
          "output_type": "execute_result"
        }
      ],
      "source": [
        "#750\n",
        "\n",
        "for i in range(75,108):\n",
        "  ankh_x1[i] = [0,0,0,0,0,0,0]\n",
        "\n",
        "print(ankh_x1.shape)\n",
        "ankh_x1 = np.reshape(ankh_x1, (1, 108, 7))\n",
        "print(ankh_x1.shape)\n",
        "\n",
        "ankh_x1 = torch.from_numpy(ankh_x1)\n",
        "ankh_x1 = ankh_x1.to(device)\n",
        "\n",
        "sigmoid = nn.Sigmoid()\n",
        "val = sigmoid(loaded_model(ankh_x1.float()))\n",
        "print(val)\n",
        "torch.round(val)"
      ]
    },
    {
      "cell_type": "code",
      "execution_count": null,
      "metadata": {
        "colab": {
          "base_uri": "https://localhost:8080/"
        },
        "id": "GZNvipUc8RXX",
        "outputId": "24db96fb-7b60-43f5-90db-117012bcfd76"
      },
      "outputs": [
        {
          "name": "stdout",
          "output_type": "stream",
          "text": [
            "(108, 7)\n",
            "(1, 108, 7)\n",
            "tensor([[0.9375]], device='cuda:0', grad_fn=<SigmoidBackward0>)\n"
          ]
        },
        {
          "data": {
            "text/plain": [
              "tensor([[1.]], device='cuda:0', grad_fn=<RoundBackward0>)"
            ]
          },
          "execution_count": 29,
          "metadata": {},
          "output_type": "execute_result"
        }
      ],
      "source": [
        "#850\n",
        "\n",
        "for i in range(85,108):\n",
        "  ankh_x1[i] = [0,0,0,0,0,0,0]\n",
        "\n",
        "print(ankh_x1.shape)\n",
        "ankh_x1 = np.reshape(ankh_x1, (1, 108, 7))\n",
        "print(ankh_x1.shape)\n",
        "\n",
        "ankh_x1 = torch.from_numpy(ankh_x1)\n",
        "ankh_x1 = ankh_x1.to(device)\n",
        "\n",
        "sigmoid = nn.Sigmoid()\n",
        "val = sigmoid(loaded_model(ankh_x1.float()))\n",
        "print(val)\n",
        "torch.round(val)"
      ]
    },
    {
      "cell_type": "code",
      "execution_count": null,
      "metadata": {
        "colab": {
          "base_uri": "https://localhost:8080/"
        },
        "id": "D6ehoLVN8eg7",
        "outputId": "19bcfe53-b220-461b-c02f-9ad53745253d"
      },
      "outputs": [
        {
          "name": "stdout",
          "output_type": "stream",
          "text": [
            "(108, 7)\n",
            "(1, 108, 7)\n",
            "tensor([[7.5255e-07]], device='cuda:0', grad_fn=<SigmoidBackward0>)\n"
          ]
        },
        {
          "data": {
            "text/plain": [
              "tensor([[0.]], device='cuda:0', grad_fn=<RoundBackward0>)"
            ]
          },
          "execution_count": 25,
          "metadata": {},
          "output_type": "execute_result"
        }
      ],
      "source": [
        "#full\n",
        "\n",
        "#for i in range(50,108):\n",
        "#  ankh_x1[i] = [0,0,0,0,0,0,0]\n",
        "\n",
        "print(ankh_x1.shape)\n",
        "ankh_x1 = np.reshape(ankh_x1, (1, 108, 7))\n",
        "print(ankh_x1.shape)\n",
        "\n",
        "ankh_x1 = torch.from_numpy(ankh_x1)\n",
        "ankh_x1 = ankh_x1.to(device)\n",
        "\n",
        "sigmoid = nn.Sigmoid()\n",
        "val = sigmoid(loaded_model(ankh_x1.float()))\n",
        "print(val)\n",
        "torch.round(val)"
      ]
    },
    {
      "cell_type": "code",
      "execution_count": null,
      "metadata": {
        "id": "JJQK0TkG8yq9"
      },
      "outputs": [],
      "source": [
        "#Sushi\n",
        "sushi_x1 = np.load(\"sushi_full_x1.npy\", allow_pickle=True)"
      ]
    },
    {
      "cell_type": "code",
      "execution_count": null,
      "metadata": {
        "colab": {
          "base_uri": "https://localhost:8080/"
        },
        "id": "mijpOWkG89dp",
        "outputId": "b7c795fa-de14-4fd4-f32d-d0b4b723e3a7"
      },
      "outputs": [
        {
          "name": "stdout",
          "output_type": "stream",
          "text": [
            "(108, 7)\n",
            "(1, 108, 7)\n",
            "tensor([[0.0580]], device='cuda:0', grad_fn=<SigmoidBackward0>)\n"
          ]
        },
        {
          "data": {
            "text/plain": [
              "tensor([[0.]], device='cuda:0', grad_fn=<RoundBackward0>)"
            ]
          },
          "execution_count": 37,
          "metadata": {},
          "output_type": "execute_result"
        }
      ],
      "source": [
        "#500\n",
        "\n",
        "for i in range(50,108):\n",
        "  sushi_x1[i] = [0,0,0,0,0,0,0]\n",
        "\n",
        "print(sushi_x1.shape)\n",
        "sushi_x1 = np.reshape(sushi_x1, (1, 108, 7))\n",
        "print(sushi_x1.shape)\n",
        "\n",
        "sushi_x1 = torch.from_numpy(sushi_x1)\n",
        "sushi_x1 = sushi_x1.to(device)\n",
        "\n",
        "sigmoid = nn.Sigmoid()\n",
        "val = sigmoid(loaded_model(sushi_x1.float()))\n",
        "print(val)\n",
        "torch.round(val)"
      ]
    },
    {
      "cell_type": "code",
      "execution_count": null,
      "metadata": {
        "colab": {
          "base_uri": "https://localhost:8080/"
        },
        "id": "An3228-l9Fkj",
        "outputId": "f8c6818a-9446-4a0e-a58e-a705903927e4"
      },
      "outputs": [
        {
          "name": "stdout",
          "output_type": "stream",
          "text": [
            "(108, 7)\n",
            "(1, 108, 7)\n",
            "tensor([[0.9919]], device='cuda:0', grad_fn=<SigmoidBackward0>)\n"
          ]
        },
        {
          "data": {
            "text/plain": [
              "tensor([[1.]], device='cuda:0', grad_fn=<RoundBackward0>)"
            ]
          },
          "execution_count": 39,
          "metadata": {},
          "output_type": "execute_result"
        }
      ],
      "source": [
        "#750\n",
        "\n",
        "for i in range(75,108):\n",
        "  sushi_x1[i] = [0,0,0,0,0,0,0]\n",
        "\n",
        "print(sushi_x1.shape)\n",
        "sushi_x1 = np.reshape(sushi_x1, (1, 108, 7))\n",
        "print(sushi_x1.shape)\n",
        "\n",
        "sushi_x1 = torch.from_numpy(sushi_x1)\n",
        "sushi_x1 = sushi_x1.to(device)\n",
        "\n",
        "sigmoid = nn.Sigmoid()\n",
        "val = sigmoid(loaded_model(sushi_x1.float()))\n",
        "print(val)\n",
        "torch.round(val)"
      ]
    },
    {
      "cell_type": "code",
      "execution_count": null,
      "metadata": {
        "colab": {
          "base_uri": "https://localhost:8080/"
        },
        "id": "HwaSuG8I84_1",
        "outputId": "befe8a4a-da7a-46cb-fd71-b10e0fcf4979"
      },
      "outputs": [
        {
          "name": "stdout",
          "output_type": "stream",
          "text": [
            "(108, 7)\n",
            "(1, 108, 7)\n",
            "tensor([[0.9957]], device='cuda:0', grad_fn=<SigmoidBackward0>)\n"
          ]
        },
        {
          "data": {
            "text/plain": [
              "tensor([[1.]], device='cuda:0', grad_fn=<RoundBackward0>)"
            ]
          },
          "execution_count": 41,
          "metadata": {},
          "output_type": "execute_result"
        }
      ],
      "source": [
        "#850\n",
        "\n",
        "for i in range(85,108):\n",
        "  sushi_x1[i] = [0,0,0,0,0,0,0]\n",
        "\n",
        "print(sushi_x1.shape)\n",
        "sushi_x1 = np.reshape(sushi_x1, (1, 108, 7))\n",
        "print(sushi_x1.shape)\n",
        "\n",
        "sushi_x1 = torch.from_numpy(sushi_x1)\n",
        "sushi_x1 = sushi_x1.to(device)\n",
        "\n",
        "sigmoid = nn.Sigmoid()\n",
        "val = sigmoid(loaded_model(sushi_x1.float()))\n",
        "print(val)\n",
        "torch.round(val)"
      ]
    },
    {
      "cell_type": "code",
      "execution_count": null,
      "metadata": {
        "colab": {
          "base_uri": "https://localhost:8080/"
        },
        "id": "u8j-eq0S-8NE",
        "outputId": "b03a734f-0951-4356-9af6-917866b002ea"
      },
      "outputs": [
        {
          "name": "stdout",
          "output_type": "stream",
          "text": [
            "(108, 7)\n",
            "(1, 108, 7)\n",
            "tensor([[1.]], device='cuda:0', grad_fn=<SigmoidBackward0>)\n"
          ]
        },
        {
          "data": {
            "text/plain": [
              "tensor([[1.]], device='cuda:0', grad_fn=<RoundBackward0>)"
            ]
          },
          "execution_count": 43,
          "metadata": {},
          "output_type": "execute_result"
        }
      ],
      "source": [
        "#Full\n",
        "\n",
        "print(sushi_x1.shape)\n",
        "sushi_x1 = np.reshape(sushi_x1, (1, 108, 7))\n",
        "print(sushi_x1.shape)\n",
        "\n",
        "sushi_x1 = torch.from_numpy(sushi_x1)\n",
        "sushi_x1 = sushi_x1.to(device)\n",
        "\n",
        "sigmoid = nn.Sigmoid()\n",
        "val = sigmoid(loaded_model(sushi_x1.float()))\n",
        "print(val)\n",
        "torch.round(val)"
      ]
    },
    {
      "cell_type": "markdown",
      "metadata": {
        "id": "wddTMx_0FvUe"
      },
      "source": [
        "**APE**"
      ]
    },
    {
      "cell_type": "code",
      "execution_count": null,
      "metadata": {
        "colab": {
          "base_uri": "https://localhost:8080/",
          "height": 73
        },
        "id": "DYfxUxHXF14X",
        "outputId": "4395ee73-0dd7-4d1a-d5f1-65f67fed28b2"
      },
      "outputs": [
        {
          "data": {
            "text/html": [
              "\n",
              "     <input type=\"file\" id=\"files-db7de152-32b4-4e17-a237-d14ef2dcfc17\" name=\"files[]\" multiple disabled\n",
              "        style=\"border:none\" />\n",
              "     <output id=\"result-db7de152-32b4-4e17-a237-d14ef2dcfc17\">\n",
              "      Upload widget is only available when the cell has been executed in the\n",
              "      current browser session. Please rerun this cell to enable.\n",
              "      </output>\n",
              "      <script>// Copyright 2017 Google LLC\n",
              "//\n",
              "// Licensed under the Apache License, Version 2.0 (the \"License\");\n",
              "// you may not use this file except in compliance with the License.\n",
              "// You may obtain a copy of the License at\n",
              "//\n",
              "//      http://www.apache.org/licenses/LICENSE-2.0\n",
              "//\n",
              "// Unless required by applicable law or agreed to in writing, software\n",
              "// distributed under the License is distributed on an \"AS IS\" BASIS,\n",
              "// WITHOUT WARRANTIES OR CONDITIONS OF ANY KIND, either express or implied.\n",
              "// See the License for the specific language governing permissions and\n",
              "// limitations under the License.\n",
              "\n",
              "/**\n",
              " * @fileoverview Helpers for google.colab Python module.\n",
              " */\n",
              "(function(scope) {\n",
              "function span(text, styleAttributes = {}) {\n",
              "  const element = document.createElement('span');\n",
              "  element.textContent = text;\n",
              "  for (const key of Object.keys(styleAttributes)) {\n",
              "    element.style[key] = styleAttributes[key];\n",
              "  }\n",
              "  return element;\n",
              "}\n",
              "\n",
              "// Max number of bytes which will be uploaded at a time.\n",
              "const MAX_PAYLOAD_SIZE = 100 * 1024;\n",
              "\n",
              "function _uploadFiles(inputId, outputId) {\n",
              "  const steps = uploadFilesStep(inputId, outputId);\n",
              "  const outputElement = document.getElementById(outputId);\n",
              "  // Cache steps on the outputElement to make it available for the next call\n",
              "  // to uploadFilesContinue from Python.\n",
              "  outputElement.steps = steps;\n",
              "\n",
              "  return _uploadFilesContinue(outputId);\n",
              "}\n",
              "\n",
              "// This is roughly an async generator (not supported in the browser yet),\n",
              "// where there are multiple asynchronous steps and the Python side is going\n",
              "// to poll for completion of each step.\n",
              "// This uses a Promise to block the python side on completion of each step,\n",
              "// then passes the result of the previous step as the input to the next step.\n",
              "function _uploadFilesContinue(outputId) {\n",
              "  const outputElement = document.getElementById(outputId);\n",
              "  const steps = outputElement.steps;\n",
              "\n",
              "  const next = steps.next(outputElement.lastPromiseValue);\n",
              "  return Promise.resolve(next.value.promise).then((value) => {\n",
              "    // Cache the last promise value to make it available to the next\n",
              "    // step of the generator.\n",
              "    outputElement.lastPromiseValue = value;\n",
              "    return next.value.response;\n",
              "  });\n",
              "}\n",
              "\n",
              "/**\n",
              " * Generator function which is called between each async step of the upload\n",
              " * process.\n",
              " * @param {string} inputId Element ID of the input file picker element.\n",
              " * @param {string} outputId Element ID of the output display.\n",
              " * @return {!Iterable<!Object>} Iterable of next steps.\n",
              " */\n",
              "function* uploadFilesStep(inputId, outputId) {\n",
              "  const inputElement = document.getElementById(inputId);\n",
              "  inputElement.disabled = false;\n",
              "\n",
              "  const outputElement = document.getElementById(outputId);\n",
              "  outputElement.innerHTML = '';\n",
              "\n",
              "  const pickedPromise = new Promise((resolve) => {\n",
              "    inputElement.addEventListener('change', (e) => {\n",
              "      resolve(e.target.files);\n",
              "    });\n",
              "  });\n",
              "\n",
              "  const cancel = document.createElement('button');\n",
              "  inputElement.parentElement.appendChild(cancel);\n",
              "  cancel.textContent = 'Cancel upload';\n",
              "  const cancelPromise = new Promise((resolve) => {\n",
              "    cancel.onclick = () => {\n",
              "      resolve(null);\n",
              "    };\n",
              "  });\n",
              "\n",
              "  // Wait for the user to pick the files.\n",
              "  const files = yield {\n",
              "    promise: Promise.race([pickedPromise, cancelPromise]),\n",
              "    response: {\n",
              "      action: 'starting',\n",
              "    }\n",
              "  };\n",
              "\n",
              "  cancel.remove();\n",
              "\n",
              "  // Disable the input element since further picks are not allowed.\n",
              "  inputElement.disabled = true;\n",
              "\n",
              "  if (!files) {\n",
              "    return {\n",
              "      response: {\n",
              "        action: 'complete',\n",
              "      }\n",
              "    };\n",
              "  }\n",
              "\n",
              "  for (const file of files) {\n",
              "    const li = document.createElement('li');\n",
              "    li.append(span(file.name, {fontWeight: 'bold'}));\n",
              "    li.append(span(\n",
              "        `(${file.type || 'n/a'}) - ${file.size} bytes, ` +\n",
              "        `last modified: ${\n",
              "            file.lastModifiedDate ? file.lastModifiedDate.toLocaleDateString() :\n",
              "                                    'n/a'} - `));\n",
              "    const percent = span('0% done');\n",
              "    li.appendChild(percent);\n",
              "\n",
              "    outputElement.appendChild(li);\n",
              "\n",
              "    const fileDataPromise = new Promise((resolve) => {\n",
              "      const reader = new FileReader();\n",
              "      reader.onload = (e) => {\n",
              "        resolve(e.target.result);\n",
              "      };\n",
              "      reader.readAsArrayBuffer(file);\n",
              "    });\n",
              "    // Wait for the data to be ready.\n",
              "    let fileData = yield {\n",
              "      promise: fileDataPromise,\n",
              "      response: {\n",
              "        action: 'continue',\n",
              "      }\n",
              "    };\n",
              "\n",
              "    // Use a chunked sending to avoid message size limits. See b/62115660.\n",
              "    let position = 0;\n",
              "    do {\n",
              "      const length = Math.min(fileData.byteLength - position, MAX_PAYLOAD_SIZE);\n",
              "      const chunk = new Uint8Array(fileData, position, length);\n",
              "      position += length;\n",
              "\n",
              "      const base64 = btoa(String.fromCharCode.apply(null, chunk));\n",
              "      yield {\n",
              "        response: {\n",
              "          action: 'append',\n",
              "          file: file.name,\n",
              "          data: base64,\n",
              "        },\n",
              "      };\n",
              "\n",
              "      let percentDone = fileData.byteLength === 0 ?\n",
              "          100 :\n",
              "          Math.round((position / fileData.byteLength) * 100);\n",
              "      percent.textContent = `${percentDone}% done`;\n",
              "\n",
              "    } while (position < fileData.byteLength);\n",
              "  }\n",
              "\n",
              "  // All done.\n",
              "  yield {\n",
              "    response: {\n",
              "      action: 'complete',\n",
              "    }\n",
              "  };\n",
              "}\n",
              "\n",
              "scope.google = scope.google || {};\n",
              "scope.google.colab = scope.google.colab || {};\n",
              "scope.google.colab._files = {\n",
              "  _uploadFiles,\n",
              "  _uploadFilesContinue,\n",
              "};\n",
              "})(self);\n",
              "</script> "
            ],
            "text/plain": [
              "<IPython.core.display.HTML object>"
            ]
          },
          "metadata": {},
          "output_type": "display_data"
        },
        {
          "name": "stdout",
          "output_type": "stream",
          "text": [
            "Saving ape_full_x1.npy to ape_full_x1.npy\n"
          ]
        }
      ],
      "source": [
        "from google.colab import files\n",
        "uploaded=files.upload()"
      ]
    },
    {
      "cell_type": "code",
      "execution_count": null,
      "metadata": {
        "id": "J7xOK4d5Fxq1"
      },
      "outputs": [],
      "source": [
        "#Ape\n",
        "x1 = np.load(\"ape_full_x1.npy\", allow_pickle=True)"
      ]
    },
    {
      "cell_type": "code",
      "execution_count": null,
      "metadata": {
        "colab": {
          "base_uri": "https://localhost:8080/"
        },
        "id": "WYrL8_w9GAYC",
        "outputId": "fde4d624-18b9-4625-a97e-09caeda11ffa"
      },
      "outputs": [
        {
          "name": "stdout",
          "output_type": "stream",
          "text": [
            "(108, 7)\n",
            "(1, 108, 7)\n",
            "tensor([[0.0006]], device='cuda:0', grad_fn=<SigmoidBackward0>)\n"
          ]
        },
        {
          "data": {
            "text/plain": [
              "tensor([[0.]], device='cuda:0', grad_fn=<RoundBackward0>)"
            ]
          },
          "execution_count": 13,
          "metadata": {},
          "output_type": "execute_result"
        }
      ],
      "source": [
        "#500\n",
        "\n",
        "for i in range(50,108):\n",
        "  x1[i] = [0,0,0,0,0,0,0]\n",
        "\n",
        "print(x1.shape)\n",
        "x1 = np.reshape(x1, (1, 108, 7))\n",
        "print(x1.shape)\n",
        "\n",
        "x1 = torch.from_numpy(x1)\n",
        "x1 = x1.to(device)\n",
        "\n",
        "sigmoid = nn.Sigmoid()\n",
        "val = sigmoid(loaded_model(x1.float()))\n",
        "print(val)\n",
        "torch.round(val)"
      ]
    },
    {
      "cell_type": "code",
      "execution_count": null,
      "metadata": {
        "colab": {
          "base_uri": "https://localhost:8080/"
        },
        "id": "q3TmrbnhGIcv",
        "outputId": "629d2479-272d-4c5c-e812-924caef1c3c0"
      },
      "outputs": [
        {
          "name": "stdout",
          "output_type": "stream",
          "text": [
            "(108, 7)\n",
            "(1, 108, 7)\n",
            "tensor([[0.9763]], device='cuda:0', grad_fn=<SigmoidBackward0>)\n"
          ]
        },
        {
          "data": {
            "text/plain": [
              "tensor([[1.]], device='cuda:0', grad_fn=<RoundBackward0>)"
            ]
          },
          "execution_count": 16,
          "metadata": {},
          "output_type": "execute_result"
        }
      ],
      "source": [
        "#750\n",
        "\n",
        "for i in range(75,108):\n",
        "  x1[i] = [0,0,0,0,0,0,0]\n",
        "\n",
        "print(x1.shape)\n",
        "x1 = np.reshape(x1, (1, 108, 7))\n",
        "print(x1.shape)\n",
        "\n",
        "x1 = torch.from_numpy(x1)\n",
        "x1 = x1.to(device)\n",
        "\n",
        "sigmoid = nn.Sigmoid()\n",
        "val = sigmoid(loaded_model(x1.float()))\n",
        "print(val)\n",
        "torch.round(val)"
      ]
    },
    {
      "cell_type": "code",
      "execution_count": null,
      "metadata": {
        "colab": {
          "base_uri": "https://localhost:8080/"
        },
        "id": "t840Bw2GGRzq",
        "outputId": "b94ba91f-1e0c-485c-95bd-ebeba19782ad"
      },
      "outputs": [
        {
          "name": "stdout",
          "output_type": "stream",
          "text": [
            "(108, 7)\n",
            "(1, 108, 7)\n",
            "tensor([[0.9997]], device='cuda:0', grad_fn=<SigmoidBackward0>)\n"
          ]
        },
        {
          "data": {
            "text/plain": [
              "tensor([[1.]], device='cuda:0', grad_fn=<RoundBackward0>)"
            ]
          },
          "execution_count": 18,
          "metadata": {},
          "output_type": "execute_result"
        }
      ],
      "source": [
        "#850\n",
        "\n",
        "for i in range(85,108):\n",
        "  x1[i] = [0,0,0,0,0,0,0]\n",
        "\n",
        "print(x1.shape)\n",
        "x1 = np.reshape(x1, (1, 108, 7))\n",
        "print(x1.shape)\n",
        "\n",
        "x1 = torch.from_numpy(x1)\n",
        "x1 = x1.to(device)\n",
        "\n",
        "sigmoid = nn.Sigmoid()\n",
        "val = sigmoid(loaded_model(x1.float()))\n",
        "print(val)\n",
        "torch.round(val)"
      ]
    },
    {
      "cell_type": "code",
      "execution_count": null,
      "metadata": {
        "colab": {
          "base_uri": "https://localhost:8080/"
        },
        "id": "IR32mru-Gamj",
        "outputId": "b1fb144c-adfe-49af-8d3e-b579835171df"
      },
      "outputs": [
        {
          "name": "stdout",
          "output_type": "stream",
          "text": [
            "(108, 7)\n",
            "(1, 108, 7)\n",
            "tensor([[8.2050e-08]], device='cuda:0', grad_fn=<SigmoidBackward0>)\n"
          ]
        },
        {
          "data": {
            "text/plain": [
              "tensor([[0.]], device='cuda:0', grad_fn=<RoundBackward0>)"
            ]
          },
          "execution_count": 20,
          "metadata": {},
          "output_type": "execute_result"
        }
      ],
      "source": [
        "#Full\n",
        "\n",
        "print(x1.shape)\n",
        "x1 = np.reshape(x1, (1, 108, 7))\n",
        "print(x1.shape)\n",
        "\n",
        "x1 = torch.from_numpy(x1)\n",
        "x1 = x1.to(device)\n",
        "\n",
        "sigmoid = nn.Sigmoid()\n",
        "val = sigmoid(loaded_model(x1.float()))\n",
        "print(val)\n",
        "torch.round(val)"
      ]
    }
  ],
  "metadata": {
    "accelerator": "GPU",
    "colab": {
      "gpuType": "T4",
      "provenance": []
    },
    "kernelspec": {
      "display_name": "Python 3",
      "name": "python3"
    },
    "language_info": {
      "codemirror_mode": {
        "name": "ipython",
        "version": 3
      },
      "file_extension": ".py",
      "mimetype": "text/x-python",
      "name": "python",
      "nbconvert_exporter": "python",
      "pygments_lexer": "ipython3",
      "version": "3.9.0"
    }
  },
  "nbformat": 4,
  "nbformat_minor": 0
}
