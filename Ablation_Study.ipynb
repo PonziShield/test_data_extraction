{
  "cells": [
    {
      "cell_type": "code",
      "execution_count": 35,
      "metadata": {
        "id": "TQ9vaZNjg-Bv"
      },
      "outputs": [],
      "source": [
        "import torch\n",
        "from torch import nn, Tensor\n",
        "from torch.nn import TransformerEncoder, TransformerEncoderLayer\n",
        "import math\n",
        "import numpy as np\n",
        "from sklearn.model_selection import train_test_split"
      ]
    },
    {
      "cell_type": "code",
      "execution_count": 36,
      "metadata": {
        "colab": {
          "base_uri": "https://localhost:8080/",
          "height": 35
        },
        "id": "ZYbnZdbz06pn",
        "outputId": "127ba225-c112-4132-baee-8c0163daae7d"
      },
      "outputs": [
        {
          "data": {
            "text/plain": [
              "'2.1.1+cpu'"
            ]
          },
          "execution_count": 36,
          "metadata": {},
          "output_type": "execute_result"
        }
      ],
      "source": [
        "torch.__version__"
      ]
    },
    {
      "cell_type": "code",
      "execution_count": 37,
      "metadata": {
        "id": "lKX9oYtu6LD0"
      },
      "outputs": [],
      "source": [
        "class BinaryClassification(nn.Module):\n",
        "  def __init__(self, embed_size, device):\n",
        "    super(BinaryClassification, self).__init__()\n",
        "    # Number of input features is embed_size.\n",
        "    self.layer_1 = nn.Linear(embed_size, 64)\n",
        "    self.layer_2 = nn.Linear(64, 64)\n",
        "    self.layer_out = nn.Linear(64, 1)\n",
        "\n",
        "    self.relu = nn.ReLU()\n",
        "    self.dropout = nn.Dropout(p=0.1)\n",
        "    self.batchnorm1 = nn.BatchNorm1d(64)\n",
        "    self.batchnorm2 = nn.BatchNorm1d(64)\n",
        "    self.device = device\n",
        "\n",
        "  def forward(self, inputs):\n",
        "    # print(\"start binary classification\")\n",
        "    # print(inputs.shape)\n",
        "    # print(inputs)\n",
        "    x = self.relu(self.layer_1(inputs))\n",
        "    x = self.batchnorm1(x)\n",
        "    x = self.relu(self.layer_2(x))\n",
        "    x = self.batchnorm2(x)\n",
        "    x = self.dropout(x)\n",
        "    x = self.layer_out(x)\n",
        "    #if math.isnan (x[0][0]):\n",
        "    #  print(src)\n",
        "\n",
        "    return x"
      ]
    },
    {
      "cell_type": "code",
      "execution_count": 38,
      "metadata": {
        "id": "UfthdYqI6W0U"
      },
      "outputs": [],
      "source": [
        "# class Classifier(nn.Module):\n",
        "#   def __init__(self, d_model, seq_len, nhead, dim_feedforward, nlayers, device, dropout = 0.5):\n",
        "#     super(Classifier, self).__init__()\n",
        "#     self.d_model = d_model\n",
        "#     self.seq_len = seq_len\n",
        "#     self.nhead = nhead\n",
        "#     self.dim_feedforward = dim_feedforward\n",
        "#     self.nlayers = nlayers\n",
        "#     self.device = device\n",
        "#     #self.pos_encoder = PositionalEncoding(d_model, dropout)\n",
        "#     self.position_embedding = nn.Embedding(seq_len, d_model)\n",
        "#     encoder_layer = TransformerEncoderLayer(d_model, nhead, dim_feedforward, dropout, batch_first=True)\n",
        "#     self.encoder = TransformerEncoder(encoder_layer, nlayers)\n",
        "#     self.binary_classifier = BinaryClassification(seq_len*d_model, device)\n",
        "\n",
        "\n",
        "#   def forward(self, src: Tensor) -> Tensor:\n",
        "#     # print(\"Classifier forwrd\")\n",
        "#     \"\"\"\n",
        "#     Args:\n",
        "#         src: Tensor, shape [seq_len, batch_size]\n",
        "#         src_mask: Tensor, shape [seq_len, seq_len]\n",
        "#     Returns:\n",
        "#         output Tensor of shape [seq_len, batch_size, ntoken]\n",
        "#     \"\"\"\n",
        "#     N, seq_length, embed_size = src.shape\n",
        "#     positions = torch.arange(0, seq_length).expand(N, seq_length).to(self.device)\n",
        "\n",
        "#     # print(f\"src before positional embeddings: {src.shape}\")\n",
        "#     src_ = src + self.position_embedding(positions)\n",
        "#     # print(f\"src after positional embeddings: {src_.shape}\")\n",
        "#     # print(f\"src after positional embeddings: {src.shape}\")\n",
        "#     # print(src_)\n",
        "#     # print(\"before encoder\")\n",
        "#     output = self.encoder(src_)\n",
        "#     # print(f\"encoder output shape: {output.shape}\")\n",
        "#     # print(output[0])\n",
        "#     # print(output)\n",
        "#     # print(\"after encoder\")\n",
        "#     output = self.binary_classifier(torch.reshape(output, (N, seq_length*embed_size))) \n",
        "#     # output_tx_f = torch.reshape(output, (N, seq_length*embed_size))\n",
        "#     # output = self.binary_classifier(torch.cat((output_tx_f), dim=1)) ##\n",
        "#     return output"
      ]
    },
    {
      "cell_type": "code",
      "execution_count": 39,
      "metadata": {},
      "outputs": [],
      "source": [
        "class Classifier(nn.Module):\n",
        "  def __init__(self, d_model, seq_len, nhead, dim_feedforward, nlayers, device, dropout = 0.5):\n",
        "    super(Classifier, self).__init__()\n",
        "    self.d_model = d_model\n",
        "    self.seq_len = seq_len\n",
        "    self.nhead = nhead\n",
        "    self.dim_feedforward = dim_feedforward\n",
        "    self.nlayers = nlayers\n",
        "    self.device = device\n",
        "    \n",
        "    self.position_embedding = nn.Embedding(seq_len, d_model)\n",
        "    encoder_layer = TransformerEncoderLayer(d_model, nhead, dim_feedforward, dropout, batch_first=True)\n",
        "    self.encoder = TransformerEncoder(encoder_layer, nlayers)\n",
        "    self.binary_classifier = BinaryClassification(seq_len*d_model, device)\n",
        "\n",
        "  def forward(self, src: Tensor) -> Tensor:\n",
        "\n",
        "    \"\"\"\n",
        "    Args:\n",
        "        src: Tensor, shape [seq_len, batch_size]\n",
        "        src_mask: Tensor, shape [seq_len, seq_len]\n",
        "    Returns:\n",
        "        output Tensor of shape [seq_len, batch_size, ntoken]\n",
        "    \"\"\"\n",
        "    N, seq_length, embed_size = src.shape\n",
        "    positions = torch.arange(0, seq_length).expand(N, seq_length).to(self.device)\n",
        "    src_ = src + self.position_embedding(positions)\n",
        "    output1 = self.encoder(src_)\n",
        "    # print(output1.shape)\n",
        "    # print(output1)\n",
        "    output = self.binary_classifier(torch.reshape(output1, (N, seq_length*embed_size))) \n",
        "\n",
        "    return output, output1"
      ]
    },
    {
      "cell_type": "code",
      "execution_count": 40,
      "metadata": {
        "id": "SboFES2e69Y_"
      },
      "outputs": [],
      "source": [
        "device = torch.device(\"cuda\" if torch.cuda.is_available() else \"cpu\")\n",
        "#hyperparameters\n",
        "dim_feedforward=16\n",
        "#dim_feedforward=32\n",
        "nlayers_tx=8"
      ]
    },
    {
      "cell_type": "code",
      "execution_count": 41,
      "metadata": {
        "colab": {
          "base_uri": "https://localhost:8080/"
        },
        "id": "p5_6Jclv616E",
        "outputId": "28dab34d-471d-49f0-ed8d-b75ffd6eeb8f"
      },
      "outputs": [
        {
          "name": "stderr",
          "output_type": "stream",
          "text": [
            "c:\\Users\\sandu\\Desktop\\sem7\\fyp\\App\\.venv\\lib\\site-packages\\torch\\nn\\modules\\transformer.py:282: UserWarning: enable_nested_tensor is True, but self.use_nested_tensor is False because encoder_layer.self_attn.num_heads is odd\n",
            "  warnings.warn(f\"enable_nested_tensor is True, but self.use_nested_tensor is False because {why_not_sparsity_fast_path}\")\n"
          ]
        },
        {
          "data": {
            "text/plain": [
              "Classifier(\n",
              "  (position_embedding): Embedding(108, 11)\n",
              "  (encoder): TransformerEncoder(\n",
              "    (layers): ModuleList(\n",
              "      (0-7): 8 x TransformerEncoderLayer(\n",
              "        (self_attn): MultiheadAttention(\n",
              "          (out_proj): NonDynamicallyQuantizableLinear(in_features=11, out_features=11, bias=True)\n",
              "        )\n",
              "        (linear1): Linear(in_features=11, out_features=8, bias=True)\n",
              "        (dropout): Dropout(p=0.5, inplace=False)\n",
              "        (linear2): Linear(in_features=8, out_features=11, bias=True)\n",
              "        (norm1): LayerNorm((11,), eps=1e-05, elementwise_affine=True)\n",
              "        (norm2): LayerNorm((11,), eps=1e-05, elementwise_affine=True)\n",
              "        (dropout1): Dropout(p=0.5, inplace=False)\n",
              "        (dropout2): Dropout(p=0.5, inplace=False)\n",
              "      )\n",
              "    )\n",
              "  )\n",
              "  (binary_classifier): BinaryClassification(\n",
              "    (layer_1): Linear(in_features=1188, out_features=64, bias=True)\n",
              "    (layer_2): Linear(in_features=64, out_features=64, bias=True)\n",
              "    (layer_out): Linear(in_features=64, out_features=1, bias=True)\n",
              "    (relu): ReLU()\n",
              "    (dropout): Dropout(p=0.1, inplace=False)\n",
              "    (batchnorm1): BatchNorm1d(64, eps=1e-05, momentum=0.1, affine=True, track_running_stats=True)\n",
              "    (batchnorm2): BatchNorm1d(64, eps=1e-05, momentum=0.1, affine=True, track_running_stats=True)\n",
              "  )\n",
              ")"
            ]
          },
          "execution_count": 41,
          "metadata": {},
          "output_type": "execute_result"
        }
      ],
      "source": [
        "model = Classifier(d_model=11, seq_len=108, nhead=11, dim_feedforward=8, nlayers=8, device=device)\n",
        "model.to(device)"
      ]
    },
    {
      "cell_type": "code",
      "execution_count": 42,
      "metadata": {
        "id": "rIQDpV0s77eH"
      },
      "outputs": [],
      "source": [
        "def binary_acc(y_pred, y_test):\n",
        "    y_pred_tag = torch.round(torch.sigmoid(y_pred))\n",
        "    # print(\"y_pred\",torch.sigmoid(y_pred))\n",
        "\n",
        "    correct_results_sum = (y_pred_tag == y_test).sum().float()\n",
        "    acc = correct_results_sum/y_test.shape[0]\n",
        "    acc = torch.round(acc * 100)\n",
        "\n",
        "    return acc"
      ]
    },
    {
      "cell_type": "code",
      "execution_count": 43,
      "metadata": {
        "id": "FHOlujz9BjAd"
      },
      "outputs": [],
      "source": [
        "x = np.load(\"data\\other\\data.npy\")\n",
        "y = np.load(\"data\\other\\labels.npy\")"
      ]
    },
    {
      "cell_type": "code",
      "execution_count": 44,
      "metadata": {
        "colab": {
          "base_uri": "https://localhost:8080/"
        },
        "id": "xH_Tcn8CBk08",
        "outputId": "03382ba4-e4ee-4e23-ffd0-430a3482ff0f"
      },
      "outputs": [
        {
          "name": "stdout",
          "output_type": "stream",
          "text": [
            "(301, 108, 11)\n",
            "(301,)\n"
          ]
        }
      ],
      "source": [
        "print(x.shape)\n",
        "print(y.shape)"
      ]
    },
    {
      "cell_type": "code",
      "execution_count": 45,
      "metadata": {},
      "outputs": [
        {
          "name": "stdout",
          "output_type": "stream",
          "text": [
            "[[[0.00000000e+00 0.00000000e+00 0.00000000e+00 ... 0.00000000e+00\n",
            "   2.00000000e+00 0.00000000e+00]\n",
            "  [0.00000000e+00 0.00000000e+00 0.00000000e+00 ... 0.00000000e+00\n",
            "   1.00000000e+00 0.00000000e+00]\n",
            "  [0.00000000e+00 0.00000000e+00 0.00000000e+00 ... 0.00000000e+00\n",
            "   1.00000000e+00 0.00000000e+00]\n",
            "  ...\n",
            "  [0.00000000e+00 0.00000000e+00 0.00000000e+00 ... 0.00000000e+00\n",
            "   0.00000000e+00 0.00000000e+00]\n",
            "  [0.00000000e+00 0.00000000e+00 0.00000000e+00 ... 0.00000000e+00\n",
            "   0.00000000e+00 0.00000000e+00]\n",
            "  [0.00000000e+00 0.00000000e+00 0.00000000e+00 ... 0.00000000e+00\n",
            "   0.00000000e+00 0.00000000e+00]]\n",
            "\n",
            " [[6.25000000e-01 6.25000000e-01 1.08000000e+20 ... 8.00000000e+00\n",
            "   2.00000000e+00 1.00000000e+01]\n",
            "  [1.00000000e+00 1.00000000e+00 1.00000000e+19 ... 9.00000000e+00\n",
            "   1.00000000e+00 1.00000000e+01]\n",
            "  [5.71428571e-01 5.71428571e-01 1.90000000e+19 ... 7.00000000e+00\n",
            "   1.00000000e+00 1.00000000e+01]\n",
            "  ...\n",
            "  [0.00000000e+00 0.00000000e+00 0.00000000e+00 ... 7.00000000e+00\n",
            "   0.00000000e+00 1.00000000e+01]\n",
            "  [0.00000000e+00 0.00000000e+00 0.00000000e+00 ... 9.00000000e+00\n",
            "   0.00000000e+00 1.00000000e+01]\n",
            "  [0.00000000e+00 0.00000000e+00 0.00000000e+00 ... 2.00000000e+00\n",
            "   0.00000000e+00 9.00000000e+00]]\n",
            "\n",
            " [[0.00000000e+00 0.00000000e+00 0.00000000e+00 ... 1.00000000e+01\n",
            "   1.00000000e+00 1.00000000e+01]\n",
            "  [0.00000000e+00 0.00000000e+00 0.00000000e+00 ... 1.00000000e+01\n",
            "   1.00000000e+00 1.00000000e+01]\n",
            "  [0.00000000e+00 0.00000000e+00 0.00000000e+00 ... 1.00000000e+01\n",
            "   1.00000000e+00 1.00000000e+01]\n",
            "  ...\n",
            "  [0.00000000e+00 0.00000000e+00 0.00000000e+00 ... 1.00000000e+01\n",
            "   1.00000000e+00 1.00000000e+01]\n",
            "  [0.00000000e+00 0.00000000e+00 1.00000000e+16 ... 1.00000000e+01\n",
            "   1.00000000e+00 1.00000000e+01]\n",
            "  [1.00000000e-01 3.00000000e-01 1.00000000e+16 ... 1.00000000e+01\n",
            "   1.00000000e+00 1.00000000e+01]]\n",
            "\n",
            " [[1.00000000e+00 1.00000000e+00 5.06100000e+20 ... 2.00000000e+00\n",
            "   2.00000000e+00 1.00000000e+01]\n",
            "  [5.00000000e-01 5.00000000e-01 1.10000000e+19 ... 2.00000000e+00\n",
            "   1.00000000e+00 1.00000000e+01]\n",
            "  [3.33333333e-01 3.33333333e-01 2.40000000e+19 ... 3.00000000e+00\n",
            "   1.00000000e+00 1.00000000e+01]\n",
            "  ...\n",
            "  [0.00000000e+00 0.00000000e+00 0.00000000e+00 ... 0.00000000e+00\n",
            "   0.00000000e+00 0.00000000e+00]\n",
            "  [0.00000000e+00 0.00000000e+00 0.00000000e+00 ... 0.00000000e+00\n",
            "   0.00000000e+00 0.00000000e+00]\n",
            "  [0.00000000e+00 0.00000000e+00 0.00000000e+00 ... 0.00000000e+00\n",
            "   0.00000000e+00 0.00000000e+00]]\n",
            "\n",
            " [[3.33333333e-01 3.33333333e-01 1.00500000e+21 ... 3.00000000e+00\n",
            "   2.00000000e+00 1.00000000e+01]\n",
            "  [6.66666667e-01 6.66666667e-01 6.00000000e+18 ... 3.00000000e+00\n",
            "   1.00000000e+00 1.00000000e+01]\n",
            "  [0.00000000e+00 0.00000000e+00 1.00000000e+18 ... 2.00000000e+00\n",
            "   1.00000000e+00 1.00000000e+01]\n",
            "  ...\n",
            "  [0.00000000e+00 0.00000000e+00 0.00000000e+00 ... 0.00000000e+00\n",
            "   0.00000000e+00 0.00000000e+00]\n",
            "  [0.00000000e+00 0.00000000e+00 0.00000000e+00 ... 0.00000000e+00\n",
            "   0.00000000e+00 0.00000000e+00]\n",
            "  [0.00000000e+00 0.00000000e+00 0.00000000e+00 ... 0.00000000e+00\n",
            "   0.00000000e+00 0.00000000e+00]]]\n"
          ]
        }
      ],
      "source": [
        "print(x[:5])"
      ]
    },
    {
      "cell_type": "code",
      "execution_count": 46,
      "metadata": {},
      "outputs": [
        {
          "name": "stdout",
          "output_type": "stream",
          "text": [
            "[[[-1.02945209e-01 -1.14356860e-01 -1.38146329e-02 ... -2.37866691e-01\n",
            "    6.17300954e+00 -2.28408205e-01]\n",
            "  [-1.02945209e-01 -1.14356860e-01 -1.38146329e-02 ... -2.37866691e-01\n",
            "    2.93045142e+00 -2.28408205e-01]\n",
            "  [-1.02945209e-01 -1.14356860e-01 -1.38146329e-02 ... -2.37866691e-01\n",
            "    2.93045142e+00 -2.28408205e-01]\n",
            "  ...\n",
            "  [-1.02945209e-01 -1.14356860e-01 -1.38146329e-02 ... -2.37866691e-01\n",
            "   -3.12106692e-01 -2.28408205e-01]\n",
            "  [-1.02945209e-01 -1.14356860e-01 -1.38146329e-02 ... -2.37866691e-01\n",
            "   -3.12106692e-01 -2.28408205e-01]\n",
            "  [-1.02945209e-01 -1.14356860e-01 -1.38146329e-02 ... -2.37866691e-01\n",
            "   -3.12106692e-01 -2.28408205e-01]]\n",
            "\n",
            " [[ 8.86766055e+00  8.05507759e+00 -4.84967205e-03 ...  6.99221315e+00\n",
            "    6.17300954e+00  4.61193986e+00]\n",
            "  [ 1.42500240e+01  1.29567383e+01 -1.29845439e-02 ...  7.89597313e+00\n",
            "    2.93045142e+00  4.61193986e+00]\n",
            "  [ 8.09875148e+00  7.35484035e+00 -1.22374638e-02 ...  6.08845317e+00\n",
            "    2.93045142e+00  4.61193986e+00]\n",
            "  ...\n",
            "  [-1.02945209e-01 -1.14356860e-01 -1.38146329e-02 ...  6.08845317e+00\n",
            "   -3.12106692e-01  4.61193986e+00]\n",
            "  [-1.02945209e-01 -1.14356860e-01 -1.38146329e-02 ...  7.89597313e+00\n",
            "   -3.12106692e-01  4.61193986e+00]\n",
            "  [-1.02945209e-01 -1.14356860e-01 -1.38146329e-02 ...  1.56965327e+00\n",
            "   -3.12106692e-01  4.12790505e+00]]\n",
            "\n",
            " [[-1.02945209e-01 -1.14356860e-01 -1.38146329e-02 ...  8.79973311e+00\n",
            "    2.93045142e+00  4.61193986e+00]\n",
            "  [-1.02945209e-01 -1.14356860e-01 -1.38146329e-02 ...  8.79973311e+00\n",
            "    2.93045142e+00  4.61193986e+00]\n",
            "  [-1.02945209e-01 -1.14356860e-01 -1.38146329e-02 ...  8.79973311e+00\n",
            "    2.93045142e+00  4.61193986e+00]\n",
            "  ...\n",
            "  [-1.02945209e-01 -1.14356860e-01 -1.38146329e-02 ...  8.79973311e+00\n",
            "    2.93045142e+00  4.61193986e+00]\n",
            "  [-1.02945209e-01 -1.14356860e-01 -1.38138028e-02 ...  8.79973311e+00\n",
            "    2.93045142e+00  4.61193986e+00]\n",
            "  [ 1.33235171e+00  3.80697167e+00 -1.38138028e-02 ...  8.79973311e+00\n",
            "    2.93045142e+00  4.61193986e+00]]\n",
            "\n",
            " [[ 1.42500240e+01  1.29567383e+01  2.81961697e-02 ...  1.56965327e+00\n",
            "    6.17300954e+00  4.61193986e+00]\n",
            "  [ 7.07353939e+00  6.42119070e+00 -1.29015350e-02 ...  1.56965327e+00\n",
            "    2.93045142e+00  4.61193986e+00]\n",
            "  [ 4.68137786e+00  4.24267485e+00 -1.18224194e-02 ...  2.47341325e+00\n",
            "    2.93045142e+00  4.61193986e+00]\n",
            "  ...\n",
            "  [-1.02945209e-01 -1.14356860e-01 -1.38146329e-02 ... -2.37866691e-01\n",
            "   -3.12106692e-01 -2.28408205e-01]\n",
            "  [-1.02945209e-01 -1.14356860e-01 -1.38146329e-02 ... -2.37866691e-01\n",
            "   -3.12106692e-01 -2.28408205e-01]\n",
            "  [-1.02945209e-01 -1.14356860e-01 -1.38146329e-02 ... -2.37866691e-01\n",
            "   -3.12106692e-01 -2.28408205e-01]]\n",
            "\n",
            " [[ 4.68137786e+00  4.24267485e+00  6.96093081e-02 ...  2.47341325e+00\n",
            "    6.17300954e+00  4.61193986e+00]\n",
            "  [ 9.46570093e+00  8.59970655e+00 -1.33165795e-02 ...  2.47341325e+00\n",
            "    2.93045142e+00  4.61193986e+00]\n",
            "  [-1.02945209e-01 -1.14356860e-01 -1.37316240e-02 ...  1.56965327e+00\n",
            "    2.93045142e+00  4.61193986e+00]\n",
            "  ...\n",
            "  [-1.02945209e-01 -1.14356860e-01 -1.38146329e-02 ... -2.37866691e-01\n",
            "   -3.12106692e-01 -2.28408205e-01]\n",
            "  [-1.02945209e-01 -1.14356860e-01 -1.38146329e-02 ... -2.37866691e-01\n",
            "   -3.12106692e-01 -2.28408205e-01]\n",
            "  [-1.02945209e-01 -1.14356860e-01 -1.38146329e-02 ... -2.37866691e-01\n",
            "   -3.12106692e-01 -2.28408205e-01]]]\n"
          ]
        }
      ],
      "source": [
        "import numpy as np\n",
        "from sklearn.preprocessing import StandardScaler\n",
        "\n",
        "# Assuming you have loaded your data into a variable called data_array\n",
        "# data_array should be of shape (301, 108, 11)\n",
        "\n",
        "# Reshape the array to (301*108, 11) for normalization\n",
        "reshaped_data = x.reshape((-1, 11))\n",
        "\n",
        "# Initialize the StandardScaler\n",
        "scaler = StandardScaler()\n",
        "\n",
        "# Fit the scaler on the reshaped data and transform it\n",
        "normalized_data = scaler.fit_transform(reshaped_data)\n",
        "\n",
        "# Reshape the normalized data back to the original shape\n",
        "normalized_data_array = normalized_data.reshape(x.shape)\n",
        "\n",
        "# Now, normalized_data_array contains the normalized data with shape (301, 108, 11)\n",
        "print(normalized_data_array[:5])"
      ]
    },
    {
      "cell_type": "code",
      "execution_count": 47,
      "metadata": {
        "id": "j5RlkcKNBt1o"
      },
      "outputs": [],
      "source": [
        "X, X_test, Y, y_test = train_test_split(normalized_data_array, y, test_size=0.1, random_state=42, stratify=y) #test split"
      ]
    },
    {
      "cell_type": "code",
      "execution_count": 48,
      "metadata": {},
      "outputs": [
        {
          "name": "stdout",
          "output_type": "stream",
          "text": [
            "Original class distribution:\n",
            "{0: 204, 1: 97}\n",
            "\n",
            "Class distribution in y_train:\n",
            "{0: 183, 1: 87}\n",
            "\n",
            "Class distribution in y_test:\n",
            "{0: 21, 1: 10}\n"
          ]
        }
      ],
      "source": [
        "\n",
        "# Assuming you have split the data using the code provided in the previous response\n",
        "\n",
        "# Check class distribution in original 'y'\n",
        "unique_classes_y, counts_y = np.unique(y, return_counts=True)\n",
        "print(\"Original class distribution:\")\n",
        "print(dict(zip(unique_classes_y, counts_y)))\n",
        "\n",
        "# Check class distribution in 'y_train'\n",
        "unique_classes_train, counts_train = np.unique(Y, return_counts=True)\n",
        "print(\"\\nClass distribution in y_train:\")\n",
        "print(dict(zip(unique_classes_train, counts_train)))\n",
        "\n",
        "# Check class distribution in 'y_test'\n",
        "unique_classes_test, counts_test = np.unique(y_test, return_counts=True)\n",
        "print(\"\\nClass distribution in y_test:\")\n",
        "print(dict(zip(unique_classes_test, counts_test)))\n"
      ]
    },
    {
      "cell_type": "code",
      "execution_count": 49,
      "metadata": {
        "id": "XyBHdv88B5qh"
      },
      "outputs": [],
      "source": [
        "np.save(\"X_test.npy\",X_test)\n",
        "np.save(\"y_test.npy\",y_test)"
      ]
    },
    {
      "cell_type": "code",
      "execution_count": 50,
      "metadata": {
        "id": "GWqGNAxWB-il"
      },
      "outputs": [],
      "source": [
        "#load test\n",
        "X_test = np.load(\"X_test.npy\", allow_pickle=True)\n",
        "y_test = np.load(\"y_test.npy\", allow_pickle=True)"
      ]
    },
    {
      "cell_type": "code",
      "execution_count": 51,
      "metadata": {
        "id": "Ca97i61sCBjd"
      },
      "outputs": [],
      "source": [
        "X_train, X_val, y_train, y_val = train_test_split(X, Y, test_size=0.1, random_state=42, stratify=Y) #validation split"
      ]
    },
    {
      "cell_type": "code",
      "execution_count": 52,
      "metadata": {
        "id": "Y0ih1KJNCE7P"
      },
      "outputs": [],
      "source": [
        "np.save(\"X_train.npy\",X_train)\n",
        "np.save(\"y_train.npy\",y_train)\n",
        "np.save(\"X_val.npy\",X_val)\n",
        "np.save(\"y_val.npy\",y_val)"
      ]
    },
    {
      "cell_type": "code",
      "execution_count": 53,
      "metadata": {
        "id": "Y8PcTJ3ACG8P"
      },
      "outputs": [],
      "source": [
        "#load train val\n",
        "X_train = np.load(\"X_train.npy\", allow_pickle=True)\n",
        "y_train = np.load(\"y_train.npy\", allow_pickle=True)\n",
        "X_val = np.load(\"X_val.npy\", allow_pickle=True)\n",
        "y_val = np.load(\"y_val.npy\", allow_pickle=True)"
      ]
    },
    {
      "cell_type": "code",
      "execution_count": 54,
      "metadata": {
        "colab": {
          "base_uri": "https://localhost:8080/"
        },
        "id": "U-qSZ1ENCJDk",
        "outputId": "fe204dc9-57a8-488c-a410-42a0af34f9cc"
      },
      "outputs": [
        {
          "name": "stdout",
          "output_type": "stream",
          "text": [
            "(243, 108, 11)\n"
          ]
        }
      ],
      "source": [
        "print(X_train.shape)"
      ]
    },
    {
      "cell_type": "code",
      "execution_count": 55,
      "metadata": {
        "id": "54p4Ewh-Fp68"
      },
      "outputs": [],
      "source": [
        "X_train = X_train[:19656]"
      ]
    },
    {
      "cell_type": "code",
      "execution_count": 56,
      "metadata": {
        "colab": {
          "base_uri": "https://localhost:8080/"
        },
        "id": "-bh7IRI0CLDb",
        "outputId": "f38562c3-a146-4305-9664-f443cc72bc6c"
      },
      "outputs": [
        {
          "name": "stdout",
          "output_type": "stream",
          "text": [
            "(27, 108, 11)\n"
          ]
        }
      ],
      "source": [
        "print(X_val.shape)"
      ]
    },
    {
      "cell_type": "code",
      "execution_count": 57,
      "metadata": {
        "id": "_AVMFcuGFlYW"
      },
      "outputs": [],
      "source": [
        "X_val = X_val[:2184]"
      ]
    },
    {
      "cell_type": "code",
      "execution_count": 58,
      "metadata": {
        "colab": {
          "base_uri": "https://localhost:8080/"
        },
        "id": "8w-8A9LxCM0J",
        "outputId": "671effc7-146d-463c-9514-04e4c6e96e4c"
      },
      "outputs": [
        {
          "name": "stdout",
          "output_type": "stream",
          "text": [
            "(31, 108, 11)\n"
          ]
        }
      ],
      "source": [
        "print(X_test.shape)"
      ]
    },
    {
      "cell_type": "code",
      "execution_count": 59,
      "metadata": {
        "colab": {
          "base_uri": "https://localhost:8080/"
        },
        "id": "D3DJpQXeCPOY",
        "outputId": "a0a09959-2cad-4e8d-a278-a52ddd7da5e1"
      },
      "outputs": [
        {
          "name": "stdout",
          "output_type": "stream",
          "text": [
            "0.32098765432098764\n",
            "0.3333333333333333\n",
            "0.3225806451612903\n"
          ]
        }
      ],
      "source": [
        "print(np.sum(y_train)/y_train.shape[0])\n",
        "print(np.sum(y_val)/y_val.shape[0])\n",
        "print(np.sum(y_test)/y_test.shape[0])"
      ]
    },
    {
      "cell_type": "code",
      "execution_count": 60,
      "metadata": {
        "id": "utMXpDr1CR3q"
      },
      "outputs": [],
      "source": [
        "from torch.utils.data import Dataset, DataLoader"
      ]
    },
    {
      "cell_type": "code",
      "execution_count": 61,
      "metadata": {
        "id": "mhQSnKuECVIN"
      },
      "outputs": [],
      "source": [
        "## train data\n",
        "from sklearn import preprocessing\n",
        "class TrainData(Dataset):\n",
        "\n",
        "    def __init__(self, X_data, y_data):\n",
        "        self.X_data = X_data\n",
        "        self.y_data = y_data\n",
        "\n",
        "    def __getitem__(self, index):\n",
        "        return self.X_data[index], self.y_data[index]\n",
        "\n",
        "    def __len__ (self):\n",
        "        return len(self.X_data)\n",
        "\n",
        "\n",
        "train_data = TrainData(X_train, y_train)\n",
        "\n",
        "## val data\n",
        "class ValData(Dataset):\n",
        "\n",
        "    def __init__(self, X_data, y_data):\n",
        "        self.X_data = X_data\n",
        "        self.y_data = y_data\n",
        "\n",
        "    def __getitem__(self, index):\n",
        "        return self.X_data[index], self.y_data[index]\n",
        "\n",
        "    def __len__ (self):\n",
        "        return len(self.X_data)\n",
        "\n",
        "\n",
        "val_data = ValData(X_val, y_val)\n",
        "\n",
        "## test data\n",
        "class TestData(Dataset):\n",
        "\n",
        "    def __init__(self, X_data, y_data):\n",
        "        self.X_data = X_data\n",
        "        self.y_data = y_data\n",
        "\n",
        "    def __getitem__(self, index):\n",
        "        return self.X_data[index], self.y_data[index]\n",
        "\n",
        "    def __len__ (self):\n",
        "        return len(self.X_data)\n",
        "\n",
        "\n",
        "test_data = TestData(X_test, y_test)"
      ]
    },
    {
      "cell_type": "code",
      "execution_count": 62,
      "metadata": {
        "id": "uc8whSsvCuEx"
      },
      "outputs": [],
      "source": [
        "EPOCHS = 50\n",
        "BATCH_SIZE = 8\n",
        "LEARNING_RATE = 0.001"
      ]
    },
    {
      "cell_type": "code",
      "execution_count": 63,
      "metadata": {
        "id": "zcNASJP4CwRY"
      },
      "outputs": [],
      "source": [
        "train_loader = DataLoader(dataset=train_data, batch_size=BATCH_SIZE, shuffle=True)\n",
        "test_loader = DataLoader(dataset=test_data, batch_size=1)"
      ]
    },
    {
      "cell_type": "code",
      "execution_count": 64,
      "metadata": {
        "id": "aZRNOMv-CzS8"
      },
      "outputs": [],
      "source": [
        "import torch.optim as optim\n",
        "criterion = nn.BCEWithLogitsLoss()\n",
        "optimizer = optim.Adam(model.parameters(), lr=LEARNING_RATE)"
      ]
    },
    {
      "cell_type": "code",
      "execution_count": 65,
      "metadata": {},
      "outputs": [
        {
          "name": "stdout",
          "output_type": "stream",
          "text": [
            "31\n",
            "<torch.utils.data.dataloader.DataLoader object at 0x000001F4D933B310>\n"
          ]
        }
      ],
      "source": [
        "print(len(train_loader))\n",
        "print(train_loader)"
      ]
    },
    {
      "cell_type": "markdown",
      "metadata": {},
      "source": [
        "Hyperparameter tuning"
      ]
    },
    {
      "cell_type": "code",
      "execution_count": 68,
      "metadata": {},
      "outputs": [
        {
          "name": "stderr",
          "output_type": "stream",
          "text": [
            "c:\\Users\\sandu\\Desktop\\sem7\\fyp\\App\\.venv\\lib\\site-packages\\torch\\nn\\modules\\transformer.py:282: UserWarning: enable_nested_tensor is True, but self.use_nested_tensor is False because encoder_layer.self_attn.num_heads is odd\n",
            "  warnings.warn(f\"enable_nested_tensor is True, but self.use_nested_tensor is False because {why_not_sparsity_fast_path}\")\n"
          ]
        },
        {
          "name": "stdout",
          "output_type": "stream",
          "text": [
            "Epoch 001: | Loss: 0.72948 | Acc: 51.290 | Val_Loss: 0.65223 | Val_Acc: 58.065\n",
            "Epoch 002: | Loss: 0.67789 | Acc: 58.065 | Val_Loss: 0.60712 | Val_Acc: 54.839\n",
            "Epoch 003: | Loss: 0.65655 | Acc: 58.645 | Val_Loss: 0.54251 | Val_Acc: 77.419\n",
            "Epoch 004: | Loss: 0.67978 | Acc: 62.194 | Val_Loss: 0.52271 | Val_Acc: 80.645\n",
            "Epoch 005: | Loss: 0.62838 | Acc: 68.935 | Val_Loss: 0.57614 | Val_Acc: 74.194\n",
            "Epoch 006: | Loss: 0.59938 | Acc: 70.097 | Val_Loss: 0.53984 | Val_Acc: 80.645\n",
            "Epoch 007: | Loss: 0.59970 | Acc: 70.839 | Val_Loss: 0.55920 | Val_Acc: 77.419\n",
            "Epoch 008: | Loss: 0.58867 | Acc: 71.903 | Val_Loss: 0.63738 | Val_Acc: 74.194\n",
            "Epoch 009: | Loss: 0.61617 | Acc: 69.484 | Val_Loss: 0.56246 | Val_Acc: 77.419\n",
            "Epoch 010: | Loss: 0.62871 | Acc: 65.935 | Val_Loss: 0.53363 | Val_Acc: 77.419\n",
            "Hyperparameters: Epochs=10, Batch Size=8, Learning Rate=0.001\n",
            "Final Training Loss: 0.62871, Final Training Acc: 65.935\n",
            "Final Validation Loss: 0.53363, Final Validation Acc: 77.419\n",
            "\n",
            "\n",
            "Epoch 001: | Loss: 0.75554 | Acc: 57.000 | Val_Loss: 2.24722 | Val_Acc: 67.742\n",
            "Epoch 002: | Loss: 0.67960 | Acc: 60.194 | Val_Loss: 1.11331 | Val_Acc: 67.742\n",
            "Epoch 003: | Loss: 0.66719 | Acc: 66.839 | Val_Loss: 0.83578 | Val_Acc: 32.258\n",
            "Epoch 004: | Loss: 0.62472 | Acc: 66.613 | Val_Loss: 0.67088 | Val_Acc: 67.742\n",
            "Epoch 005: | Loss: 0.64314 | Acc: 66.484 | Val_Loss: 0.81079 | Val_Acc: 32.258\n",
            "Epoch 006: | Loss: 0.65271 | Acc: 63.065 | Val_Loss: 1.59545 | Val_Acc: 32.258\n",
            "Epoch 007: | Loss: 0.64377 | Acc: 68.226 | Val_Loss: 0.65169 | Val_Acc: 67.742\n",
            "Epoch 008: | Loss: 0.64150 | Acc: 67.323 | Val_Loss: 0.62968 | Val_Acc: 67.742\n",
            "Epoch 009: | Loss: 0.65674 | Acc: 66.742 | Val_Loss: 0.62956 | Val_Acc: 67.742\n",
            "Epoch 010: | Loss: 0.65492 | Acc: 65.774 | Val_Loss: 0.73019 | Val_Acc: 32.258\n",
            "Hyperparameters: Epochs=10, Batch Size=8, Learning Rate=0.01\n",
            "Final Training Loss: 0.65492, Final Training Acc: 65.774\n",
            "Final Validation Loss: 0.73019, Final Validation Acc: 32.258\n",
            "\n",
            "\n",
            "Epoch 001: | Loss: 0.72618 | Acc: 51.419 | Val_Loss: 0.66145 | Val_Acc: 64.516\n",
            "Epoch 002: | Loss: 0.67140 | Acc: 55.452 | Val_Loss: 0.70888 | Val_Acc: 54.839\n",
            "Epoch 003: | Loss: 0.67982 | Acc: 62.806 | Val_Loss: 0.74558 | Val_Acc: 70.968\n",
            "Epoch 004: | Loss: 0.63665 | Acc: 66.677 | Val_Loss: 0.62910 | Val_Acc: 70.968\n",
            "Epoch 005: | Loss: 0.67980 | Acc: 60.226 | Val_Loss: 0.61458 | Val_Acc: 67.742\n",
            "Epoch 006: | Loss: 0.66461 | Acc: 63.452 | Val_Loss: 0.62937 | Val_Acc: 67.742\n",
            "Epoch 007: | Loss: 0.63427 | Acc: 66.258 | Val_Loss: 0.59968 | Val_Acc: 67.742\n",
            "Epoch 008: | Loss: 0.66830 | Acc: 59.839 | Val_Loss: 0.59171 | Val_Acc: 67.742\n",
            "Epoch 009: | Loss: 0.63668 | Acc: 63.290 | Val_Loss: 0.57436 | Val_Acc: 67.742\n",
            "Epoch 010: | Loss: 0.64347 | Acc: 63.516 | Val_Loss: 0.56381 | Val_Acc: 67.742\n",
            "Hyperparameters: Epochs=10, Batch Size=16, Learning Rate=0.001\n",
            "Final Training Loss: 0.64347, Final Training Acc: 63.516\n",
            "Final Validation Loss: 0.56381, Final Validation Acc: 67.742\n",
            "\n",
            "\n",
            "Epoch 001: | Loss: 0.76329 | Acc: 53.613 | Val_Loss: 0.63241 | Val_Acc: 67.742\n",
            "Epoch 002: | Loss: 0.65285 | Acc: 62.484 | Val_Loss: 0.64812 | Val_Acc: 67.742\n",
            "Epoch 003: | Loss: 0.67487 | Acc: 62.839 | Val_Loss: 9.15781 | Val_Acc: 64.516\n",
            "Epoch 004: | Loss: 0.66862 | Acc: 63.484 | Val_Loss: 0.71961 | Val_Acc: 64.516\n",
            "Epoch 005: | Loss: 0.65910 | Acc: 64.323 | Val_Loss: 0.64308 | Val_Acc: 67.742\n",
            "Epoch 006: | Loss: 0.65411 | Acc: 65.161 | Val_Loss: 0.61729 | Val_Acc: 67.742\n",
            "Epoch 007: | Loss: 0.64109 | Acc: 65.710 | Val_Loss: 0.62050 | Val_Acc: 67.742\n",
            "Epoch 008: | Loss: 0.65092 | Acc: 67.129 | Val_Loss: 0.61496 | Val_Acc: 67.742\n",
            "Epoch 009: | Loss: 0.64344 | Acc: 65.032 | Val_Loss: 0.68331 | Val_Acc: 67.742\n",
            "Epoch 010: | Loss: 0.65527 | Acc: 66.419 | Val_Loss: 1.25212 | Val_Acc: 67.742\n",
            "Hyperparameters: Epochs=10, Batch Size=16, Learning Rate=0.01\n",
            "Final Training Loss: 0.65527, Final Training Acc: 66.419\n",
            "Final Validation Loss: 1.25212, Final Validation Acc: 67.742\n",
            "\n",
            "\n",
            "Epoch 001: | Loss: 0.71800 | Acc: 51.806 | Val_Loss: 0.77959 | Val_Acc: 32.258\n",
            "Epoch 002: | Loss: 0.68371 | Acc: 58.677 | Val_Loss: 0.77185 | Val_Acc: 38.710\n",
            "Epoch 003: | Loss: 0.68249 | Acc: 57.290 | Val_Loss: 0.72030 | Val_Acc: 45.161\n",
            "Epoch 004: | Loss: 0.65856 | Acc: 62.581 | Val_Loss: 0.70158 | Val_Acc: 54.839\n",
            "Epoch 005: | Loss: 0.65542 | Acc: 59.710 | Val_Loss: 0.71820 | Val_Acc: 45.161\n",
            "Epoch 006: | Loss: 0.63455 | Acc: 61.871 | Val_Loss: 0.70054 | Val_Acc: 54.839\n",
            "Epoch 007: | Loss: 0.64268 | Acc: 63.806 | Val_Loss: 0.69380 | Val_Acc: 54.839\n",
            "Epoch 008: | Loss: 0.64160 | Acc: 63.387 | Val_Loss: 0.67696 | Val_Acc: 51.613\n",
            "Epoch 009: | Loss: 0.63312 | Acc: 64.968 | Val_Loss: 0.69147 | Val_Acc: 51.613\n",
            "Epoch 010: | Loss: 0.61801 | Acc: 66.323 | Val_Loss: 0.64379 | Val_Acc: 54.839\n",
            "Epoch 011: | Loss: 0.62313 | Acc: 67.710 | Val_Loss: 0.55248 | Val_Acc: 70.968\n",
            "Epoch 012: | Loss: 0.58094 | Acc: 68.387 | Val_Loss: 0.55885 | Val_Acc: 77.419\n",
            "Epoch 013: | Loss: 0.60971 | Acc: 66.387 | Val_Loss: 0.52589 | Val_Acc: 77.419\n",
            "Epoch 014: | Loss: 0.59470 | Acc: 71.935 | Val_Loss: 0.45680 | Val_Acc: 80.645\n",
            "Epoch 015: | Loss: 0.58467 | Acc: 70.806 | Val_Loss: 0.53190 | Val_Acc: 77.419\n",
            "Epoch 016: | Loss: 0.62167 | Acc: 72.387 | Val_Loss: 0.50027 | Val_Acc: 80.645\n",
            "Epoch 017: | Loss: 0.56577 | Acc: 73.258 | Val_Loss: 0.46166 | Val_Acc: 80.645\n",
            "Epoch 018: | Loss: 0.58714 | Acc: 72.581 | Val_Loss: 0.46393 | Val_Acc: 83.871\n",
            "Epoch 019: | Loss: 0.57053 | Acc: 73.000 | Val_Loss: 0.43985 | Val_Acc: 80.645\n",
            "Epoch 020: | Loss: 0.62295 | Acc: 68.871 | Val_Loss: 0.51982 | Val_Acc: 83.871\n",
            "Hyperparameters: Epochs=20, Batch Size=8, Learning Rate=0.001\n",
            "Final Training Loss: 0.62295, Final Training Acc: 68.871\n",
            "Final Validation Loss: 0.51982, Final Validation Acc: 83.871\n",
            "\n",
            "\n",
            "Epoch 001: | Loss: 0.68483 | Acc: 56.258 | Val_Loss: 2.59134 | Val_Acc: 32.258\n",
            "Epoch 002: | Loss: 0.68393 | Acc: 63.290 | Val_Loss: 0.63084 | Val_Acc: 67.742\n",
            "Epoch 003: | Loss: 0.68448 | Acc: 62.355 | Val_Loss: 0.72502 | Val_Acc: 32.258\n",
            "Epoch 004: | Loss: 0.66259 | Acc: 63.387 | Val_Loss: 0.63459 | Val_Acc: 67.742\n",
            "Epoch 005: | Loss: 0.65174 | Acc: 65.871 | Val_Loss: 0.63713 | Val_Acc: 67.742\n",
            "Epoch 006: | Loss: 0.63682 | Acc: 67.839 | Val_Loss: 0.62927 | Val_Acc: 67.742\n",
            "Epoch 007: | Loss: 0.65817 | Acc: 64.355 | Val_Loss: 0.62945 | Val_Acc: 67.742\n",
            "Epoch 008: | Loss: 0.67067 | Acc: 65.000 | Val_Loss: 0.63258 | Val_Acc: 67.742\n",
            "Epoch 009: | Loss: 0.64875 | Acc: 66.677 | Val_Loss: 0.63342 | Val_Acc: 67.742\n",
            "Epoch 010: | Loss: 0.65251 | Acc: 65.548 | Val_Loss: 0.69274 | Val_Acc: 67.742\n",
            "Epoch 011: | Loss: 0.66259 | Acc: 66.645 | Val_Loss: 0.65697 | Val_Acc: 67.742\n",
            "Epoch 012: | Loss: 0.64750 | Acc: 67.839 | Val_Loss: 27.27374 | Val_Acc: 32.258\n",
            "Epoch 013: | Loss: 0.62934 | Acc: 67.935 | Val_Loss: 0.62927 | Val_Acc: 67.742\n",
            "Epoch 014: | Loss: 0.65760 | Acc: 62.000 | Val_Loss: 0.63313 | Val_Acc: 67.742\n",
            "Epoch 015: | Loss: 0.63413 | Acc: 67.935 | Val_Loss: 0.66245 | Val_Acc: 67.742\n",
            "Epoch 016: | Loss: 0.64024 | Acc: 67.903 | Val_Loss: 0.66326 | Val_Acc: 67.742\n",
            "Epoch 017: | Loss: 0.63444 | Acc: 68.484 | Val_Loss: 0.66382 | Val_Acc: 67.742\n",
            "Epoch 018: | Loss: 0.63314 | Acc: 68.387 | Val_Loss: 0.64153 | Val_Acc: 67.742\n",
            "Epoch 019: | Loss: 0.63035 | Acc: 68.065 | Val_Loss: 0.66593 | Val_Acc: 67.742\n",
            "Epoch 020: | Loss: 0.64262 | Acc: 67.258 | Val_Loss: 0.63032 | Val_Acc: 67.742\n",
            "Hyperparameters: Epochs=20, Batch Size=8, Learning Rate=0.01\n",
            "Final Training Loss: 0.64262, Final Training Acc: 67.258\n",
            "Final Validation Loss: 0.63032, Final Validation Acc: 67.742\n",
            "\n",
            "\n",
            "Epoch 001: | Loss: 0.71341 | Acc: 51.871 | Val_Loss: 0.83649 | Val_Acc: 32.258\n",
            "Epoch 002: | Loss: 0.71611 | Acc: 49.226 | Val_Loss: 0.74737 | Val_Acc: 35.484\n",
            "Epoch 003: | Loss: 0.67841 | Acc: 55.645 | Val_Loss: 0.68052 | Val_Acc: 48.387\n",
            "Epoch 004: | Loss: 0.69334 | Acc: 54.194 | Val_Loss: 0.64003 | Val_Acc: 67.742\n",
            "Epoch 005: | Loss: 0.65151 | Acc: 61.387 | Val_Loss: 0.63425 | Val_Acc: 67.742\n",
            "Epoch 006: | Loss: 0.65826 | Acc: 61.387 | Val_Loss: 0.63858 | Val_Acc: 67.742\n",
            "Epoch 007: | Loss: 0.65258 | Acc: 63.613 | Val_Loss: 0.79643 | Val_Acc: 32.258\n",
            "Epoch 008: | Loss: 0.62341 | Acc: 64.581 | Val_Loss: 0.63234 | Val_Acc: 61.290\n",
            "Epoch 009: | Loss: 0.63355 | Acc: 65.419 | Val_Loss: 1.25208 | Val_Acc: 32.258\n",
            "Epoch 010: | Loss: 0.63993 | Acc: 65.452 | Val_Loss: 0.67207 | Val_Acc: 54.839\n",
            "Epoch 011: | Loss: 0.63260 | Acc: 62.935 | Val_Loss: 0.63328 | Val_Acc: 64.516\n",
            "Epoch 012: | Loss: 0.60820 | Acc: 67.452 | Val_Loss: 0.73309 | Val_Acc: 54.839\n",
            "Epoch 013: | Loss: 0.64104 | Acc: 64.742 | Val_Loss: 0.64672 | Val_Acc: 77.419\n",
            "Epoch 014: | Loss: 0.60403 | Acc: 67.290 | Val_Loss: 0.64017 | Val_Acc: 74.194\n",
            "Epoch 015: | Loss: 0.64019 | Acc: 65.452 | Val_Loss: 2.59548 | Val_Acc: 77.419\n",
            "Epoch 016: | Loss: 0.60753 | Acc: 70.677 | Val_Loss: 3.25239 | Val_Acc: 74.194\n",
            "Epoch 017: | Loss: 0.61090 | Acc: 68.935 | Val_Loss: 1.42289 | Val_Acc: 77.419\n",
            "Epoch 018: | Loss: 0.61337 | Acc: 67.935 | Val_Loss: 2.63449 | Val_Acc: 77.419\n",
            "Epoch 019: | Loss: 0.61991 | Acc: 69.032 | Val_Loss: 2.96454 | Val_Acc: 70.968\n",
            "Epoch 020: | Loss: 0.59308 | Acc: 71.000 | Val_Loss: 0.71128 | Val_Acc: 70.968\n",
            "Hyperparameters: Epochs=20, Batch Size=16, Learning Rate=0.001\n",
            "Final Training Loss: 0.59308, Final Training Acc: 71.000\n",
            "Final Validation Loss: 0.71128, Final Validation Acc: 70.968\n",
            "\n",
            "\n",
            "Epoch 001: | Loss: 0.76102 | Acc: 53.129 | Val_Loss: 0.76003 | Val_Acc: 67.742\n",
            "Epoch 002: | Loss: 0.66794 | Acc: 62.355 | Val_Loss: 1.33549 | Val_Acc: 58.065\n",
            "Epoch 003: | Loss: 0.68605 | Acc: 60.065 | Val_Loss: 0.75813 | Val_Acc: 32.258\n",
            "Epoch 004: | Loss: 0.61664 | Acc: 69.129 | Val_Loss: 0.59723 | Val_Acc: 83.871\n",
            "Epoch 005: | Loss: 0.63555 | Acc: 66.355 | Val_Loss: 0.51738 | Val_Acc: 87.097\n",
            "Epoch 006: | Loss: 0.66383 | Acc: 65.226 | Val_Loss: 0.71843 | Val_Acc: 32.258\n",
            "Epoch 007: | Loss: 0.64705 | Acc: 67.484 | Val_Loss: 0.48046 | Val_Acc: 87.097\n",
            "Epoch 008: | Loss: 0.64389 | Acc: 65.774 | Val_Loss: 0.45790 | Val_Acc: 87.097\n",
            "Epoch 009: | Loss: 0.62249 | Acc: 68.000 | Val_Loss: 0.50925 | Val_Acc: 77.419\n",
            "Epoch 010: | Loss: 0.62291 | Acc: 67.903 | Val_Loss: 0.50859 | Val_Acc: 77.419\n",
            "Epoch 011: | Loss: 0.65032 | Acc: 65.097 | Val_Loss: 0.51755 | Val_Acc: 77.419\n",
            "Epoch 012: | Loss: 0.60769 | Acc: 68.581 | Val_Loss: 0.63461 | Val_Acc: 67.742\n",
            "Epoch 013: | Loss: 0.63160 | Acc: 68.935 | Val_Loss: 0.67689 | Val_Acc: 67.742\n",
            "Epoch 014: | Loss: 0.62490 | Acc: 66.839 | Val_Loss: 0.54937 | Val_Acc: 67.742\n",
            "Epoch 015: | Loss: 0.62584 | Acc: 68.581 | Val_Loss: 0.56577 | Val_Acc: 67.742\n",
            "Epoch 016: | Loss: 0.62351 | Acc: 64.677 | Val_Loss: 0.55305 | Val_Acc: 67.742\n",
            "Epoch 017: | Loss: 0.62310 | Acc: 68.484 | Val_Loss: 0.51965 | Val_Acc: 77.419\n",
            "Epoch 018: | Loss: 0.61750 | Acc: 68.516 | Val_Loss: 0.50900 | Val_Acc: 77.419\n",
            "Epoch 019: | Loss: 0.62841 | Acc: 64.710 | Val_Loss: 0.50537 | Val_Acc: 77.419\n",
            "Epoch 020: | Loss: 0.64513 | Acc: 68.452 | Val_Loss: 0.54153 | Val_Acc: 67.742\n",
            "Hyperparameters: Epochs=20, Batch Size=16, Learning Rate=0.01\n",
            "Final Training Loss: 0.64513, Final Training Acc: 68.452\n",
            "Final Validation Loss: 0.54153, Final Validation Acc: 67.742\n",
            "\n",
            "\n"
          ]
        }
      ],
      "source": [
        "import itertools\n",
        "\n",
        "# Define the hyperparameter values to test\n",
        "hyperparameters = {\n",
        "    'epochs': [10, 20],\n",
        "    'batch_size': [8, 16],\n",
        "    'learning_rate': [0.001, 0.01]\n",
        "}\n",
        "\n",
        "# Generate all combinations of hyperparameters\n",
        "param_combinations = list(itertools.product(*hyperparameters.values()))\n",
        "\n",
        "# Iterate over each combination\n",
        "for params in param_combinations:\n",
        "    # Unpack the parameters\n",
        "    epochs, batch_size, learning_rate = params\n",
        "\n",
        "    # Create a new model and optimizer with the current hyperparameters\n",
        "    model = Classifier(d_model=11, seq_len=108, nhead=11, dim_feedforward=8, nlayers=8, device=device)\n",
        "    model.to(device)\n",
        "    optimizer = torch.optim.Adam(model.parameters(), lr=learning_rate)\n",
        "    # optimizer = optim.Adam(model.parameters(), lr=LEARNING_RATE)\n",
        "\n",
        "    # Training loop\n",
        "    for e in range(1, epochs + 1):\n",
        "        # ... (your existing training code)\n",
        "        epoch_loss = 0\n",
        "        epoch_acc = 0\n",
        "        model.train()\n",
        "        for X_batch, y_batch in train_loader:\n",
        "            #print(\"w.requires_grad:\",X_batch.requires_grad)\n",
        "            X_batch, y_batch = X_batch.to(device), y_batch.to(device)\n",
        "            optimizer.zero_grad()\n",
        "\n",
        "            y_pred,result_before_bin_classifier = model(X_batch.float())\n",
        "            # print(f\"y_pred = {y_pred}\")\n",
        "            #y_pred = (y_pred>0.5).float()\n",
        "            #print(f\"y_pred = {y_pred}\")\n",
        "            #print(f\"y_batch.unsqueeze(1) = {y_batch.unsqueeze(1)}\")\n",
        "\n",
        "            loss = criterion(y_pred.float(), y_batch.unsqueeze(1).float())\n",
        "            acc = binary_acc(y_pred.float(), y_batch.unsqueeze(1).float())\n",
        "\n",
        "\n",
        "            loss.backward()\n",
        "            optimizer.step()\n",
        "\n",
        "            epoch_loss += loss.item()\n",
        "            epoch_acc += acc.item()\n",
        "\n",
        "        val_loss = 0\n",
        "        val_accuracy = 0\n",
        "        model.eval()\n",
        "        for X_batch, y_batch in test_loader:\n",
        "            X_batch, y_batch = X_batch.to(device), y_batch.to(device)\n",
        "            y_pred,result_before_bin_classifier = model(X_batch.float())\n",
        "            loss = criterion(y_pred.float(), y_batch.unsqueeze(1).float())\n",
        "            acc = binary_acc(y_pred.float(), y_batch.unsqueeze(1).float())\n",
        "            val_loss += loss.item()\n",
        "            val_accuracy += acc.item()\n",
        "\n",
        "        print(f'Epoch {e+0:03}: | Loss: {epoch_loss/len(train_loader):.5f} | Acc: {epoch_acc/len(train_loader):.3f} | Val_Loss: {val_loss/len(test_loader):.5f} | Val_Acc: {val_accuracy/len(test_loader):.3f}')\n",
        "\n",
        "    # Print the results for each hyperparameter combination\n",
        "    print(f'Hyperparameters: Epochs={epochs}, Batch Size={batch_size}, Learning Rate={learning_rate}')\n",
        "    print(f'Final Training Loss: {epoch_loss/len(train_loader):.5f}, Final Training Acc: {epoch_acc/len(train_loader):.3f}')\n",
        "    print(f'Final Validation Loss: {val_loss/len(test_loader):.5f}, Final Validation Acc: {val_accuracy/len(test_loader):.3f}')\n",
        "    print('\\n')\n"
      ]
    },
    {
      "cell_type": "code",
      "execution_count": 66,
      "metadata": {
        "colab": {
          "base_uri": "https://localhost:8080/"
        },
        "id": "by_qiNMVC2oX",
        "outputId": "fc7c1c34-5409-4665-986e-f97f86f1b7ea"
      },
      "outputs": [
        {
          "name": "stdout",
          "output_type": "stream",
          "text": [
            "Epoch 001: | Loss: 0.75290 | Acc: 47.323 | Val_Loss: 0.83656 | Val_Acc: 41.935\n",
            "Epoch 002: | Loss: 0.69539 | Acc: 54.065 | Val_Loss: 0.74423 | Val_Acc: 64.516\n",
            "Epoch 003: | Loss: 0.63829 | Acc: 60.645 | Val_Loss: 0.66293 | Val_Acc: 74.194\n",
            "Epoch 004: | Loss: 0.67381 | Acc: 60.032 | Val_Loss: 1.32817 | Val_Acc: 64.516\n",
            "Epoch 005: | Loss: 0.63716 | Acc: 66.290 | Val_Loss: 3.41810 | Val_Acc: 54.839\n",
            "Epoch 006: | Loss: 0.63916 | Acc: 64.581 | Val_Loss: 0.61135 | Val_Acc: 70.968\n",
            "Epoch 007: | Loss: 0.62134 | Acc: 69.774 | Val_Loss: 0.63267 | Val_Acc: 64.516\n",
            "Epoch 008: | Loss: 0.62057 | Acc: 69.226 | Val_Loss: 0.72468 | Val_Acc: 64.516\n",
            "Epoch 009: | Loss: 0.62982 | Acc: 66.097 | Val_Loss: 1.03987 | Val_Acc: 64.516\n",
            "Epoch 010: | Loss: 0.63087 | Acc: 65.000 | Val_Loss: 2.33139 | Val_Acc: 77.419\n",
            "Epoch 011: | Loss: 0.63943 | Acc: 64.968 | Val_Loss: 8.73172 | Val_Acc: 77.419\n",
            "Epoch 012: | Loss: 0.61811 | Acc: 68.742 | Val_Loss: 23.38268 | Val_Acc: 67.742\n",
            "Epoch 013: | Loss: 0.60736 | Acc: 69.161 | Val_Loss: 2.84301 | Val_Acc: 64.516\n",
            "Epoch 014: | Loss: 0.59892 | Acc: 70.323 | Val_Loss: 3.79920 | Val_Acc: 64.516\n",
            "Epoch 015: | Loss: 0.58005 | Acc: 70.645 | Val_Loss: 2.59249 | Val_Acc: 64.516\n",
            "Epoch 016: | Loss: 0.60665 | Acc: 69.194 | Val_Loss: 5.98533 | Val_Acc: 77.419\n",
            "Epoch 017: | Loss: 0.58897 | Acc: 69.968 | Val_Loss: 1.25084 | Val_Acc: 64.516\n",
            "Epoch 018: | Loss: 0.58101 | Acc: 72.161 | Val_Loss: 19.52027 | Val_Acc: 74.194\n",
            "Epoch 019: | Loss: 0.59117 | Acc: 70.774 | Val_Loss: 24.33035 | Val_Acc: 64.516\n",
            "Epoch 020: | Loss: 0.58949 | Acc: 71.194 | Val_Loss: 12.61016 | Val_Acc: 64.516\n",
            "Epoch 021: | Loss: 0.59774 | Acc: 71.516 | Val_Loss: 28.91674 | Val_Acc: 77.419\n",
            "Epoch 022: | Loss: 0.58190 | Acc: 73.419 | Val_Loss: 30.56677 | Val_Acc: 77.419\n",
            "Epoch 023: | Loss: 0.58353 | Acc: 73.129 | Val_Loss: 17.55185 | Val_Acc: 77.419\n",
            "Epoch 024: | Loss: 0.57012 | Acc: 73.097 | Val_Loss: 26.16324 | Val_Acc: 77.419\n",
            "Epoch 025: | Loss: 0.57961 | Acc: 72.645 | Val_Loss: 22.71372 | Val_Acc: 77.419\n",
            "Epoch 026: | Loss: 0.57335 | Acc: 72.774 | Val_Loss: 10.48120 | Val_Acc: 64.516\n",
            "Epoch 027: | Loss: 0.61626 | Acc: 71.903 | Val_Loss: 12.98200 | Val_Acc: 74.194\n",
            "Epoch 028: | Loss: 0.59594 | Acc: 71.161 | Val_Loss: 16.96385 | Val_Acc: 77.419\n",
            "Epoch 029: | Loss: 0.57729 | Acc: 71.484 | Val_Loss: 14.18858 | Val_Acc: 77.419\n",
            "Epoch 030: | Loss: 0.57553 | Acc: 73.032 | Val_Loss: 13.13532 | Val_Acc: 77.419\n",
            "Epoch 031: | Loss: 0.58608 | Acc: 72.774 | Val_Loss: 16.65403 | Val_Acc: 77.419\n",
            "Epoch 032: | Loss: 0.55062 | Acc: 74.387 | Val_Loss: 20.82687 | Val_Acc: 77.419\n",
            "Epoch 033: | Loss: 0.57777 | Acc: 73.065 | Val_Loss: 21.56222 | Val_Acc: 77.419\n",
            "Epoch 034: | Loss: 0.57626 | Acc: 71.710 | Val_Loss: 20.09801 | Val_Acc: 77.419\n",
            "Epoch 035: | Loss: 0.56192 | Acc: 75.355 | Val_Loss: 12.91436 | Val_Acc: 80.645\n",
            "Epoch 036: | Loss: 0.58882 | Acc: 73.323 | Val_Loss: 11.64957 | Val_Acc: 74.194\n",
            "Epoch 037: | Loss: 0.58906 | Acc: 70.871 | Val_Loss: 15.59761 | Val_Acc: 64.516\n",
            "Epoch 038: | Loss: 0.56139 | Acc: 73.968 | Val_Loss: 29.62028 | Val_Acc: 74.194\n",
            "Epoch 039: | Loss: 0.56470 | Acc: 71.677 | Val_Loss: 9.35289 | Val_Acc: 74.194\n",
            "Epoch 040: | Loss: 0.54683 | Acc: 73.871 | Val_Loss: 13.83239 | Val_Acc: 74.194\n",
            "Epoch 041: | Loss: 0.55900 | Acc: 76.871 | Val_Loss: 9.23077 | Val_Acc: 74.194\n",
            "Epoch 042: | Loss: 0.54589 | Acc: 74.677 | Val_Loss: 15.31026 | Val_Acc: 77.419\n",
            "Epoch 043: | Loss: 0.59295 | Acc: 72.387 | Val_Loss: 23.06377 | Val_Acc: 80.645\n",
            "Epoch 044: | Loss: 0.59822 | Acc: 67.935 | Val_Loss: 24.57752 | Val_Acc: 77.419\n",
            "Epoch 045: | Loss: 0.56320 | Acc: 74.935 | Val_Loss: 11.97962 | Val_Acc: 77.419\n",
            "Epoch 046: | Loss: 0.55790 | Acc: 75.484 | Val_Loss: 10.89715 | Val_Acc: 74.194\n",
            "Epoch 047: | Loss: 0.56596 | Acc: 74.065 | Val_Loss: 19.71308 | Val_Acc: 80.645\n",
            "Epoch 048: | Loss: 0.53078 | Acc: 74.290 | Val_Loss: 24.79766 | Val_Acc: 80.645\n",
            "Epoch 049: | Loss: 0.55437 | Acc: 73.226 | Val_Loss: 9.92496 | Val_Acc: 80.645\n",
            "Epoch 050: | Loss: 0.55931 | Acc: 75.968 | Val_Loss: 10.63992 | Val_Acc: 80.645\n"
          ]
        }
      ],
      "source": [
        "\n",
        "for e in range(1, EPOCHS+1):\n",
        "    epoch_loss = 0\n",
        "    epoch_acc = 0\n",
        "    model.train()\n",
        "    for X_batch, y_batch in train_loader:\n",
        "        #print(\"w.requires_grad:\",X_batch.requires_grad)\n",
        "        X_batch, y_batch = X_batch.to(device), y_batch.to(device)\n",
        "        optimizer.zero_grad()\n",
        "\n",
        "        y_pred,result_before_bin_classifier = model(X_batch.float())\n",
        "        # print(f\"y_pred = {y_pred}\")\n",
        "        #y_pred = (y_pred>0.5).float()\n",
        "        #print(f\"y_pred = {y_pred}\")\n",
        "        #print(f\"y_batch.unsqueeze(1) = {y_batch.unsqueeze(1)}\")\n",
        "\n",
        "        loss = criterion(y_pred.float(), y_batch.unsqueeze(1).float())\n",
        "        acc = binary_acc(y_pred.float(), y_batch.unsqueeze(1).float())\n",
        "\n",
        "\n",
        "        loss.backward()\n",
        "        optimizer.step()\n",
        "\n",
        "        epoch_loss += loss.item()\n",
        "        epoch_acc += acc.item()\n",
        "    val_loss = 0\n",
        "    val_accuracy = 0\n",
        "    model.eval()\n",
        "    for X_batch, y_batch in test_loader:\n",
        "        X_batch, y_batch = X_batch.to(device), y_batch.to(device)\n",
        "        y_pred,result_before_bin_classifier = model(X_batch.float())\n",
        "        loss = criterion(y_pred.float(), y_batch.unsqueeze(1).float())\n",
        "        acc = binary_acc(y_pred.float(), y_batch.unsqueeze(1).float())\n",
        "        val_loss += loss.item()\n",
        "        val_accuracy += acc.item()\n",
        "\n",
        "    # Check for early stopping\n",
        "        # if val_accuracy > best_validation_accuracy:\n",
        "        #     best_validation_accuracy = val_accuracy\n",
        "        #     no_improvement_counter = 0\n",
        "        #     # Save the trained best fakebert if needed\n",
        "        #     torch.save(fakebert.state_dict(), '/content/drive/Shareddrives/test/FYP/fake-news/fakebert-twitterus.pth')\n",
        "        # else:\n",
        "        #     no_improvement_counter += 1\n",
        "\n",
        "    print(f'Epoch {e+0:03}: | Loss: {epoch_loss/len(train_loader):.5f} | Acc: {epoch_acc/len(train_loader):.3f} | Val_Loss: {val_loss/len(test_loader):.5f} | Val_Acc: {val_accuracy/len(test_loader):.3f}')\n",
        "    #print(f'Epoch {e+0:03}: | Loss: {epoch_loss/len(train_loader):.5f} | Acc: {epoch_acc/len(train_loader):.3f}')"
      ]
    },
    {
      "cell_type": "code",
      "execution_count": 34,
      "metadata": {
        "id": "m2a7DTkzC5Vy"
      },
      "outputs": [
        {
          "ename": "RuntimeError",
          "evalue": "\nReturn value was annotated as having type Tensor but is actually of type Tuple[Tensor, Tensor]:\n  File \"C:\\Users\\sandu\\AppData\\Local\\Temp\\ipykernel_22456\\1340755348.py\", line 33\n    output = self.binary_classifier(torch.reshape(output1, (N, seq_length*embed_size))) \n  \n    return output, output1\n    ~~~~~~~~~~~~~~~~~~~~~~ <--- HERE\n",
          "output_type": "error",
          "traceback": [
            "\u001b[1;31m---------------------------------------------------------------------------\u001b[0m",
            "\u001b[1;31mRuntimeError\u001b[0m                              Traceback (most recent call last)",
            "Cell \u001b[1;32mIn[34], line 6\u001b[0m\n\u001b[0;32m      3\u001b[0m PATH \u001b[38;5;241m=\u001b[39m \u001b[38;5;124m'\u001b[39m\u001b[38;5;124m./PonziShield_tr_v1.pth\u001b[39m\u001b[38;5;124m'\u001b[39m\n\u001b[0;32m      4\u001b[0m \u001b[38;5;66;03m# torch.save(model, PATH)\u001b[39;00m\n\u001b[0;32m      5\u001b[0m \u001b[38;5;66;03m# Saving model\u001b[39;00m\n\u001b[1;32m----> 6\u001b[0m model_scripted \u001b[38;5;241m=\u001b[39m \u001b[43mtorch\u001b[49m\u001b[38;5;241;43m.\u001b[39;49m\u001b[43mjit\u001b[49m\u001b[38;5;241;43m.\u001b[39;49m\u001b[43mscript\u001b[49m\u001b[43m(\u001b[49m\u001b[43mmodel\u001b[49m\u001b[43m)\u001b[49m \u001b[38;5;66;03m# Export to TorchScript\u001b[39;00m\n\u001b[0;32m      7\u001b[0m model_scripted\u001b[38;5;241m.\u001b[39msave(PATH) \u001b[38;5;66;03m# Save\u001b[39;00m\n",
            "File \u001b[1;32mc:\\Users\\sandu\\Desktop\\sem7\\fyp\\App\\.venv\\lib\\site-packages\\torch\\jit\\_script.py:1324\u001b[0m, in \u001b[0;36mscript\u001b[1;34m(obj, optimize, _frames_up, _rcb, example_inputs)\u001b[0m\n\u001b[0;32m   1322\u001b[0m \u001b[38;5;28;01mif\u001b[39;00m \u001b[38;5;28misinstance\u001b[39m(obj, torch\u001b[38;5;241m.\u001b[39mnn\u001b[38;5;241m.\u001b[39mModule):\n\u001b[0;32m   1323\u001b[0m     obj \u001b[38;5;241m=\u001b[39m call_prepare_scriptable_func(obj)\n\u001b[1;32m-> 1324\u001b[0m     \u001b[38;5;28;01mreturn\u001b[39;00m \u001b[43mtorch\u001b[49m\u001b[38;5;241;43m.\u001b[39;49m\u001b[43mjit\u001b[49m\u001b[38;5;241;43m.\u001b[39;49m\u001b[43m_recursive\u001b[49m\u001b[38;5;241;43m.\u001b[39;49m\u001b[43mcreate_script_module\u001b[49m\u001b[43m(\u001b[49m\n\u001b[0;32m   1325\u001b[0m \u001b[43m        \u001b[49m\u001b[43mobj\u001b[49m\u001b[43m,\u001b[49m\u001b[43m \u001b[49m\u001b[43mtorch\u001b[49m\u001b[38;5;241;43m.\u001b[39;49m\u001b[43mjit\u001b[49m\u001b[38;5;241;43m.\u001b[39;49m\u001b[43m_recursive\u001b[49m\u001b[38;5;241;43m.\u001b[39;49m\u001b[43minfer_methods_to_compile\u001b[49m\n\u001b[0;32m   1326\u001b[0m \u001b[43m    \u001b[49m\u001b[43m)\u001b[49m\n\u001b[0;32m   1327\u001b[0m \u001b[38;5;28;01melse\u001b[39;00m:\n\u001b[0;32m   1328\u001b[0m     obj \u001b[38;5;241m=\u001b[39m obj\u001b[38;5;241m.\u001b[39m__prepare_scriptable__() \u001b[38;5;28;01mif\u001b[39;00m \u001b[38;5;28mhasattr\u001b[39m(obj, \u001b[38;5;124m\"\u001b[39m\u001b[38;5;124m__prepare_scriptable__\u001b[39m\u001b[38;5;124m\"\u001b[39m) \u001b[38;5;28;01melse\u001b[39;00m obj  \u001b[38;5;66;03m# type: ignore[operator]\u001b[39;00m\n",
            "File \u001b[1;32mc:\\Users\\sandu\\Desktop\\sem7\\fyp\\App\\.venv\\lib\\site-packages\\torch\\jit\\_recursive.py:559\u001b[0m, in \u001b[0;36mcreate_script_module\u001b[1;34m(nn_module, stubs_fn, share_types, is_tracing)\u001b[0m\n\u001b[0;32m    557\u001b[0m \u001b[38;5;28;01mif\u001b[39;00m \u001b[38;5;129;01mnot\u001b[39;00m is_tracing:\n\u001b[0;32m    558\u001b[0m     AttributeTypeIsSupportedChecker()\u001b[38;5;241m.\u001b[39mcheck(nn_module)\n\u001b[1;32m--> 559\u001b[0m \u001b[38;5;28;01mreturn\u001b[39;00m \u001b[43mcreate_script_module_impl\u001b[49m\u001b[43m(\u001b[49m\u001b[43mnn_module\u001b[49m\u001b[43m,\u001b[49m\u001b[43m \u001b[49m\u001b[43mconcrete_type\u001b[49m\u001b[43m,\u001b[49m\u001b[43m \u001b[49m\u001b[43mstubs_fn\u001b[49m\u001b[43m)\u001b[49m\n",
            "File \u001b[1;32mc:\\Users\\sandu\\Desktop\\sem7\\fyp\\App\\.venv\\lib\\site-packages\\torch\\jit\\_recursive.py:636\u001b[0m, in \u001b[0;36mcreate_script_module_impl\u001b[1;34m(nn_module, concrete_type, stubs_fn)\u001b[0m\n\u001b[0;32m    634\u001b[0m \u001b[38;5;66;03m# Compile methods if necessary\u001b[39;00m\n\u001b[0;32m    635\u001b[0m \u001b[38;5;28;01mif\u001b[39;00m concrete_type \u001b[38;5;129;01mnot\u001b[39;00m \u001b[38;5;129;01min\u001b[39;00m concrete_type_store\u001b[38;5;241m.\u001b[39mmethods_compiled:\n\u001b[1;32m--> 636\u001b[0m     \u001b[43mcreate_methods_and_properties_from_stubs\u001b[49m\u001b[43m(\u001b[49m\n\u001b[0;32m    637\u001b[0m \u001b[43m        \u001b[49m\u001b[43mconcrete_type\u001b[49m\u001b[43m,\u001b[49m\u001b[43m \u001b[49m\u001b[43mmethod_stubs\u001b[49m\u001b[43m,\u001b[49m\u001b[43m \u001b[49m\u001b[43mproperty_stubs\u001b[49m\n\u001b[0;32m    638\u001b[0m \u001b[43m    \u001b[49m\u001b[43m)\u001b[49m\n\u001b[0;32m    639\u001b[0m     \u001b[38;5;66;03m# Create hooks after methods to ensure no name collisions between hooks and methods.\u001b[39;00m\n\u001b[0;32m    640\u001b[0m     \u001b[38;5;66;03m# If done before, hooks can overshadow methods that aren't exported.\u001b[39;00m\n\u001b[0;32m    641\u001b[0m     create_hooks_from_stubs(concrete_type, hook_stubs, pre_hook_stubs)\n",
            "File \u001b[1;32mc:\\Users\\sandu\\Desktop\\sem7\\fyp\\App\\.venv\\lib\\site-packages\\torch\\jit\\_recursive.py:469\u001b[0m, in \u001b[0;36mcreate_methods_and_properties_from_stubs\u001b[1;34m(concrete_type, method_stubs, property_stubs)\u001b[0m\n\u001b[0;32m    466\u001b[0m property_defs \u001b[38;5;241m=\u001b[39m [p\u001b[38;5;241m.\u001b[39mdef_ \u001b[38;5;28;01mfor\u001b[39;00m p \u001b[38;5;129;01min\u001b[39;00m property_stubs]\n\u001b[0;32m    467\u001b[0m property_rcbs \u001b[38;5;241m=\u001b[39m [p\u001b[38;5;241m.\u001b[39mresolution_callback \u001b[38;5;28;01mfor\u001b[39;00m p \u001b[38;5;129;01min\u001b[39;00m property_stubs]\n\u001b[1;32m--> 469\u001b[0m \u001b[43mconcrete_type\u001b[49m\u001b[38;5;241;43m.\u001b[39;49m\u001b[43m_create_methods_and_properties\u001b[49m\u001b[43m(\u001b[49m\n\u001b[0;32m    470\u001b[0m \u001b[43m    \u001b[49m\u001b[43mproperty_defs\u001b[49m\u001b[43m,\u001b[49m\u001b[43m \u001b[49m\u001b[43mproperty_rcbs\u001b[49m\u001b[43m,\u001b[49m\u001b[43m \u001b[49m\u001b[43mmethod_defs\u001b[49m\u001b[43m,\u001b[49m\u001b[43m \u001b[49m\u001b[43mmethod_rcbs\u001b[49m\u001b[43m,\u001b[49m\u001b[43m \u001b[49m\u001b[43mmethod_defaults\u001b[49m\n\u001b[0;32m    471\u001b[0m \u001b[43m\u001b[49m\u001b[43m)\u001b[49m\n",
            "\u001b[1;31mRuntimeError\u001b[0m: \nReturn value was annotated as having type Tensor but is actually of type Tuple[Tensor, Tensor]:\n  File \"C:\\Users\\sandu\\AppData\\Local\\Temp\\ipykernel_22456\\1340755348.py\", line 33\n    output = self.binary_classifier(torch.reshape(output1, (N, seq_length*embed_size))) \n  \n    return output, output1\n    ~~~~~~~~~~~~~~~~~~~~~~ <--- HERE\n"
          ]
        }
      ],
      "source": [
        "#PATH = './DeFi_Supervised_v1.pth'\n",
        "#PATH = './DeFi_Ablation_v2.pth'\n",
        "PATH = './PonziShield_tr_v1.pth'\n",
        "torch.save(model, PATH)\n",
        "\n",
        "\n"
      ]
    },
    {
      "cell_type": "code",
      "execution_count": null,
      "metadata": {
        "colab": {
          "base_uri": "https://localhost:8080/"
        },
        "id": "izEn8HI6C-NP",
        "outputId": "5f23c6ca-52a9-4e98-bc7c-14750f5fd644"
      },
      "outputs": [
        {
          "data": {
            "text/plain": [
              "Classifier(\n",
              "  (position_embedding): Embedding(108, 11)\n",
              "  (encoder): TransformerEncoder(\n",
              "    (layers): ModuleList(\n",
              "      (0-7): 8 x TransformerEncoderLayer(\n",
              "        (self_attn): MultiheadAttention(\n",
              "          (out_proj): NonDynamicallyQuantizableLinear(in_features=11, out_features=11, bias=True)\n",
              "        )\n",
              "        (linear1): Linear(in_features=11, out_features=8, bias=True)\n",
              "        (dropout): Dropout(p=0.5, inplace=False)\n",
              "        (linear2): Linear(in_features=8, out_features=11, bias=True)\n",
              "        (norm1): LayerNorm((11,), eps=1e-05, elementwise_affine=True)\n",
              "        (norm2): LayerNorm((11,), eps=1e-05, elementwise_affine=True)\n",
              "        (dropout1): Dropout(p=0.5, inplace=False)\n",
              "        (dropout2): Dropout(p=0.5, inplace=False)\n",
              "      )\n",
              "    )\n",
              "  )\n",
              "  (binary_classifier): BinaryClassification(\n",
              "    (layer_1): Linear(in_features=1188, out_features=64, bias=True)\n",
              "    (layer_2): Linear(in_features=64, out_features=64, bias=True)\n",
              "    (layer_out): Linear(in_features=64, out_features=1, bias=True)\n",
              "    (relu): ReLU()\n",
              "    (dropout): Dropout(p=0.1, inplace=False)\n",
              "    (batchnorm1): BatchNorm1d(64, eps=1e-05, momentum=0.1, affine=True, track_running_stats=True)\n",
              "    (batchnorm2): BatchNorm1d(64, eps=1e-05, momentum=0.1, affine=True, track_running_stats=True)\n",
              "  )\n",
              ")"
            ]
          },
          "execution_count": 98,
          "metadata": {},
          "output_type": "execute_result"
        }
      ],
      "source": [
        "#PATH = './DeFi_Ablation_v1.pth'\n",
        "#PATH = './DeFi_Ablation_v2.pth'\n",
        "PATH = './PonziShield_tr_v1.pth'\n",
        "loaded_model = torch.load(PATH)\n",
        "loaded_model.eval()"
      ]
    },
    {
      "cell_type": "code",
      "execution_count": 99,
      "metadata": {
        "id": "cZ0o2hiGDDfj"
      },
      "outputs": [],
      "source": [
        "import matplotlib.pyplot as plt\n",
        "from sklearn.metrics import confusion_matrix\n",
        "# import seaborn as sn\n",
        "import pandas as pd"
      ]
    },
    {
      "cell_type": "code",
      "execution_count": 100,
      "metadata": {
        "id": "sGBwIMGUDGdB"
      },
      "outputs": [],
      "source": [
        "y_pred = []\n",
        "y_true = []\n",
        "sigmoid = nn.Sigmoid()\n",
        "\n",
        "for X_batch, y_batch in test_loader:\n",
        "        #print(\"w.requires_grad:\",X_batch.requires_grad)\n",
        "        X_batch, y_batch = X_batch.to(device), y_batch.to(device)\n",
        "        results,result_before_bin_classifier = loaded_model(X_batch.float())\n",
        "        y_batch_pred = torch.round(sigmoid(results))\n",
        "        y_pred.extend(y_batch_pred.cpu().detach().numpy())\n",
        "        y_true.extend(y_batch.cpu().detach().numpy())"
      ]
    },
    {
      "cell_type": "code",
      "execution_count": 101,
      "metadata": {
        "colab": {
          "base_uri": "https://localhost:8080/"
        },
        "id": "CSzmhsFfDKu3",
        "outputId": "5879c768-5ff1-4583-dc90-f1166fd16bf3"
      },
      "outputs": [
        {
          "name": "stdout",
          "output_type": "stream",
          "text": [
            "31\n",
            "0.7741935483870968\n"
          ]
        }
      ],
      "source": [
        "count_true = 0\n",
        "for i in range(len(y_pred)):\n",
        "  if y_true[i]==y_pred[i]:\n",
        "    count_true+=1\n",
        "acc = count_true/len(y_pred)\n",
        "print(len(y_test))\n",
        "print(acc)"
      ]
    },
    {
      "cell_type": "code",
      "execution_count": 102,
      "metadata": {
        "colab": {
          "base_uri": "https://localhost:8080/"
        },
        "id": "vHGP4PFqDMw1",
        "outputId": "0fb2d34c-a7e6-4fe1-ef08-ee76fb58175f"
      },
      "outputs": [
        {
          "data": {
            "text/plain": [
              "(17, 4, 3, 7)"
            ]
          },
          "execution_count": 102,
          "metadata": {},
          "output_type": "execute_result"
        }
      ],
      "source": [
        "tn, fp, fn, tp = confusion_matrix(y_true, y_pred).ravel()\n",
        "(tn, fp, fn, tp)"
      ]
    },
    {
      "cell_type": "code",
      "execution_count": 103,
      "metadata": {},
      "outputs": [
        {
          "name": "stdout",
          "output_type": "stream",
          "text": [
            "Recall: 0.7000\n",
            "Precision: 0.6364\n",
            "F1 Score: 0.6667\n"
          ]
        }
      ],
      "source": [
        "# Calculate Recall\n",
        "recall = tp / (tp + fn)\n",
        "\n",
        "# Calculate Precision\n",
        "precision = tp / (tp + fp)\n",
        "\n",
        "# Calculate F1 Score\n",
        "f1_score = 2 * (precision * recall) / (precision + recall)\n",
        "\n",
        "print(\"Recall: {:.4f}\".format(recall))\n",
        "print(\"Precision: {:.4f}\".format(precision))\n",
        "print(\"F1 Score: {:.4f}\".format(f1_score))"
      ]
    },
    {
      "cell_type": "code",
      "execution_count": 40,
      "metadata": {
        "colab": {
          "base_uri": "https://localhost:8080/",
          "height": 599
        },
        "id": "bgsv6Tk1DQLi",
        "outputId": "a71ab99b-a206-4038-e58f-ff66341910a9"
      },
      "outputs": [
        {
          "data": {
            "text/plain": [
              "<Figure size 1200x700 with 0 Axes>"
            ]
          },
          "metadata": {},
          "output_type": "display_data"
        }
      ],
      "source": [
        "cf_matrix = confusion_matrix(y_true, y_pred)\n",
        "df_cm = pd.DataFrame(cf_matrix / np.sum(cf_matrix, axis=1), index = ['0','1'],\n",
        "                     columns = ['0','1'])\n",
        "plt.figure(figsize = (12,7))\n",
        "# sn.heatmap(df_cm, annot=True)\n",
        "plt.savefig('output.png')"
      ]
    },
    {
      "cell_type": "code",
      "execution_count": null,
      "metadata": {},
      "outputs": [],
      "source": []
    },
    {
      "cell_type": "markdown",
      "metadata": {
        "id": "0GJccHvh7Kmg"
      },
      "source": [
        "**Two token**"
      ]
    },
    {
      "cell_type": "code",
      "execution_count": null,
      "metadata": {
        "id": "R778VOz17Pk7"
      },
      "outputs": [],
      "source": [
        "#Anubis\n",
        "ankh_x1 = np.load(\"ankh_full_x1.npy\", allow_pickle=True)"
      ]
    },
    {
      "cell_type": "code",
      "execution_count": null,
      "metadata": {
        "colab": {
          "base_uri": "https://localhost:8080/"
        },
        "id": "RODlfT087TAH",
        "outputId": "11319c3f-9ff4-4f46-e0c5-99e8f424aa81"
      },
      "outputs": [
        {
          "name": "stdout",
          "output_type": "stream",
          "text": [
            "(108, 7)\n",
            "(1, 108, 7)\n",
            "tensor([[0.0071]], device='cuda:0', grad_fn=<SigmoidBackward0>)\n"
          ]
        },
        {
          "data": {
            "text/plain": [
              "tensor([[0.]], device='cuda:0', grad_fn=<RoundBackward0>)"
            ]
          },
          "execution_count": 15,
          "metadata": {},
          "output_type": "execute_result"
        }
      ],
      "source": [
        "#500\n",
        "\n",
        "for i in range(50,108):\n",
        "  ankh_x1[i] = [0,0,0,0,0,0,0]\n",
        "\n",
        "print(ankh_x1.shape)\n",
        "ankh_x1 = np.reshape(ankh_x1, (1, 108, 7))\n",
        "print(ankh_x1.shape)\n",
        "\n",
        "ankh_x1 = torch.from_numpy(ankh_x1)\n",
        "ankh_x1 = ankh_x1.to(device)\n",
        "\n",
        "sigmoid = nn.Sigmoid()\n",
        "val = sigmoid(loaded_model(ankh_x1.float()))\n",
        "print(val)\n",
        "torch.round(val)"
      ]
    },
    {
      "cell_type": "code",
      "execution_count": null,
      "metadata": {
        "colab": {
          "base_uri": "https://localhost:8080/"
        },
        "id": "B0bNCGzH8Lwf",
        "outputId": "867a719d-b917-4996-ddd5-40008b5e1b3e"
      },
      "outputs": [
        {
          "name": "stdout",
          "output_type": "stream",
          "text": [
            "(108, 7)\n",
            "(1, 108, 7)\n",
            "tensor([[0.2284]], device='cuda:0', grad_fn=<SigmoidBackward0>)\n"
          ]
        },
        {
          "data": {
            "text/plain": [
              "tensor([[0.]], device='cuda:0', grad_fn=<RoundBackward0>)"
            ]
          },
          "execution_count": 27,
          "metadata": {},
          "output_type": "execute_result"
        }
      ],
      "source": [
        "#750\n",
        "\n",
        "for i in range(75,108):\n",
        "  ankh_x1[i] = [0,0,0,0,0,0,0]\n",
        "\n",
        "print(ankh_x1.shape)\n",
        "ankh_x1 = np.reshape(ankh_x1, (1, 108, 7))\n",
        "print(ankh_x1.shape)\n",
        "\n",
        "ankh_x1 = torch.from_numpy(ankh_x1)\n",
        "ankh_x1 = ankh_x1.to(device)\n",
        "\n",
        "sigmoid = nn.Sigmoid()\n",
        "val = sigmoid(loaded_model(ankh_x1.float()))\n",
        "print(val)\n",
        "torch.round(val)"
      ]
    },
    {
      "cell_type": "code",
      "execution_count": null,
      "metadata": {
        "colab": {
          "base_uri": "https://localhost:8080/"
        },
        "id": "GZNvipUc8RXX",
        "outputId": "24db96fb-7b60-43f5-90db-117012bcfd76"
      },
      "outputs": [
        {
          "name": "stdout",
          "output_type": "stream",
          "text": [
            "(108, 7)\n",
            "(1, 108, 7)\n",
            "tensor([[0.9375]], device='cuda:0', grad_fn=<SigmoidBackward0>)\n"
          ]
        },
        {
          "data": {
            "text/plain": [
              "tensor([[1.]], device='cuda:0', grad_fn=<RoundBackward0>)"
            ]
          },
          "execution_count": 29,
          "metadata": {},
          "output_type": "execute_result"
        }
      ],
      "source": [
        "#850\n",
        "\n",
        "for i in range(85,108):\n",
        "  ankh_x1[i] = [0,0,0,0,0,0,0]\n",
        "\n",
        "print(ankh_x1.shape)\n",
        "ankh_x1 = np.reshape(ankh_x1, (1, 108, 7))\n",
        "print(ankh_x1.shape)\n",
        "\n",
        "ankh_x1 = torch.from_numpy(ankh_x1)\n",
        "ankh_x1 = ankh_x1.to(device)\n",
        "\n",
        "sigmoid = nn.Sigmoid()\n",
        "val = sigmoid(loaded_model(ankh_x1.float()))\n",
        "print(val)\n",
        "torch.round(val)"
      ]
    },
    {
      "cell_type": "code",
      "execution_count": null,
      "metadata": {
        "colab": {
          "base_uri": "https://localhost:8080/"
        },
        "id": "D6ehoLVN8eg7",
        "outputId": "19bcfe53-b220-461b-c02f-9ad53745253d"
      },
      "outputs": [
        {
          "name": "stdout",
          "output_type": "stream",
          "text": [
            "(108, 7)\n",
            "(1, 108, 7)\n",
            "tensor([[7.5255e-07]], device='cuda:0', grad_fn=<SigmoidBackward0>)\n"
          ]
        },
        {
          "data": {
            "text/plain": [
              "tensor([[0.]], device='cuda:0', grad_fn=<RoundBackward0>)"
            ]
          },
          "execution_count": 25,
          "metadata": {},
          "output_type": "execute_result"
        }
      ],
      "source": [
        "#full\n",
        "\n",
        "#for i in range(50,108):\n",
        "#  ankh_x1[i] = [0,0,0,0,0,0,0]\n",
        "\n",
        "print(ankh_x1.shape)\n",
        "ankh_x1 = np.reshape(ankh_x1, (1, 108, 7))\n",
        "print(ankh_x1.shape)\n",
        "\n",
        "ankh_x1 = torch.from_numpy(ankh_x1)\n",
        "ankh_x1 = ankh_x1.to(device)\n",
        "\n",
        "sigmoid = nn.Sigmoid()\n",
        "val = sigmoid(loaded_model(ankh_x1.float()))\n",
        "print(val)\n",
        "torch.round(val)"
      ]
    },
    {
      "cell_type": "code",
      "execution_count": null,
      "metadata": {
        "id": "JJQK0TkG8yq9"
      },
      "outputs": [],
      "source": [
        "#Sushi\n",
        "sushi_x1 = np.load(\"sushi_full_x1.npy\", allow_pickle=True)"
      ]
    },
    {
      "cell_type": "code",
      "execution_count": null,
      "metadata": {
        "colab": {
          "base_uri": "https://localhost:8080/"
        },
        "id": "mijpOWkG89dp",
        "outputId": "b7c795fa-de14-4fd4-f32d-d0b4b723e3a7"
      },
      "outputs": [
        {
          "name": "stdout",
          "output_type": "stream",
          "text": [
            "(108, 7)\n",
            "(1, 108, 7)\n",
            "tensor([[0.0580]], device='cuda:0', grad_fn=<SigmoidBackward0>)\n"
          ]
        },
        {
          "data": {
            "text/plain": [
              "tensor([[0.]], device='cuda:0', grad_fn=<RoundBackward0>)"
            ]
          },
          "execution_count": 37,
          "metadata": {},
          "output_type": "execute_result"
        }
      ],
      "source": [
        "#500\n",
        "\n",
        "for i in range(50,108):\n",
        "  sushi_x1[i] = [0,0,0,0,0,0,0]\n",
        "\n",
        "print(sushi_x1.shape)\n",
        "sushi_x1 = np.reshape(sushi_x1, (1, 108, 7))\n",
        "print(sushi_x1.shape)\n",
        "\n",
        "sushi_x1 = torch.from_numpy(sushi_x1)\n",
        "sushi_x1 = sushi_x1.to(device)\n",
        "\n",
        "sigmoid = nn.Sigmoid()\n",
        "val = sigmoid(loaded_model(sushi_x1.float()))\n",
        "print(val)\n",
        "torch.round(val)"
      ]
    },
    {
      "cell_type": "code",
      "execution_count": null,
      "metadata": {
        "colab": {
          "base_uri": "https://localhost:8080/"
        },
        "id": "An3228-l9Fkj",
        "outputId": "f8c6818a-9446-4a0e-a58e-a705903927e4"
      },
      "outputs": [
        {
          "name": "stdout",
          "output_type": "stream",
          "text": [
            "(108, 7)\n",
            "(1, 108, 7)\n",
            "tensor([[0.9919]], device='cuda:0', grad_fn=<SigmoidBackward0>)\n"
          ]
        },
        {
          "data": {
            "text/plain": [
              "tensor([[1.]], device='cuda:0', grad_fn=<RoundBackward0>)"
            ]
          },
          "execution_count": 39,
          "metadata": {},
          "output_type": "execute_result"
        }
      ],
      "source": [
        "#750\n",
        "\n",
        "for i in range(75,108):\n",
        "  sushi_x1[i] = [0,0,0,0,0,0,0]\n",
        "\n",
        "print(sushi_x1.shape)\n",
        "sushi_x1 = np.reshape(sushi_x1, (1, 108, 7))\n",
        "print(sushi_x1.shape)\n",
        "\n",
        "sushi_x1 = torch.from_numpy(sushi_x1)\n",
        "sushi_x1 = sushi_x1.to(device)\n",
        "\n",
        "sigmoid = nn.Sigmoid()\n",
        "val = sigmoid(loaded_model(sushi_x1.float()))\n",
        "print(val)\n",
        "torch.round(val)"
      ]
    },
    {
      "cell_type": "code",
      "execution_count": null,
      "metadata": {
        "colab": {
          "base_uri": "https://localhost:8080/"
        },
        "id": "HwaSuG8I84_1",
        "outputId": "befe8a4a-da7a-46cb-fd71-b10e0fcf4979"
      },
      "outputs": [
        {
          "name": "stdout",
          "output_type": "stream",
          "text": [
            "(108, 7)\n",
            "(1, 108, 7)\n",
            "tensor([[0.9957]], device='cuda:0', grad_fn=<SigmoidBackward0>)\n"
          ]
        },
        {
          "data": {
            "text/plain": [
              "tensor([[1.]], device='cuda:0', grad_fn=<RoundBackward0>)"
            ]
          },
          "execution_count": 41,
          "metadata": {},
          "output_type": "execute_result"
        }
      ],
      "source": [
        "#850\n",
        "\n",
        "for i in range(85,108):\n",
        "  sushi_x1[i] = [0,0,0,0,0,0,0]\n",
        "\n",
        "print(sushi_x1.shape)\n",
        "sushi_x1 = np.reshape(sushi_x1, (1, 108, 7))\n",
        "print(sushi_x1.shape)\n",
        "\n",
        "sushi_x1 = torch.from_numpy(sushi_x1)\n",
        "sushi_x1 = sushi_x1.to(device)\n",
        "\n",
        "sigmoid = nn.Sigmoid()\n",
        "val = sigmoid(loaded_model(sushi_x1.float()))\n",
        "print(val)\n",
        "torch.round(val)"
      ]
    },
    {
      "cell_type": "code",
      "execution_count": null,
      "metadata": {
        "colab": {
          "base_uri": "https://localhost:8080/"
        },
        "id": "u8j-eq0S-8NE",
        "outputId": "b03a734f-0951-4356-9af6-917866b002ea"
      },
      "outputs": [
        {
          "name": "stdout",
          "output_type": "stream",
          "text": [
            "(108, 7)\n",
            "(1, 108, 7)\n",
            "tensor([[1.]], device='cuda:0', grad_fn=<SigmoidBackward0>)\n"
          ]
        },
        {
          "data": {
            "text/plain": [
              "tensor([[1.]], device='cuda:0', grad_fn=<RoundBackward0>)"
            ]
          },
          "execution_count": 43,
          "metadata": {},
          "output_type": "execute_result"
        }
      ],
      "source": [
        "#Full\n",
        "\n",
        "print(sushi_x1.shape)\n",
        "sushi_x1 = np.reshape(sushi_x1, (1, 108, 7))\n",
        "print(sushi_x1.shape)\n",
        "\n",
        "sushi_x1 = torch.from_numpy(sushi_x1)\n",
        "sushi_x1 = sushi_x1.to(device)\n",
        "\n",
        "sigmoid = nn.Sigmoid()\n",
        "val = sigmoid(loaded_model(sushi_x1.float()))\n",
        "print(val)\n",
        "torch.round(val)"
      ]
    },
    {
      "cell_type": "markdown",
      "metadata": {
        "id": "wddTMx_0FvUe"
      },
      "source": [
        "**APE**"
      ]
    },
    {
      "cell_type": "code",
      "execution_count": null,
      "metadata": {
        "colab": {
          "base_uri": "https://localhost:8080/",
          "height": 73
        },
        "id": "DYfxUxHXF14X",
        "outputId": "4395ee73-0dd7-4d1a-d5f1-65f67fed28b2"
      },
      "outputs": [
        {
          "data": {
            "text/html": [
              "\n",
              "     <input type=\"file\" id=\"files-db7de152-32b4-4e17-a237-d14ef2dcfc17\" name=\"files[]\" multiple disabled\n",
              "        style=\"border:none\" />\n",
              "     <output id=\"result-db7de152-32b4-4e17-a237-d14ef2dcfc17\">\n",
              "      Upload widget is only available when the cell has been executed in the\n",
              "      current browser session. Please rerun this cell to enable.\n",
              "      </output>\n",
              "      <script>// Copyright 2017 Google LLC\n",
              "//\n",
              "// Licensed under the Apache License, Version 2.0 (the \"License\");\n",
              "// you may not use this file except in compliance with the License.\n",
              "// You may obtain a copy of the License at\n",
              "//\n",
              "//      http://www.apache.org/licenses/LICENSE-2.0\n",
              "//\n",
              "// Unless required by applicable law or agreed to in writing, software\n",
              "// distributed under the License is distributed on an \"AS IS\" BASIS,\n",
              "// WITHOUT WARRANTIES OR CONDITIONS OF ANY KIND, either express or implied.\n",
              "// See the License for the specific language governing permissions and\n",
              "// limitations under the License.\n",
              "\n",
              "/**\n",
              " * @fileoverview Helpers for google.colab Python module.\n",
              " */\n",
              "(function(scope) {\n",
              "function span(text, styleAttributes = {}) {\n",
              "  const element = document.createElement('span');\n",
              "  element.textContent = text;\n",
              "  for (const key of Object.keys(styleAttributes)) {\n",
              "    element.style[key] = styleAttributes[key];\n",
              "  }\n",
              "  return element;\n",
              "}\n",
              "\n",
              "// Max number of bytes which will be uploaded at a time.\n",
              "const MAX_PAYLOAD_SIZE = 100 * 1024;\n",
              "\n",
              "function _uploadFiles(inputId, outputId) {\n",
              "  const steps = uploadFilesStep(inputId, outputId);\n",
              "  const outputElement = document.getElementById(outputId);\n",
              "  // Cache steps on the outputElement to make it available for the next call\n",
              "  // to uploadFilesContinue from Python.\n",
              "  outputElement.steps = steps;\n",
              "\n",
              "  return _uploadFilesContinue(outputId);\n",
              "}\n",
              "\n",
              "// This is roughly an async generator (not supported in the browser yet),\n",
              "// where there are multiple asynchronous steps and the Python side is going\n",
              "// to poll for completion of each step.\n",
              "// This uses a Promise to block the python side on completion of each step,\n",
              "// then passes the result of the previous step as the input to the next step.\n",
              "function _uploadFilesContinue(outputId) {\n",
              "  const outputElement = document.getElementById(outputId);\n",
              "  const steps = outputElement.steps;\n",
              "\n",
              "  const next = steps.next(outputElement.lastPromiseValue);\n",
              "  return Promise.resolve(next.value.promise).then((value) => {\n",
              "    // Cache the last promise value to make it available to the next\n",
              "    // step of the generator.\n",
              "    outputElement.lastPromiseValue = value;\n",
              "    return next.value.response;\n",
              "  });\n",
              "}\n",
              "\n",
              "/**\n",
              " * Generator function which is called between each async step of the upload\n",
              " * process.\n",
              " * @param {string} inputId Element ID of the input file picker element.\n",
              " * @param {string} outputId Element ID of the output display.\n",
              " * @return {!Iterable<!Object>} Iterable of next steps.\n",
              " */\n",
              "function* uploadFilesStep(inputId, outputId) {\n",
              "  const inputElement = document.getElementById(inputId);\n",
              "  inputElement.disabled = false;\n",
              "\n",
              "  const outputElement = document.getElementById(outputId);\n",
              "  outputElement.innerHTML = '';\n",
              "\n",
              "  const pickedPromise = new Promise((resolve) => {\n",
              "    inputElement.addEventListener('change', (e) => {\n",
              "      resolve(e.target.files);\n",
              "    });\n",
              "  });\n",
              "\n",
              "  const cancel = document.createElement('button');\n",
              "  inputElement.parentElement.appendChild(cancel);\n",
              "  cancel.textContent = 'Cancel upload';\n",
              "  const cancelPromise = new Promise((resolve) => {\n",
              "    cancel.onclick = () => {\n",
              "      resolve(null);\n",
              "    };\n",
              "  });\n",
              "\n",
              "  // Wait for the user to pick the files.\n",
              "  const files = yield {\n",
              "    promise: Promise.race([pickedPromise, cancelPromise]),\n",
              "    response: {\n",
              "      action: 'starting',\n",
              "    }\n",
              "  };\n",
              "\n",
              "  cancel.remove();\n",
              "\n",
              "  // Disable the input element since further picks are not allowed.\n",
              "  inputElement.disabled = true;\n",
              "\n",
              "  if (!files) {\n",
              "    return {\n",
              "      response: {\n",
              "        action: 'complete',\n",
              "      }\n",
              "    };\n",
              "  }\n",
              "\n",
              "  for (const file of files) {\n",
              "    const li = document.createElement('li');\n",
              "    li.append(span(file.name, {fontWeight: 'bold'}));\n",
              "    li.append(span(\n",
              "        `(${file.type || 'n/a'}) - ${file.size} bytes, ` +\n",
              "        `last modified: ${\n",
              "            file.lastModifiedDate ? file.lastModifiedDate.toLocaleDateString() :\n",
              "                                    'n/a'} - `));\n",
              "    const percent = span('0% done');\n",
              "    li.appendChild(percent);\n",
              "\n",
              "    outputElement.appendChild(li);\n",
              "\n",
              "    const fileDataPromise = new Promise((resolve) => {\n",
              "      const reader = new FileReader();\n",
              "      reader.onload = (e) => {\n",
              "        resolve(e.target.result);\n",
              "      };\n",
              "      reader.readAsArrayBuffer(file);\n",
              "    });\n",
              "    // Wait for the data to be ready.\n",
              "    let fileData = yield {\n",
              "      promise: fileDataPromise,\n",
              "      response: {\n",
              "        action: 'continue',\n",
              "      }\n",
              "    };\n",
              "\n",
              "    // Use a chunked sending to avoid message size limits. See b/62115660.\n",
              "    let position = 0;\n",
              "    do {\n",
              "      const length = Math.min(fileData.byteLength - position, MAX_PAYLOAD_SIZE);\n",
              "      const chunk = new Uint8Array(fileData, position, length);\n",
              "      position += length;\n",
              "\n",
              "      const base64 = btoa(String.fromCharCode.apply(null, chunk));\n",
              "      yield {\n",
              "        response: {\n",
              "          action: 'append',\n",
              "          file: file.name,\n",
              "          data: base64,\n",
              "        },\n",
              "      };\n",
              "\n",
              "      let percentDone = fileData.byteLength === 0 ?\n",
              "          100 :\n",
              "          Math.round((position / fileData.byteLength) * 100);\n",
              "      percent.textContent = `${percentDone}% done`;\n",
              "\n",
              "    } while (position < fileData.byteLength);\n",
              "  }\n",
              "\n",
              "  // All done.\n",
              "  yield {\n",
              "    response: {\n",
              "      action: 'complete',\n",
              "    }\n",
              "  };\n",
              "}\n",
              "\n",
              "scope.google = scope.google || {};\n",
              "scope.google.colab = scope.google.colab || {};\n",
              "scope.google.colab._files = {\n",
              "  _uploadFiles,\n",
              "  _uploadFilesContinue,\n",
              "};\n",
              "})(self);\n",
              "</script> "
            ],
            "text/plain": [
              "<IPython.core.display.HTML object>"
            ]
          },
          "metadata": {},
          "output_type": "display_data"
        },
        {
          "name": "stdout",
          "output_type": "stream",
          "text": [
            "Saving ape_full_x1.npy to ape_full_x1.npy\n"
          ]
        }
      ],
      "source": [
        "from google.colab import files\n",
        "uploaded=files.upload()"
      ]
    },
    {
      "cell_type": "code",
      "execution_count": null,
      "metadata": {
        "id": "J7xOK4d5Fxq1"
      },
      "outputs": [],
      "source": [
        "#Ape\n",
        "x1 = np.load(\"ape_full_x1.npy\", allow_pickle=True)"
      ]
    },
    {
      "cell_type": "code",
      "execution_count": null,
      "metadata": {
        "colab": {
          "base_uri": "https://localhost:8080/"
        },
        "id": "WYrL8_w9GAYC",
        "outputId": "fde4d624-18b9-4625-a97e-09caeda11ffa"
      },
      "outputs": [
        {
          "name": "stdout",
          "output_type": "stream",
          "text": [
            "(108, 7)\n",
            "(1, 108, 7)\n",
            "tensor([[0.0006]], device='cuda:0', grad_fn=<SigmoidBackward0>)\n"
          ]
        },
        {
          "data": {
            "text/plain": [
              "tensor([[0.]], device='cuda:0', grad_fn=<RoundBackward0>)"
            ]
          },
          "execution_count": 13,
          "metadata": {},
          "output_type": "execute_result"
        }
      ],
      "source": [
        "#500\n",
        "\n",
        "for i in range(50,108):\n",
        "  x1[i] = [0,0,0,0,0,0,0]\n",
        "\n",
        "print(x1.shape)\n",
        "x1 = np.reshape(x1, (1, 108, 7))\n",
        "print(x1.shape)\n",
        "\n",
        "x1 = torch.from_numpy(x1)\n",
        "x1 = x1.to(device)\n",
        "\n",
        "sigmoid = nn.Sigmoid()\n",
        "val = sigmoid(loaded_model(x1.float()))\n",
        "print(val)\n",
        "torch.round(val)"
      ]
    },
    {
      "cell_type": "code",
      "execution_count": null,
      "metadata": {
        "colab": {
          "base_uri": "https://localhost:8080/"
        },
        "id": "q3TmrbnhGIcv",
        "outputId": "629d2479-272d-4c5c-e812-924caef1c3c0"
      },
      "outputs": [
        {
          "name": "stdout",
          "output_type": "stream",
          "text": [
            "(108, 7)\n",
            "(1, 108, 7)\n",
            "tensor([[0.9763]], device='cuda:0', grad_fn=<SigmoidBackward0>)\n"
          ]
        },
        {
          "data": {
            "text/plain": [
              "tensor([[1.]], device='cuda:0', grad_fn=<RoundBackward0>)"
            ]
          },
          "execution_count": 16,
          "metadata": {},
          "output_type": "execute_result"
        }
      ],
      "source": [
        "#750\n",
        "\n",
        "for i in range(75,108):\n",
        "  x1[i] = [0,0,0,0,0,0,0]\n",
        "\n",
        "print(x1.shape)\n",
        "x1 = np.reshape(x1, (1, 108, 7))\n",
        "print(x1.shape)\n",
        "\n",
        "x1 = torch.from_numpy(x1)\n",
        "x1 = x1.to(device)\n",
        "\n",
        "sigmoid = nn.Sigmoid()\n",
        "val = sigmoid(loaded_model(x1.float()))\n",
        "print(val)\n",
        "torch.round(val)"
      ]
    },
    {
      "cell_type": "code",
      "execution_count": null,
      "metadata": {
        "colab": {
          "base_uri": "https://localhost:8080/"
        },
        "id": "t840Bw2GGRzq",
        "outputId": "b94ba91f-1e0c-485c-95bd-ebeba19782ad"
      },
      "outputs": [
        {
          "name": "stdout",
          "output_type": "stream",
          "text": [
            "(108, 7)\n",
            "(1, 108, 7)\n",
            "tensor([[0.9997]], device='cuda:0', grad_fn=<SigmoidBackward0>)\n"
          ]
        },
        {
          "data": {
            "text/plain": [
              "tensor([[1.]], device='cuda:0', grad_fn=<RoundBackward0>)"
            ]
          },
          "execution_count": 18,
          "metadata": {},
          "output_type": "execute_result"
        }
      ],
      "source": [
        "#850\n",
        "\n",
        "for i in range(85,108):\n",
        "  x1[i] = [0,0,0,0,0,0,0]\n",
        "\n",
        "print(x1.shape)\n",
        "x1 = np.reshape(x1, (1, 108, 7))\n",
        "print(x1.shape)\n",
        "\n",
        "x1 = torch.from_numpy(x1)\n",
        "x1 = x1.to(device)\n",
        "\n",
        "sigmoid = nn.Sigmoid()\n",
        "val = sigmoid(loaded_model(x1.float()))\n",
        "print(val)\n",
        "torch.round(val)"
      ]
    },
    {
      "cell_type": "code",
      "execution_count": null,
      "metadata": {
        "colab": {
          "base_uri": "https://localhost:8080/"
        },
        "id": "IR32mru-Gamj",
        "outputId": "b1fb144c-adfe-49af-8d3e-b579835171df"
      },
      "outputs": [
        {
          "name": "stdout",
          "output_type": "stream",
          "text": [
            "(108, 7)\n",
            "(1, 108, 7)\n",
            "tensor([[8.2050e-08]], device='cuda:0', grad_fn=<SigmoidBackward0>)\n"
          ]
        },
        {
          "data": {
            "text/plain": [
              "tensor([[0.]], device='cuda:0', grad_fn=<RoundBackward0>)"
            ]
          },
          "execution_count": 20,
          "metadata": {},
          "output_type": "execute_result"
        }
      ],
      "source": [
        "#Full\n",
        "\n",
        "print(x1.shape)\n",
        "x1 = np.reshape(x1, (1, 108, 7))\n",
        "print(x1.shape)\n",
        "\n",
        "x1 = torch.from_numpy(x1)\n",
        "x1 = x1.to(device)\n",
        "\n",
        "sigmoid = nn.Sigmoid()\n",
        "val = sigmoid(loaded_model(x1.float()))\n",
        "print(val)\n",
        "torch.round(val)"
      ]
    }
  ],
  "metadata": {
    "accelerator": "GPU",
    "colab": {
      "gpuType": "T4",
      "provenance": []
    },
    "kernelspec": {
      "display_name": "Python 3",
      "name": "python3"
    },
    "language_info": {
      "codemirror_mode": {
        "name": "ipython",
        "version": 3
      },
      "file_extension": ".py",
      "mimetype": "text/x-python",
      "name": "python",
      "nbconvert_exporter": "python",
      "pygments_lexer": "ipython3",
      "version": "3.9.0"
    }
  },
  "nbformat": 4,
  "nbformat_minor": 0
}
