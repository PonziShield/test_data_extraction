{
  "cells": [
    {
      "cell_type": "code",
      "execution_count": 83,
      "metadata": {
        "id": "TQ9vaZNjg-Bv"
      },
      "outputs": [],
      "source": [
        "import torch\n",
        "from torch import nn, Tensor\n",
        "from torch.nn import TransformerEncoder, TransformerEncoderLayer\n",
        "import math\n",
        "import numpy as np\n",
        "from sklearn.model_selection import train_test_split"
      ]
    },
    {
      "cell_type": "code",
      "execution_count": 84,
      "metadata": {
        "colab": {
          "base_uri": "https://localhost:8080/",
          "height": 35
        },
        "id": "ZYbnZdbz06pn",
        "outputId": "127ba225-c112-4132-baee-8c0163daae7d"
      },
      "outputs": [
        {
          "data": {
            "text/plain": [
              "'2.1.2+cu118'"
            ]
          },
          "execution_count": 84,
          "metadata": {},
          "output_type": "execute_result"
        }
      ],
      "source": [
        "torch.__version__"
      ]
    },
    {
      "cell_type": "code",
      "execution_count": 85,
      "metadata": {},
      "outputs": [
        {
          "data": {
            "text/plain": [
              "True"
            ]
          },
          "execution_count": 85,
          "metadata": {},
          "output_type": "execute_result"
        }
      ],
      "source": [
        "torch.cuda.is_available()"
      ]
    },
    {
      "cell_type": "code",
      "execution_count": null,
      "metadata": {},
      "outputs": [],
      "source": []
    },
    {
      "cell_type": "code",
      "execution_count": 86,
      "metadata": {
        "id": "lKX9oYtu6LD0"
      },
      "outputs": [],
      "source": [
        "class BinaryClassification(nn.Module):\n",
        "  def __init__(self, embed_size, device):\n",
        "      super(BinaryClassification, self).__init__()\n",
        "      # Number of input features is embed_size.\n",
        "      self.layer_1 = nn.Linear(embed_size, 64).to(device)\n",
        "      self.layer_2 = nn.Linear(64, 64).to(device)\n",
        "      self.layer_out = nn.Linear(64, 1).to(device)\n",
        "      \n",
        "      self.relu = nn.ReLU()\n",
        "      self.dropout = nn.Dropout(p=0.1)\n",
        "      self.batchnorm1 = nn.BatchNorm1d(64).to(device)\n",
        "      self.batchnorm2 = nn.BatchNorm1d(64).to(device)\n",
        "      self.device = device\n",
        "\n",
        "  def forward(self, inputs):\n",
        "    # print(\"start binary classification\")\n",
        "    # print(inputs.shape)\n",
        "    # print(inputs)\n",
        "    x = self.relu(self.layer_1(inputs))\n",
        "    x = self.batchnorm1(x)\n",
        "    x = self.relu(self.layer_2(x))\n",
        "    x = self.batchnorm2(x)\n",
        "    x = self.dropout(x)\n",
        "    x = self.layer_out(x)\n",
        "    #if math.isnan (x[0][0]):\n",
        "    #  print(src)\n",
        "\n",
        "    return x"
      ]
    },
    {
      "cell_type": "code",
      "execution_count": 87,
      "metadata": {
        "id": "UfthdYqI6W0U"
      },
      "outputs": [],
      "source": [
        "# class Classifier(nn.Module):\n",
        "#   def __init__(self, d_model, seq_len, nhead, dim_feedforward, nlayers, device, dropout = 0.5):\n",
        "#     super(Classifier, self).__init__()\n",
        "#     self.d_model = d_model\n",
        "#     self.seq_len = seq_len\n",
        "#     self.nhead = nhead\n",
        "#     self.dim_feedforward = dim_feedforward\n",
        "#     self.nlayers = nlayers\n",
        "#     self.device = device\n",
        "#     #self.pos_encoder = PositionalEncoding(d_model, dropout)\n",
        "#     self.position_embedding = nn.Embedding(seq_len, d_model)\n",
        "#     encoder_layer = TransformerEncoderLayer(d_model, nhead, dim_feedforward, dropout, batch_first=True)\n",
        "#     self.encoder = TransformerEncoder(encoder_layer, nlayers)\n",
        "#     self.binary_classifier = BinaryClassification(seq_len*d_model, device)\n",
        "\n",
        "\n",
        "#   def forward(self, src: Tensor) -> Tensor:\n",
        "#     # print(\"Classifier forwrd\")\n",
        "#     \"\"\"\n",
        "#     Args:\n",
        "#         src: Tensor, shape [seq_len, batch_size]\n",
        "#         src_mask: Tensor, shape [seq_len, seq_len]\n",
        "#     Returns:\n",
        "#         output Tensor of shape [seq_len, batch_size, ntoken]\n",
        "#     \"\"\"\n",
        "#     N, seq_length, embed_size = src.shape\n",
        "#     positions = torch.arange(0, seq_length).expand(N, seq_length).to(self.device)\n",
        "\n",
        "#     # print(f\"src before positional embeddings: {src.shape}\")\n",
        "#     src_ = src + self.position_embedding(positions)\n",
        "#     # print(f\"src after positional embeddings: {src_.shape}\")\n",
        "#     # print(f\"src after positional embeddings: {src.shape}\")\n",
        "#     # print(src_)\n",
        "#     # print(\"before encoder\")\n",
        "#     output = self.encoder(src_)\n",
        "#     # print(f\"encoder output shape: {output.shape}\")\n",
        "#     # print(output[0])\n",
        "#     # print(output)\n",
        "#     # print(\"after encoder\")\n",
        "#     output = self.binary_classifier(torch.reshape(output, (N, seq_length*embed_size))) \n",
        "#     # output_tx_f = torch.reshape(output, (N, seq_length*embed_size))\n",
        "#     # output = self.binary_classifier(torch.cat((output_tx_f), dim=1)) ##\n",
        "#     return output"
      ]
    },
    {
      "cell_type": "code",
      "execution_count": 88,
      "metadata": {},
      "outputs": [],
      "source": [
        "class Classifier(nn.Module):\n",
        "  def __init__(self, d_model, seq_len, nhead, dim_feedforward, nlayers, device, dropout = 0.5):\n",
        "    super(Classifier, self).__init__()\n",
        "    self.d_model = d_model\n",
        "    self.seq_len = seq_len\n",
        "    self.nhead = nhead\n",
        "    self.dim_feedforward = dim_feedforward\n",
        "    self.nlayers = nlayers\n",
        "    self.device = device\n",
        "    \n",
        "    self.position_embedding = nn.Embedding(seq_len, d_model)\n",
        "    encoder_layer = TransformerEncoderLayer(d_model, nhead, dim_feedforward, dropout, batch_first=True)\n",
        "    self.encoder = TransformerEncoder(encoder_layer, nlayers)\n",
        "    self.binary_classifier = BinaryClassification(seq_len*d_model, device)\n",
        "\n",
        "  def forward(self, src: Tensor) -> Tensor:\n",
        "\n",
        "    \"\"\"\n",
        "    Args:\n",
        "        src: Tensor, shape [seq_len, batch_size]\n",
        "        src_mask: Tensor, shape [seq_len, seq_len]\n",
        "    Returns:\n",
        "        output Tensor of shape [seq_len, batch_size, ntoken]\n",
        "    \"\"\"\n",
        "    N, seq_length, embed_size = src.shape\n",
        "    positions = torch.arange(0, seq_length).expand(N, seq_length).to(self.device)\n",
        "    src_ = src + self.position_embedding(positions)\n",
        "    output1 = self.encoder(src_)\n",
        "    # print(output1.shape)\n",
        "    # print(output1)\n",
        "    output = self.binary_classifier(torch.reshape(output1, (N, seq_length*embed_size))) \n",
        "\n",
        "    return output, output1"
      ]
    },
    {
      "cell_type": "code",
      "execution_count": 89,
      "metadata": {
        "id": "SboFES2e69Y_"
      },
      "outputs": [],
      "source": [
        "device = torch.device(\"cuda\" if torch.cuda.is_available() else \"cpu\")\n",
        "#hyperparameters\n",
        "dim_feedforward=16\n",
        "#dim_feedforward=32\n",
        "nlayers_tx=8"
      ]
    },
    {
      "cell_type": "code",
      "execution_count": 90,
      "metadata": {
        "colab": {
          "base_uri": "https://localhost:8080/"
        },
        "id": "p5_6Jclv616E",
        "outputId": "28dab34d-471d-49f0-ed8d-b75ffd6eeb8f"
      },
      "outputs": [
        {
          "name": "stderr",
          "output_type": "stream",
          "text": [
            "c:\\Users\\sandu\\Desktop\\sem7\\fyp\\App\\.venv\\lib\\site-packages\\torch\\nn\\modules\\transformer.py:282: UserWarning: enable_nested_tensor is True, but self.use_nested_tensor is False because encoder_layer.self_attn.num_heads is odd\n",
            "  warnings.warn(f\"enable_nested_tensor is True, but self.use_nested_tensor is False because {why_not_sparsity_fast_path}\")\n"
          ]
        },
        {
          "data": {
            "text/plain": [
              "Classifier(\n",
              "  (position_embedding): Embedding(108, 11)\n",
              "  (encoder): TransformerEncoder(\n",
              "    (layers): ModuleList(\n",
              "      (0-7): 8 x TransformerEncoderLayer(\n",
              "        (self_attn): MultiheadAttention(\n",
              "          (out_proj): NonDynamicallyQuantizableLinear(in_features=11, out_features=11, bias=True)\n",
              "        )\n",
              "        (linear1): Linear(in_features=11, out_features=8, bias=True)\n",
              "        (dropout): Dropout(p=0.5, inplace=False)\n",
              "        (linear2): Linear(in_features=8, out_features=11, bias=True)\n",
              "        (norm1): LayerNorm((11,), eps=1e-05, elementwise_affine=True)\n",
              "        (norm2): LayerNorm((11,), eps=1e-05, elementwise_affine=True)\n",
              "        (dropout1): Dropout(p=0.5, inplace=False)\n",
              "        (dropout2): Dropout(p=0.5, inplace=False)\n",
              "      )\n",
              "    )\n",
              "  )\n",
              "  (binary_classifier): BinaryClassification(\n",
              "    (layer_1): Linear(in_features=1188, out_features=64, bias=True)\n",
              "    (layer_2): Linear(in_features=64, out_features=64, bias=True)\n",
              "    (layer_out): Linear(in_features=64, out_features=1, bias=True)\n",
              "    (relu): ReLU()\n",
              "    (dropout): Dropout(p=0.1, inplace=False)\n",
              "    (batchnorm1): BatchNorm1d(64, eps=1e-05, momentum=0.1, affine=True, track_running_stats=True)\n",
              "    (batchnorm2): BatchNorm1d(64, eps=1e-05, momentum=0.1, affine=True, track_running_stats=True)\n",
              "  )\n",
              ")"
            ]
          },
          "execution_count": 90,
          "metadata": {},
          "output_type": "execute_result"
        }
      ],
      "source": [
        "model = Classifier(d_model=11, seq_len=108, nhead=11, dim_feedforward=8, nlayers=8, device=device)\n",
        "model.to(device)"
      ]
    },
    {
      "cell_type": "code",
      "execution_count": 91,
      "metadata": {},
      "outputs": [
        {
          "name": "stdout",
          "output_type": "stream",
          "text": [
            "True\n",
            "True\n",
            "True\n",
            "True\n",
            "True\n",
            "True\n",
            "True\n",
            "True\n",
            "True\n",
            "True\n",
            "True\n",
            "True\n",
            "True\n",
            "True\n",
            "True\n",
            "True\n",
            "True\n",
            "True\n",
            "True\n",
            "True\n",
            "True\n",
            "True\n",
            "True\n",
            "True\n",
            "True\n",
            "True\n",
            "True\n",
            "True\n",
            "True\n",
            "True\n",
            "True\n",
            "True\n",
            "True\n",
            "True\n",
            "True\n",
            "True\n",
            "True\n",
            "True\n",
            "True\n",
            "True\n",
            "True\n",
            "True\n",
            "True\n",
            "True\n",
            "True\n",
            "True\n",
            "True\n",
            "True\n",
            "True\n",
            "True\n",
            "True\n",
            "True\n",
            "True\n",
            "True\n",
            "True\n",
            "True\n",
            "True\n",
            "True\n",
            "True\n",
            "True\n",
            "True\n",
            "True\n",
            "True\n",
            "True\n",
            "True\n",
            "True\n",
            "True\n",
            "True\n",
            "True\n",
            "True\n",
            "True\n",
            "True\n",
            "True\n",
            "True\n",
            "True\n",
            "True\n",
            "True\n",
            "True\n",
            "True\n",
            "True\n",
            "True\n",
            "True\n",
            "True\n",
            "True\n",
            "True\n",
            "True\n",
            "True\n",
            "True\n",
            "True\n",
            "True\n",
            "True\n",
            "True\n",
            "True\n",
            "True\n",
            "True\n",
            "True\n",
            "True\n",
            "True\n",
            "True\n",
            "True\n",
            "True\n",
            "True\n",
            "True\n",
            "True\n",
            "True\n",
            "True\n",
            "True\n"
          ]
        }
      ],
      "source": [
        "for i in model.parameters():\n",
        "    print(i.is_cuda)"
      ]
    },
    {
      "cell_type": "code",
      "execution_count": 92,
      "metadata": {
        "id": "rIQDpV0s77eH"
      },
      "outputs": [],
      "source": [
        "def binary_acc(y_pred, y_test):\n",
        "    y_pred_tag = torch.round(torch.sigmoid(y_pred))\n",
        "    # print(\"y_pred\",torch.sigmoid(y_pred))\n",
        "\n",
        "    correct_results_sum = (y_pred_tag == y_test).sum().float()\n",
        "    acc = correct_results_sum/y_test.shape[0]\n",
        "    acc = torch.round(acc * 100)\n",
        "\n",
        "    return acc"
      ]
    },
    {
      "cell_type": "code",
      "execution_count": 93,
      "metadata": {
        "id": "FHOlujz9BjAd"
      },
      "outputs": [],
      "source": [
        "x = np.load(\"data\\other\\data.npy\")\n",
        "y = np.load(\"data\\other\\labels.npy\")"
      ]
    },
    {
      "cell_type": "code",
      "execution_count": 94,
      "metadata": {
        "colab": {
          "base_uri": "https://localhost:8080/"
        },
        "id": "xH_Tcn8CBk08",
        "outputId": "03382ba4-e4ee-4e23-ffd0-430a3482ff0f"
      },
      "outputs": [
        {
          "name": "stdout",
          "output_type": "stream",
          "text": [
            "(6184, 108, 11)\n",
            "(6184,)\n"
          ]
        }
      ],
      "source": [
        "print(x.shape)\n",
        "print(y.shape)"
      ]
    },
    {
      "cell_type": "code",
      "execution_count": 95,
      "metadata": {},
      "outputs": [
        {
          "name": "stdout",
          "output_type": "stream",
          "text": [
            "Current Label Ratio: {0: 0.9589262613195343, 1: 0.04107373868046572}\n"
          ]
        }
      ],
      "source": [
        "unique_labels, label_counts = np.unique(y, return_counts=True)\n",
        "current_label_ratio = dict(zip(unique_labels, label_counts / len(y)))\n",
        "print(\"Current Label Ratio:\", current_label_ratio)"
      ]
    },
    {
      "cell_type": "code",
      "execution_count": 96,
      "metadata": {},
      "outputs": [
        {
          "name": "stdout",
          "output_type": "stream",
          "text": [
            "[[[0.00000000e+00 0.00000000e+00 0.00000000e+00 ... 0.00000000e+00\n",
            "   2.00000000e+00 0.00000000e+00]\n",
            "  [0.00000000e+00 0.00000000e+00 0.00000000e+00 ... 0.00000000e+00\n",
            "   1.00000000e+00 0.00000000e+00]\n",
            "  [0.00000000e+00 0.00000000e+00 0.00000000e+00 ... 0.00000000e+00\n",
            "   1.00000000e+00 0.00000000e+00]\n",
            "  ...\n",
            "  [0.00000000e+00 0.00000000e+00 0.00000000e+00 ... 0.00000000e+00\n",
            "   0.00000000e+00 0.00000000e+00]\n",
            "  [0.00000000e+00 0.00000000e+00 0.00000000e+00 ... 0.00000000e+00\n",
            "   0.00000000e+00 0.00000000e+00]\n",
            "  [0.00000000e+00 0.00000000e+00 0.00000000e+00 ... 0.00000000e+00\n",
            "   0.00000000e+00 0.00000000e+00]]\n",
            "\n",
            " [[6.25000000e-01 6.25000000e-01 1.08000000e+20 ... 8.00000000e+00\n",
            "   2.00000000e+00 1.00000000e+01]\n",
            "  [1.00000000e+00 1.00000000e+00 1.00000000e+19 ... 9.00000000e+00\n",
            "   1.00000000e+00 1.00000000e+01]\n",
            "  [5.71428571e-01 5.71428571e-01 1.90000000e+19 ... 7.00000000e+00\n",
            "   1.00000000e+00 1.00000000e+01]\n",
            "  ...\n",
            "  [0.00000000e+00 0.00000000e+00 0.00000000e+00 ... 7.00000000e+00\n",
            "   0.00000000e+00 1.00000000e+01]\n",
            "  [0.00000000e+00 0.00000000e+00 0.00000000e+00 ... 9.00000000e+00\n",
            "   0.00000000e+00 1.00000000e+01]\n",
            "  [0.00000000e+00 0.00000000e+00 0.00000000e+00 ... 2.00000000e+00\n",
            "   0.00000000e+00 9.00000000e+00]]\n",
            "\n",
            " [[0.00000000e+00 0.00000000e+00 0.00000000e+00 ... 1.00000000e+01\n",
            "   1.00000000e+00 1.00000000e+01]\n",
            "  [0.00000000e+00 0.00000000e+00 0.00000000e+00 ... 1.00000000e+01\n",
            "   1.00000000e+00 1.00000000e+01]\n",
            "  [0.00000000e+00 0.00000000e+00 0.00000000e+00 ... 1.00000000e+01\n",
            "   1.00000000e+00 1.00000000e+01]\n",
            "  ...\n",
            "  [0.00000000e+00 0.00000000e+00 0.00000000e+00 ... 1.00000000e+01\n",
            "   1.00000000e+00 1.00000000e+01]\n",
            "  [0.00000000e+00 0.00000000e+00 1.00000000e+16 ... 1.00000000e+01\n",
            "   1.00000000e+00 1.00000000e+01]\n",
            "  [1.00000000e-01 3.00000000e-01 1.00000000e+16 ... 1.00000000e+01\n",
            "   1.00000000e+00 1.00000000e+01]]\n",
            "\n",
            " [[1.00000000e+00 1.00000000e+00 5.06100000e+20 ... 2.00000000e+00\n",
            "   2.00000000e+00 1.00000000e+01]\n",
            "  [5.00000000e-01 5.00000000e-01 1.10000000e+19 ... 2.00000000e+00\n",
            "   1.00000000e+00 1.00000000e+01]\n",
            "  [3.33333333e-01 3.33333333e-01 2.40000000e+19 ... 3.00000000e+00\n",
            "   1.00000000e+00 1.00000000e+01]\n",
            "  ...\n",
            "  [0.00000000e+00 0.00000000e+00 0.00000000e+00 ... 0.00000000e+00\n",
            "   0.00000000e+00 0.00000000e+00]\n",
            "  [0.00000000e+00 0.00000000e+00 0.00000000e+00 ... 0.00000000e+00\n",
            "   0.00000000e+00 0.00000000e+00]\n",
            "  [0.00000000e+00 0.00000000e+00 0.00000000e+00 ... 0.00000000e+00\n",
            "   0.00000000e+00 0.00000000e+00]]\n",
            "\n",
            " [[3.33333333e-01 3.33333333e-01 1.00500000e+21 ... 3.00000000e+00\n",
            "   2.00000000e+00 1.00000000e+01]\n",
            "  [6.66666667e-01 6.66666667e-01 6.00000000e+18 ... 3.00000000e+00\n",
            "   1.00000000e+00 1.00000000e+01]\n",
            "  [0.00000000e+00 0.00000000e+00 1.00000000e+18 ... 2.00000000e+00\n",
            "   1.00000000e+00 1.00000000e+01]\n",
            "  ...\n",
            "  [0.00000000e+00 0.00000000e+00 0.00000000e+00 ... 0.00000000e+00\n",
            "   0.00000000e+00 0.00000000e+00]\n",
            "  [0.00000000e+00 0.00000000e+00 0.00000000e+00 ... 0.00000000e+00\n",
            "   0.00000000e+00 0.00000000e+00]\n",
            "  [0.00000000e+00 0.00000000e+00 0.00000000e+00 ... 0.00000000e+00\n",
            "   0.00000000e+00 0.00000000e+00]]]\n"
          ]
        }
      ],
      "source": [
        "print(x[:5])"
      ]
    },
    {
      "cell_type": "code",
      "execution_count": 97,
      "metadata": {},
      "outputs": [
        {
          "name": "stdout",
          "output_type": "stream",
          "text": [
            "[[[-5.76306301e-02 -7.21936347e-02 -3.25123457e-03 ... -1.74238883e-01\n",
            "    4.89447156e+00 -2.26839474e-01]\n",
            "  [-5.76306301e-02 -7.21936347e-02 -3.25123457e-03 ... -1.74238883e-01\n",
            "    2.23285053e+00 -2.26839474e-01]\n",
            "  [-5.76306301e-02 -7.21936347e-02 -3.25123457e-03 ... -1.74238883e-01\n",
            "    2.23285053e+00 -2.26839474e-01]\n",
            "  ...\n",
            "  [-5.76306301e-02 -7.21936347e-02 -3.25123457e-03 ... -1.74238883e-01\n",
            "   -4.28770492e-01 -2.26839474e-01]\n",
            "  [-5.76306301e-02 -7.21936347e-02 -3.25123457e-03 ... -1.74238883e-01\n",
            "   -4.28770492e-01 -2.26839474e-01]\n",
            "  [-5.76306301e-02 -7.21936347e-02 -3.25123457e-03 ... -1.74238883e-01\n",
            "   -4.28770492e-01 -2.26839474e-01]]\n",
            "\n",
            " [[ 1.80722002e+01  1.37837402e+01  6.96871979e-03 ...  8.11181005e+00\n",
            "    4.89447156e+00  4.49345481e+00]\n",
            "  [ 2.89500988e+01  2.20973005e+01 -2.30494250e-03 ...  9.14756616e+00\n",
            "    2.23285053e+00  4.49345481e+00]\n",
            "  [ 1.65182147e+01  1.25960887e+01 -1.45327963e-03 ...  7.07605393e+00\n",
            "    2.23285053e+00  4.49345481e+00]\n",
            "  ...\n",
            "  [-5.76306301e-02 -7.21936347e-02 -3.25123457e-03 ...  7.07605393e+00\n",
            "   -4.28770492e-01  4.49345481e+00]\n",
            "  [-5.76306301e-02 -7.21936347e-02 -3.25123457e-03 ...  9.14756616e+00\n",
            "   -4.28770492e-01  4.49345481e+00]\n",
            "  [-5.76306301e-02 -7.21936347e-02 -3.25123457e-03 ...  1.89727335e+00\n",
            "   -4.28770492e-01  4.02142538e+00]]\n",
            "\n",
            " [[-5.76306301e-02 -7.21936347e-02 -3.25123457e-03 ...  1.01833223e+01\n",
            "    2.23285053e+00  4.49345481e+00]\n",
            "  [-5.76306301e-02 -7.21936347e-02 -3.25123457e-03 ...  1.01833223e+01\n",
            "    2.23285053e+00  4.49345481e+00]\n",
            "  [-5.76306301e-02 -7.21936347e-02 -3.25123457e-03 ...  1.01833223e+01\n",
            "    2.23285053e+00  4.49345481e+00]\n",
            "  ...\n",
            "  [-5.76306301e-02 -7.21936347e-02 -3.25123457e-03 ...  1.01833223e+01\n",
            "    2.23285053e+00  4.49345481e+00]\n",
            "  [-5.76306301e-02 -7.21936347e-02 -3.25028828e-03 ...  1.01833223e+01\n",
            "    2.23285053e+00  4.49345481e+00]\n",
            "  [ 2.84314231e+00  6.57865459e+00 -3.25028828e-03 ...  1.01833223e+01\n",
            "    2.23285053e+00  4.49345481e+00]]\n",
            "\n",
            " [[ 2.89500988e+01  2.20973005e+01  4.46406071e-02 ...  1.89727335e+00\n",
            "    4.89447156e+00  4.49345481e+00]\n",
            "  [ 1.44462341e+01  1.10125534e+01 -2.21031329e-03 ...  1.89727335e+00\n",
            "    2.23285053e+00  4.49345481e+00]\n",
            "  [ 9.61161250e+00  7.31763773e+00 -9.80133600e-04 ...  2.93302947e+00\n",
            "    2.23285053e+00  4.49345481e+00]\n",
            "  ...\n",
            "  [-5.76306301e-02 -7.21936347e-02 -3.25123457e-03 ... -1.74238883e-01\n",
            "   -4.28770492e-01 -2.26839474e-01]\n",
            "  [-5.76306301e-02 -7.21936347e-02 -3.25123457e-03 ... -1.74238883e-01\n",
            "   -4.28770492e-01 -2.26839474e-01]\n",
            "  [-5.76306301e-02 -7.21936347e-02 -3.25123457e-03 ... -1.74238883e-01\n",
            "   -4.28770492e-01 -2.26839474e-01]]\n",
            "\n",
            " [[ 9.61161250e+00  7.31763773e+00  9.18511184e-02 ...  2.93302947e+00\n",
            "    4.89447156e+00  4.49345481e+00]\n",
            "  [ 1.92808556e+01  1.47074691e+01 -2.68345933e-03 ...  2.93302947e+00\n",
            "    2.23285053e+00  4.49345481e+00]\n",
            "  [-5.76306301e-02 -7.21936347e-02 -3.15660536e-03 ...  1.89727335e+00\n",
            "    2.23285053e+00  4.49345481e+00]\n",
            "  ...\n",
            "  [-5.76306301e-02 -7.21936347e-02 -3.25123457e-03 ... -1.74238883e-01\n",
            "   -4.28770492e-01 -2.26839474e-01]\n",
            "  [-5.76306301e-02 -7.21936347e-02 -3.25123457e-03 ... -1.74238883e-01\n",
            "   -4.28770492e-01 -2.26839474e-01]\n",
            "  [-5.76306301e-02 -7.21936347e-02 -3.25123457e-03 ... -1.74238883e-01\n",
            "   -4.28770492e-01 -2.26839474e-01]]]\n"
          ]
        }
      ],
      "source": [
        "import numpy as np\n",
        "from sklearn.preprocessing import StandardScaler\n",
        "\n",
        "# Assuming you have loaded your data into a variable called data_array\n",
        "# data_array should be of shape (301, 108, 11)\n",
        "\n",
        "# Reshape the array to (301*108, 11) for normalization\n",
        "reshaped_data = x.reshape((-1, 11))\n",
        "\n",
        "# Initialize the StandardScaler\n",
        "scaler = StandardScaler()\n",
        "\n",
        "# Fit the scaler on the reshaped data and transform it\n",
        "normalized_data = scaler.fit_transform(reshaped_data)\n",
        "\n",
        "# Reshape the normalized data back to the original shape\n",
        "normalized_data_array = normalized_data.reshape(x.shape)\n",
        "\n",
        "# Now, normalized_data_array contains the normalized data with shape (301, 108, 11)\n",
        "print(normalized_data_array[:5])"
      ]
    },
    {
      "cell_type": "code",
      "execution_count": 98,
      "metadata": {
        "id": "j5RlkcKNBt1o"
      },
      "outputs": [],
      "source": [
        "X, X_test, Y, y_test = train_test_split(normalized_data_array, y, test_size=0.1, random_state=42, stratify=y) #test split"
      ]
    },
    {
      "cell_type": "code",
      "execution_count": 99,
      "metadata": {},
      "outputs": [
        {
          "name": "stdout",
          "output_type": "stream",
          "text": [
            "Current Label Ratio: {0: 0.9588499550763702, 1: 0.04115004492362983}\n",
            "Balanced Label Ratio: {0: 0.8233297330658849, 1: 0.1766702669341151}\n"
          ]
        }
      ],
      "source": [
        "import numpy as np\n",
        "\n",
        "\n",
        "# Print current label ratio\n",
        "unique_labels, label_counts = np.unique(Y, return_counts=True)\n",
        "current_label_ratio = dict(zip(unique_labels, label_counts / len(Y)))\n",
        "print(\"Current Label Ratio:\", current_label_ratio)\n",
        "\n",
        "# Balance the dataset to achieve a 1:5 ratio without random oversampling\n",
        "desired_ratio = {0: 1, 1: 5}  # Adjust this ratio as needed\n",
        "\n",
        "balanced_x = []\n",
        "balanced_y = []\n",
        "\n",
        "for label, ratio in desired_ratio.items():\n",
        "    label_indices = np.where(Y == label)[0]\n",
        "    label_data = X[label_indices]\n",
        "    \n",
        "    # Replicate data to achieve the desired ratio\n",
        "    replicated_data = np.tile(label_data, (ratio, 1, 1))\n",
        "    \n",
        "    balanced_x.append(replicated_data)\n",
        "    balanced_y.extend([label] * len(replicated_data))\n",
        "\n",
        "balanced_x = np.concatenate(balanced_x)\n",
        "balanced_y = np.array(balanced_y)\n",
        "\n",
        "# Verify the new label ratio\n",
        "unique_balanced_labels, balanced_label_counts = np.unique(balanced_y, return_counts=True)\n",
        "new_label_ratio = dict(zip(unique_balanced_labels, balanced_label_counts / len(balanced_y)))\n",
        "print(\"Balanced Label Ratio:\", new_label_ratio)\n",
        "\n",
        "# Now, 'balanced_x' and 'balanced_y' contain the balanced dataset\n"
      ]
    },
    {
      "cell_type": "code",
      "execution_count": 100,
      "metadata": {},
      "outputs": [
        {
          "name": "stdout",
          "output_type": "stream",
          "text": [
            "Original class distribution:\n",
            "{0: 5930, 1: 254}\n",
            "\n",
            "Class distribution in y_train:\n",
            "{0: 5336, 1: 229}\n",
            "\n",
            "Class distribution in y_train_balance:\n",
            "{0: 5336, 1: 1145}\n",
            "\n",
            "Class distribution in y_test:\n",
            "{0: 594, 1: 25}\n"
          ]
        }
      ],
      "source": [
        "\n",
        "# Assuming you have split the data using the code provided in the previous response\n",
        "\n",
        "# Check class distribution in original 'y'\n",
        "unique_classes_y, counts_y = np.unique(y, return_counts=True)\n",
        "print(\"Original class distribution:\")\n",
        "print(dict(zip(unique_classes_y, counts_y)))\n",
        "\n",
        "# Check class distribution in 'y_train'\n",
        "unique_classes_train, counts_train = np.unique(Y, return_counts=True)\n",
        "print(\"\\nClass distribution in y_train:\")\n",
        "print(dict(zip(unique_classes_train, counts_train)))\n",
        "\n",
        "# Check class distribution in 'y_train_balance'\n",
        "unique_classes_train, counts_train = np.unique(balanced_y, return_counts=True)\n",
        "print(\"\\nClass distribution in y_train_balance:\")\n",
        "print(dict(zip(unique_classes_train, counts_train)))\n",
        "\n",
        "# Check class distribution in 'y_test'\n",
        "unique_classes_test, counts_test = np.unique(y_test, return_counts=True)\n",
        "print(\"\\nClass distribution in y_test:\")\n",
        "print(dict(zip(unique_classes_test, counts_test)))\n"
      ]
    },
    {
      "cell_type": "code",
      "execution_count": 101,
      "metadata": {
        "id": "XyBHdv88B5qh"
      },
      "outputs": [],
      "source": [
        "np.save(\"X_test.npy\",X_test)\n",
        "np.save(\"y_test.npy\",y_test)"
      ]
    },
    {
      "cell_type": "code",
      "execution_count": 102,
      "metadata": {
        "id": "GWqGNAxWB-il"
      },
      "outputs": [],
      "source": [
        "#load test\n",
        "X_test = np.load(\"X_test.npy\", allow_pickle=True)\n",
        "y_test = np.load(\"y_test.npy\", allow_pickle=True)\n",
        "\n",
        "X=balanced_x\n",
        "Y=balanced_y"
      ]
    },
    {
      "cell_type": "code",
      "execution_count": 103,
      "metadata": {
        "id": "Ca97i61sCBjd"
      },
      "outputs": [],
      "source": [
        "X_train, X_val, y_train, y_val = train_test_split(X, Y, test_size=0.1, random_state=42, stratify=Y) #validation split"
      ]
    },
    {
      "cell_type": "code",
      "execution_count": 104,
      "metadata": {
        "id": "Y0ih1KJNCE7P"
      },
      "outputs": [],
      "source": [
        "np.save(\"X_train.npy\",X_train)\n",
        "np.save(\"y_train.npy\",y_train)\n",
        "np.save(\"X_val.npy\",X_val)\n",
        "np.save(\"y_val.npy\",y_val)"
      ]
    },
    {
      "cell_type": "code",
      "execution_count": 105,
      "metadata": {
        "id": "Y8PcTJ3ACG8P"
      },
      "outputs": [],
      "source": [
        "#load train val\n",
        "X_train = np.load(\"X_train.npy\", allow_pickle=True)\n",
        "y_train = np.load(\"y_train.npy\", allow_pickle=True)\n",
        "X_val = np.load(\"X_val.npy\", allow_pickle=True)\n",
        "y_val = np.load(\"y_val.npy\", allow_pickle=True)"
      ]
    },
    {
      "cell_type": "code",
      "execution_count": 106,
      "metadata": {
        "colab": {
          "base_uri": "https://localhost:8080/"
        },
        "id": "U-qSZ1ENCJDk",
        "outputId": "fe204dc9-57a8-488c-a410-42a0af34f9cc"
      },
      "outputs": [
        {
          "name": "stdout",
          "output_type": "stream",
          "text": [
            "(5832, 108, 11)\n"
          ]
        }
      ],
      "source": [
        "print(X_train.shape)"
      ]
    },
    {
      "cell_type": "code",
      "execution_count": 107,
      "metadata": {
        "id": "54p4Ewh-Fp68"
      },
      "outputs": [],
      "source": [
        "X_train = X_train[:19656]"
      ]
    },
    {
      "cell_type": "code",
      "execution_count": 108,
      "metadata": {
        "colab": {
          "base_uri": "https://localhost:8080/"
        },
        "id": "-bh7IRI0CLDb",
        "outputId": "f38562c3-a146-4305-9664-f443cc72bc6c"
      },
      "outputs": [
        {
          "name": "stdout",
          "output_type": "stream",
          "text": [
            "(649, 108, 11)\n"
          ]
        }
      ],
      "source": [
        "print(X_val.shape)"
      ]
    },
    {
      "cell_type": "code",
      "execution_count": 109,
      "metadata": {
        "id": "_AVMFcuGFlYW"
      },
      "outputs": [],
      "source": [
        "X_val = X_val[:2184]"
      ]
    },
    {
      "cell_type": "code",
      "execution_count": 110,
      "metadata": {
        "colab": {
          "base_uri": "https://localhost:8080/"
        },
        "id": "8w-8A9LxCM0J",
        "outputId": "671effc7-146d-463c-9514-04e4c6e96e4c"
      },
      "outputs": [
        {
          "name": "stdout",
          "output_type": "stream",
          "text": [
            "(619, 108, 11)\n"
          ]
        }
      ],
      "source": [
        "print(X_test.shape)"
      ]
    },
    {
      "cell_type": "code",
      "execution_count": 111,
      "metadata": {},
      "outputs": [
        {
          "data": {
            "text/plain": [
              "array([0, 0, 0, ..., 0, 0, 0])"
            ]
          },
          "execution_count": 111,
          "metadata": {},
          "output_type": "execute_result"
        }
      ],
      "source": [
        "y_train"
      ]
    },
    {
      "cell_type": "code",
      "execution_count": 112,
      "metadata": {
        "colab": {
          "base_uri": "https://localhost:8080/"
        },
        "id": "D3DJpQXeCPOY",
        "outputId": "a0a09959-2cad-4e8d-a278-a52ddd7da5e1"
      },
      "outputs": [
        {
          "name": "stdout",
          "output_type": "stream",
          "text": [
            "0.17661179698216736\n",
            "0.17719568567026195\n",
            "0.04038772213247173\n"
          ]
        }
      ],
      "source": [
        "print(np.sum(y_train)/y_train.shape[0])\n",
        "print(np.sum(y_val)/y_val.shape[0])\n",
        "print(np.sum(y_test)/y_test.shape[0])"
      ]
    },
    {
      "cell_type": "code",
      "execution_count": 113,
      "metadata": {
        "id": "utMXpDr1CR3q"
      },
      "outputs": [],
      "source": [
        "from torch.utils.data import Dataset, DataLoader"
      ]
    },
    {
      "cell_type": "code",
      "execution_count": 114,
      "metadata": {
        "id": "mhQSnKuECVIN"
      },
      "outputs": [],
      "source": [
        "## train data\n",
        "from sklearn import preprocessing\n",
        "class TrainData(Dataset):\n",
        "\n",
        "    def __init__(self, X_data, y_data):\n",
        "        self.X_data = X_data\n",
        "        self.y_data = y_data\n",
        "\n",
        "    def __getitem__(self, index):\n",
        "        return self.X_data[index], self.y_data[index]\n",
        "\n",
        "    def __len__ (self):\n",
        "        return len(self.X_data)\n",
        "\n",
        "\n",
        "train_data = TrainData(X_train, y_train)\n",
        "\n",
        "## val data\n",
        "class ValData(Dataset):\n",
        "\n",
        "    def __init__(self, X_data, y_data):\n",
        "        self.X_data = X_data\n",
        "        self.y_data = y_data\n",
        "\n",
        "    def __getitem__(self, index):\n",
        "        return self.X_data[index], self.y_data[index]\n",
        "\n",
        "    def __len__ (self):\n",
        "        return len(self.X_data)\n",
        "\n",
        "\n",
        "val_data = ValData(X_val, y_val)\n",
        "\n",
        "## test data\n",
        "class TestData(Dataset):\n",
        "\n",
        "    def __init__(self, X_data, y_data):\n",
        "        self.X_data = X_data\n",
        "        self.y_data = y_data\n",
        "\n",
        "    def __getitem__(self, index):\n",
        "        return self.X_data[index], self.y_data[index]\n",
        "\n",
        "    def __len__ (self):\n",
        "        return len(self.X_data)\n",
        "\n",
        "\n",
        "test_data = TestData(X_test, y_test)"
      ]
    },
    {
      "cell_type": "code",
      "execution_count": 115,
      "metadata": {
        "id": "uc8whSsvCuEx"
      },
      "outputs": [],
      "source": [
        "EPOCHS = 20\n",
        "BATCH_SIZE = 32\n",
        "LEARNING_RATE = 0.001"
      ]
    },
    {
      "cell_type": "code",
      "execution_count": 116,
      "metadata": {
        "id": "zcNASJP4CwRY"
      },
      "outputs": [],
      "source": [
        "train_loader = DataLoader(dataset=train_data, batch_size=BATCH_SIZE, shuffle=True)\n",
        "test_loader = DataLoader(dataset=test_data, batch_size=1)"
      ]
    },
    {
      "cell_type": "code",
      "execution_count": 117,
      "metadata": {
        "id": "aZRNOMv-CzS8"
      },
      "outputs": [],
      "source": [
        "import torch.optim as optim\n",
        "criterion = nn.BCEWithLogitsLoss()\n",
        "optimizer = optim.Adam(model.parameters(), lr=LEARNING_RATE)"
      ]
    },
    {
      "cell_type": "code",
      "execution_count": 118,
      "metadata": {},
      "outputs": [
        {
          "name": "stdout",
          "output_type": "stream",
          "text": [
            "183\n",
            "<torch.utils.data.dataloader.DataLoader object at 0x0000023E44359820>\n"
          ]
        }
      ],
      "source": [
        "print(len(train_loader))\n",
        "print(train_loader)"
      ]
    },
    {
      "cell_type": "markdown",
      "metadata": {},
      "source": [
        "Hyperparameter tuning"
      ]
    },
    {
      "cell_type": "code",
      "execution_count": 119,
      "metadata": {},
      "outputs": [
        {
          "name": "stderr",
          "output_type": "stream",
          "text": [
            "c:\\Users\\sandu\\Desktop\\sem7\\fyp\\App\\.venv\\lib\\site-packages\\torch\\nn\\modules\\transformer.py:282: UserWarning: enable_nested_tensor is True, but self.use_nested_tensor is False because encoder_layer.self_attn.num_heads is odd\n",
            "  warnings.warn(f\"enable_nested_tensor is True, but self.use_nested_tensor is False because {why_not_sparsity_fast_path}\")\n"
          ]
        },
        {
          "name": "stdout",
          "output_type": "stream",
          "text": [
            "Epoch 001: | Loss: 0.59921 | Acc: 70.421 | Val_Loss: 0.35498 | Val_Acc: 90.307\n",
            "Epoch 002: | Loss: 0.48977 | Acc: 82.011 | Val_Loss: 0.28658 | Val_Acc: 90.468\n",
            "Epoch 003: | Loss: 0.42906 | Acc: 84.060 | Val_Loss: 0.26270 | Val_Acc: 92.730\n",
            "Epoch 004: | Loss: 0.40497 | Acc: 84.628 | Val_Loss: 0.21919 | Val_Acc: 92.892\n",
            "Epoch 005: | Loss: 0.39609 | Acc: 85.301 | Val_Loss: 0.32580 | Val_Acc: 92.084\n",
            "Epoch 006: | Loss: 0.39135 | Acc: 85.361 | Val_Loss: 0.30001 | Val_Acc: 92.730\n",
            "Epoch 007: | Loss: 0.38590 | Acc: 85.585 | Val_Loss: 0.20903 | Val_Acc: 93.861\n",
            "Epoch 008: | Loss: 0.38435 | Acc: 85.678 | Val_Loss: 0.20584 | Val_Acc: 94.992\n",
            "Epoch 009: | Loss: 0.37726 | Acc: 86.213 | Val_Loss: 0.20553 | Val_Acc: 94.669\n",
            "Epoch 010: | Loss: 0.37382 | Acc: 86.404 | Val_Loss: 0.20910 | Val_Acc: 94.023\n",
            "Epoch 011: | Loss: 0.37246 | Acc: 86.410 | Val_Loss: 0.19361 | Val_Acc: 95.638\n",
            "Epoch 012: | Loss: 0.36862 | Acc: 86.585 | Val_Loss: 0.22700 | Val_Acc: 94.830\n",
            "Epoch 013: | Loss: 0.36657 | Acc: 86.770 | Val_Loss: 0.17545 | Val_Acc: 95.961\n",
            "Epoch 014: | Loss: 0.37191 | Acc: 86.492 | Val_Loss: 0.19057 | Val_Acc: 95.961\n",
            "Epoch 015: | Loss: 0.36582 | Acc: 86.962 | Val_Loss: 0.18456 | Val_Acc: 95.961\n",
            "Epoch 016: | Loss: 0.36404 | Acc: 87.022 | Val_Loss: 0.17181 | Val_Acc: 95.800\n",
            "Epoch 017: | Loss: 0.36671 | Acc: 87.000 | Val_Loss: 0.18325 | Val_Acc: 96.284\n",
            "Epoch 018: | Loss: 0.36268 | Acc: 87.120 | Val_Loss: 0.21547 | Val_Acc: 95.315\n",
            "Epoch 019: | Loss: 0.35957 | Acc: 87.055 | Val_Loss: 0.18147 | Val_Acc: 96.607\n",
            "Epoch 020: | Loss: 0.35723 | Acc: 87.459 | Val_Loss: 0.18705 | Val_Acc: 95.961\n",
            "Hyperparameters: Epochs=20, Batch Size=16, Learning Rate=0.0005\n",
            "Final Training Loss: 0.35723, Final Training Acc: 87.459\n",
            "Final Validation Loss: 0.18705, Final Validation Acc: 95.961\n",
            "\n",
            "\n",
            "accuracy:  0.9596122778675282\n",
            "585 9 16 9\n",
            "Recall: 0.3600\n",
            "Precision: 0.5000\n",
            "F1 Score: 0.4186\n"
          ]
        },
        {
          "name": "stderr",
          "output_type": "stream",
          "text": [
            "c:\\Users\\sandu\\Desktop\\sem7\\fyp\\App\\.venv\\lib\\site-packages\\torch\\nn\\modules\\transformer.py:282: UserWarning: enable_nested_tensor is True, but self.use_nested_tensor is False because encoder_layer.self_attn.num_heads is odd\n",
            "  warnings.warn(f\"enable_nested_tensor is True, but self.use_nested_tensor is False because {why_not_sparsity_fast_path}\")\n"
          ]
        },
        {
          "name": "stdout",
          "output_type": "stream",
          "text": [
            "Epoch 001: | Loss: 0.54705 | Acc: 77.667 | Val_Loss: 0.70092 | Val_Acc: 91.438\n",
            "Epoch 002: | Loss: 0.42795 | Acc: 83.989 | Val_Loss: 0.18349 | Val_Acc: 95.477\n",
            "Epoch 003: | Loss: 0.40588 | Acc: 84.421 | Val_Loss: 0.32799 | Val_Acc: 95.961\n",
            "Epoch 004: | Loss: 0.38942 | Acc: 85.579 | Val_Loss: 0.19646 | Val_Acc: 96.446\n",
            "Epoch 005: | Loss: 0.38250 | Acc: 86.022 | Val_Loss: 0.32875 | Val_Acc: 94.830\n",
            "Epoch 006: | Loss: 0.38239 | Acc: 85.973 | Val_Loss: 0.24689 | Val_Acc: 95.800\n",
            "Epoch 007: | Loss: 0.37885 | Acc: 86.366 | Val_Loss: 0.25396 | Val_Acc: 94.507\n",
            "Epoch 008: | Loss: 0.36895 | Acc: 86.803 | Val_Loss: 0.20250 | Val_Acc: 95.477\n",
            "Epoch 009: | Loss: 0.37172 | Acc: 86.590 | Val_Loss: 0.24669 | Val_Acc: 96.446\n",
            "Epoch 010: | Loss: 0.38190 | Acc: 86.033 | Val_Loss: 0.29377 | Val_Acc: 94.023\n",
            "Epoch 011: | Loss: 0.36929 | Acc: 86.404 | Val_Loss: 0.24870 | Val_Acc: 94.992\n",
            "Epoch 012: | Loss: 0.37807 | Acc: 86.120 | Val_Loss: 0.21066 | Val_Acc: 95.153\n",
            "Epoch 013: | Loss: 0.37297 | Acc: 86.464 | Val_Loss: 0.18939 | Val_Acc: 96.123\n",
            "Epoch 014: | Loss: 0.38153 | Acc: 85.918 | Val_Loss: 0.32374 | Val_Acc: 94.507\n",
            "Epoch 015: | Loss: 0.36598 | Acc: 86.891 | Val_Loss: 0.24781 | Val_Acc: 94.346\n",
            "Epoch 016: | Loss: 0.36352 | Acc: 87.208 | Val_Loss: 0.19610 | Val_Acc: 95.153\n",
            "Epoch 017: | Loss: 0.35700 | Acc: 87.344 | Val_Loss: 0.18906 | Val_Acc: 95.638\n",
            "Epoch 018: | Loss: 0.34942 | Acc: 87.825 | Val_Loss: 0.19608 | Val_Acc: 95.638\n",
            "Epoch 019: | Loss: 0.35732 | Acc: 87.175 | Val_Loss: 0.19514 | Val_Acc: 95.315\n",
            "Epoch 020: | Loss: 0.35437 | Acc: 87.317 | Val_Loss: 0.23308 | Val_Acc: 94.992\n",
            "Hyperparameters: Epochs=20, Batch Size=16, Learning Rate=0.001\n",
            "Final Training Loss: 0.35437, Final Training Acc: 87.317\n",
            "Final Validation Loss: 0.23308, Final Validation Acc: 94.992\n",
            "\n",
            "\n",
            "accuracy:  0.9499192245557351\n",
            "578 16 15 10\n",
            "Recall: 0.4000\n",
            "Precision: 0.3846\n",
            "F1 Score: 0.3922\n"
          ]
        },
        {
          "name": "stderr",
          "output_type": "stream",
          "text": [
            "c:\\Users\\sandu\\Desktop\\sem7\\fyp\\App\\.venv\\lib\\site-packages\\torch\\nn\\modules\\transformer.py:282: UserWarning: enable_nested_tensor is True, but self.use_nested_tensor is False because encoder_layer.self_attn.num_heads is odd\n",
            "  warnings.warn(f\"enable_nested_tensor is True, but self.use_nested_tensor is False because {why_not_sparsity_fast_path}\")\n"
          ]
        },
        {
          "name": "stdout",
          "output_type": "stream",
          "text": [
            "Epoch 001: | Loss: 0.48862 | Acc: 79.874 | Val_Loss: 0.25603 | Val_Acc: 91.438\n",
            "Epoch 002: | Loss: 0.40914 | Acc: 83.519 | Val_Loss: 0.39459 | Val_Acc: 88.691\n",
            "Epoch 003: | Loss: 0.39715 | Acc: 84.874 | Val_Loss: 0.24727 | Val_Acc: 92.246\n",
            "Epoch 004: | Loss: 0.38854 | Acc: 85.273 | Val_Loss: 0.33881 | Val_Acc: 90.630\n",
            "Epoch 005: | Loss: 0.38425 | Acc: 86.049 | Val_Loss: 0.22735 | Val_Acc: 93.215\n",
            "Epoch 006: | Loss: 0.37352 | Acc: 86.776 | Val_Loss: 0.93921 | Val_Acc: 84.491\n",
            "Epoch 007: | Loss: 0.37620 | Acc: 86.109 | Val_Loss: 0.15591 | Val_Acc: 95.477\n",
            "Epoch 008: | Loss: 0.40236 | Acc: 84.475 | Val_Loss: 0.17726 | Val_Acc: 95.638\n",
            "Epoch 009: | Loss: 0.38045 | Acc: 86.366 | Val_Loss: 0.55147 | Val_Acc: 94.507\n",
            "Epoch 010: | Loss: 0.36870 | Acc: 86.475 | Val_Loss: 0.22852 | Val_Acc: 94.992\n",
            "Epoch 011: | Loss: 0.36473 | Acc: 86.776 | Val_Loss: 0.30341 | Val_Acc: 93.376\n",
            "Epoch 012: | Loss: 0.37576 | Acc: 85.770 | Val_Loss: 0.25766 | Val_Acc: 95.800\n",
            "Epoch 013: | Loss: 0.36838 | Acc: 86.574 | Val_Loss: 0.20690 | Val_Acc: 94.992\n",
            "Epoch 014: | Loss: 0.37067 | Acc: 86.279 | Val_Loss: 0.23429 | Val_Acc: 91.922\n",
            "Epoch 015: | Loss: 0.36480 | Acc: 86.454 | Val_Loss: 0.90381 | Val_Acc: 86.268\n",
            "Epoch 016: | Loss: 0.37777 | Acc: 85.798 | Val_Loss: 0.68732 | Val_Acc: 89.015\n",
            "Epoch 017: | Loss: 0.36777 | Acc: 86.366 | Val_Loss: 0.29676 | Val_Acc: 91.599\n",
            "Epoch 018: | Loss: 0.36286 | Acc: 86.601 | Val_Loss: 0.23565 | Val_Acc: 93.538\n",
            "Epoch 019: | Loss: 0.35993 | Acc: 87.093 | Val_Loss: 0.27362 | Val_Acc: 94.346\n",
            "Epoch 020: | Loss: 0.35765 | Acc: 86.721 | Val_Loss: 0.40138 | Val_Acc: 90.307\n",
            "Hyperparameters: Epochs=20, Batch Size=16, Learning Rate=0.003\n",
            "Final Training Loss: 0.35765, Final Training Acc: 86.721\n",
            "Final Validation Loss: 0.40138, Final Validation Acc: 90.307\n",
            "\n",
            "\n",
            "accuracy:  0.9030694668820679\n",
            "548 46 14 11\n",
            "Recall: 0.4400\n",
            "Precision: 0.1930\n",
            "F1 Score: 0.2683\n"
          ]
        },
        {
          "name": "stderr",
          "output_type": "stream",
          "text": [
            "c:\\Users\\sandu\\Desktop\\sem7\\fyp\\App\\.venv\\lib\\site-packages\\torch\\nn\\modules\\transformer.py:282: UserWarning: enable_nested_tensor is True, but self.use_nested_tensor is False because encoder_layer.self_attn.num_heads is odd\n",
            "  warnings.warn(f\"enable_nested_tensor is True, but self.use_nested_tensor is False because {why_not_sparsity_fast_path}\")\n"
          ]
        },
        {
          "name": "stdout",
          "output_type": "stream",
          "text": [
            "Epoch 001: | Loss: 0.46279 | Acc: 81.180 | Val_Loss: 0.47884 | Val_Acc: 90.468\n",
            "Epoch 002: | Loss: 0.42410 | Acc: 83.683 | Val_Loss: 0.17480 | Val_Acc: 93.376\n",
            "Epoch 003: | Loss: 0.41419 | Acc: 83.825 | Val_Loss: 0.39575 | Val_Acc: 91.761\n",
            "Epoch 004: | Loss: 0.39583 | Acc: 84.623 | Val_Loss: 0.29402 | Val_Acc: 93.215\n",
            "Epoch 005: | Loss: 0.38751 | Acc: 85.486 | Val_Loss: 0.19158 | Val_Acc: 95.961\n",
            "Epoch 006: | Loss: 0.37852 | Acc: 86.344 | Val_Loss: 0.19945 | Val_Acc: 94.346\n",
            "Epoch 007: | Loss: 0.38444 | Acc: 86.093 | Val_Loss: 0.19488 | Val_Acc: 95.477\n",
            "Epoch 008: | Loss: 0.40765 | Acc: 83.634 | Val_Loss: 0.22298 | Val_Acc: 93.700\n",
            "Epoch 009: | Loss: 0.41668 | Acc: 83.913 | Val_Loss: 0.20135 | Val_Acc: 95.961\n",
            "Epoch 010: | Loss: 0.40793 | Acc: 84.383 | Val_Loss: 0.21961 | Val_Acc: 95.638\n",
            "Epoch 011: | Loss: 0.40847 | Acc: 84.011 | Val_Loss: 0.16674 | Val_Acc: 96.123\n",
            "Epoch 012: | Loss: 0.41191 | Acc: 84.372 | Val_Loss: 0.27518 | Val_Acc: 93.215\n",
            "Epoch 013: | Loss: 0.41874 | Acc: 83.973 | Val_Loss: 8.15409 | Val_Acc: 4.039\n",
            "Epoch 014: | Loss: 0.41853 | Acc: 83.934 | Val_Loss: 2.14250 | Val_Acc: 4.039\n",
            "Epoch 015: | Loss: 0.42404 | Acc: 83.475 | Val_Loss: 1.33978 | Val_Acc: 4.039\n",
            "Epoch 016: | Loss: 0.46478 | Acc: 82.273 | Val_Loss: 0.53600 | Val_Acc: 95.961\n",
            "Epoch 017: | Loss: 0.46968 | Acc: 82.284 | Val_Loss: 0.49679 | Val_Acc: 95.961\n",
            "Epoch 018: | Loss: 0.46521 | Acc: 82.393 | Val_Loss: 0.32914 | Val_Acc: 95.961\n",
            "Epoch 019: | Loss: 0.47123 | Acc: 82.355 | Val_Loss: 0.26735 | Val_Acc: 95.961\n",
            "Epoch 020: | Loss: 0.46941 | Acc: 82.273 | Val_Loss: 0.24507 | Val_Acc: 95.961\n",
            "Hyperparameters: Epochs=20, Batch Size=16, Learning Rate=0.004\n",
            "Final Training Loss: 0.46941, Final Training Acc: 82.273\n",
            "Final Validation Loss: 0.24507, Final Validation Acc: 95.961\n",
            "\n",
            "\n",
            "accuracy:  0.9596122778675282\n",
            "594 0 25 0\n",
            "Recall: 0.0000\n",
            "Precision: nan\n",
            "F1 Score: nan\n"
          ]
        },
        {
          "name": "stderr",
          "output_type": "stream",
          "text": [
            "C:\\Users\\sandu\\AppData\\Local\\Temp\\ipykernel_9452\\3152788074.py:101: RuntimeWarning: invalid value encountered in scalar divide\n",
            "  precision = tp / (tp + fp)\n",
            "c:\\Users\\sandu\\Desktop\\sem7\\fyp\\App\\.venv\\lib\\site-packages\\torch\\nn\\modules\\transformer.py:282: UserWarning: enable_nested_tensor is True, but self.use_nested_tensor is False because encoder_layer.self_attn.num_heads is odd\n",
            "  warnings.warn(f\"enable_nested_tensor is True, but self.use_nested_tensor is False because {why_not_sparsity_fast_path}\")\n"
          ]
        },
        {
          "name": "stdout",
          "output_type": "stream",
          "text": [
            "Epoch 001: | Loss: 0.46869 | Acc: 80.497 | Val_Loss: 0.52363 | Val_Acc: 86.107\n",
            "Epoch 002: | Loss: 0.41178 | Acc: 83.847 | Val_Loss: 14.19252 | Val_Acc: 8.724\n",
            "Epoch 003: | Loss: 0.41686 | Acc: 84.240 | Val_Loss: 0.40514 | Val_Acc: 89.176\n",
            "Epoch 004: | Loss: 0.38397 | Acc: 85.907 | Val_Loss: 0.23026 | Val_Acc: 94.669\n",
            "Epoch 005: | Loss: 0.38210 | Acc: 86.077 | Val_Loss: 73.39821 | Val_Acc: 70.759\n",
            "Epoch 006: | Loss: 0.37348 | Acc: 86.607 | Val_Loss: 53.76960 | Val_Acc: 82.391\n",
            "Epoch 007: | Loss: 0.36757 | Acc: 86.585 | Val_Loss: 0.22901 | Val_Acc: 93.376\n",
            "Epoch 008: | Loss: 0.36917 | Acc: 86.574 | Val_Loss: 0.25342 | Val_Acc: 93.538\n",
            "Epoch 009: | Loss: 0.37507 | Acc: 86.541 | Val_Loss: 0.77631 | Val_Acc: 90.468\n",
            "Epoch 010: | Loss: 0.42417 | Acc: 84.279 | Val_Loss: 521.50566 | Val_Acc: 4.039\n",
            "Epoch 011: | Loss: 0.46888 | Acc: 82.339 | Val_Loss: 23506.27970 | Val_Acc: 4.039\n",
            "Epoch 012: | Loss: 0.46824 | Acc: 82.355 | Val_Loss: 24152.66253 | Val_Acc: 3.877\n",
            "Epoch 013: | Loss: 0.47216 | Acc: 82.169 | Val_Loss: 26048.63833 | Val_Acc: 3.877\n",
            "Epoch 014: | Loss: 0.46886 | Acc: 82.426 | Val_Loss: 28804.23527 | Val_Acc: 96.284\n",
            "Epoch 015: | Loss: 0.46855 | Acc: 82.481 | Val_Loss: 37022.46594 | Val_Acc: 4.039\n",
            "Epoch 016: | Loss: 0.46989 | Acc: 82.404 | Val_Loss: 35912.23394 | Val_Acc: 96.123\n",
            "Epoch 017: | Loss: 0.47072 | Acc: 82.235 | Val_Loss: 46864.75547 | Val_Acc: 96.284\n",
            "Epoch 018: | Loss: 0.46682 | Acc: 82.421 | Val_Loss: 42592.77488 | Val_Acc: 96.123\n",
            "Epoch 019: | Loss: 0.46849 | Acc: 82.339 | Val_Loss: 44816.07657 | Val_Acc: 96.284\n",
            "Epoch 020: | Loss: 0.46874 | Acc: 82.344 | Val_Loss: 38972.11129 | Val_Acc: 96.123\n",
            "Hyperparameters: Epochs=20, Batch Size=16, Learning Rate=0.005\n",
            "Final Training Loss: 0.46874, Final Training Acc: 82.344\n",
            "Final Validation Loss: 38972.11129, Final Validation Acc: 96.123\n",
            "\n",
            "\n",
            "accuracy:  0.9612277867528272\n",
            "590 4 20 5\n",
            "Recall: 0.2000\n",
            "Precision: 0.5556\n",
            "F1 Score: 0.2941\n"
          ]
        },
        {
          "name": "stderr",
          "output_type": "stream",
          "text": [
            "c:\\Users\\sandu\\Desktop\\sem7\\fyp\\App\\.venv\\lib\\site-packages\\torch\\nn\\modules\\transformer.py:282: UserWarning: enable_nested_tensor is True, but self.use_nested_tensor is False because encoder_layer.self_attn.num_heads is odd\n",
            "  warnings.warn(f\"enable_nested_tensor is True, but self.use_nested_tensor is False because {why_not_sparsity_fast_path}\")\n"
          ]
        },
        {
          "name": "stdout",
          "output_type": "stream",
          "text": [
            "Epoch 001: | Loss: 0.63488 | Acc: 68.186 | Val_Loss: 0.59415 | Val_Acc: 88.045\n",
            "Epoch 002: | Loss: 0.49442 | Acc: 82.344 | Val_Loss: 0.37883 | Val_Acc: 90.307\n",
            "Epoch 003: | Loss: 0.42326 | Acc: 84.306 | Val_Loss: 0.29338 | Val_Acc: 90.145\n",
            "Epoch 004: | Loss: 0.40010 | Acc: 85.038 | Val_Loss: 0.24812 | Val_Acc: 92.407\n",
            "Epoch 005: | Loss: 0.38722 | Acc: 85.541 | Val_Loss: 0.22841 | Val_Acc: 94.023\n",
            "Epoch 006: | Loss: 0.39173 | Acc: 85.219 | Val_Loss: 0.23868 | Val_Acc: 92.892\n",
            "Epoch 007: | Loss: 0.38690 | Acc: 85.749 | Val_Loss: 0.19315 | Val_Acc: 95.638\n",
            "Epoch 008: | Loss: 0.38263 | Acc: 85.787 | Val_Loss: 0.22531 | Val_Acc: 94.830\n",
            "Epoch 009: | Loss: 0.38319 | Acc: 86.000 | Val_Loss: 0.18033 | Val_Acc: 96.284\n",
            "Epoch 010: | Loss: 0.37749 | Acc: 86.055 | Val_Loss: 0.19536 | Val_Acc: 94.023\n",
            "Epoch 011: | Loss: 0.37888 | Acc: 86.158 | Val_Loss: 0.20070 | Val_Acc: 94.669\n",
            "Epoch 012: | Loss: 0.37696 | Acc: 86.350 | Val_Loss: 0.17720 | Val_Acc: 95.961\n",
            "Epoch 013: | Loss: 0.37498 | Acc: 86.268 | Val_Loss: 0.18493 | Val_Acc: 95.153\n",
            "Epoch 014: | Loss: 0.37781 | Acc: 86.426 | Val_Loss: 0.17841 | Val_Acc: 95.800\n",
            "Epoch 015: | Loss: 0.36787 | Acc: 86.770 | Val_Loss: 0.15935 | Val_Acc: 96.123\n",
            "Epoch 016: | Loss: 0.37133 | Acc: 86.721 | Val_Loss: 0.19924 | Val_Acc: 95.477\n",
            "Epoch 017: | Loss: 0.36997 | Acc: 86.995 | Val_Loss: 0.18855 | Val_Acc: 96.607\n",
            "Epoch 018: | Loss: 0.36518 | Acc: 87.093 | Val_Loss: 0.18375 | Val_Acc: 96.607\n",
            "Epoch 019: | Loss: 0.36510 | Acc: 86.754 | Val_Loss: 0.22429 | Val_Acc: 95.800\n",
            "Epoch 020: | Loss: 0.36679 | Acc: 87.044 | Val_Loss: 0.20532 | Val_Acc: 95.153\n",
            "Hyperparameters: Epochs=20, Batch Size=32, Learning Rate=0.0005\n",
            "Final Training Loss: 0.36679, Final Training Acc: 87.044\n",
            "Final Validation Loss: 0.20532, Final Validation Acc: 95.153\n",
            "\n",
            "\n",
            "accuracy:  0.9515347334410339\n",
            "579 15 15 10\n",
            "Recall: 0.4000\n",
            "Precision: 0.4000\n",
            "F1 Score: 0.4000\n"
          ]
        },
        {
          "name": "stderr",
          "output_type": "stream",
          "text": [
            "c:\\Users\\sandu\\Desktop\\sem7\\fyp\\App\\.venv\\lib\\site-packages\\torch\\nn\\modules\\transformer.py:282: UserWarning: enable_nested_tensor is True, but self.use_nested_tensor is False because encoder_layer.self_attn.num_heads is odd\n",
            "  warnings.warn(f\"enable_nested_tensor is True, but self.use_nested_tensor is False because {why_not_sparsity_fast_path}\")\n"
          ]
        },
        {
          "name": "stdout",
          "output_type": "stream",
          "text": [
            "Epoch 001: | Loss: 0.55655 | Acc: 75.311 | Val_Loss: 0.37712 | Val_Acc: 88.045\n",
            "Epoch 002: | Loss: 0.42282 | Acc: 83.694 | Val_Loss: 0.31012 | Val_Acc: 89.984\n",
            "Epoch 003: | Loss: 0.40097 | Acc: 84.180 | Val_Loss: 0.21368 | Val_Acc: 94.830\n",
            "Epoch 004: | Loss: 0.39128 | Acc: 85.306 | Val_Loss: 0.20518 | Val_Acc: 94.023\n",
            "Epoch 005: | Loss: 0.38232 | Acc: 86.011 | Val_Loss: 0.19776 | Val_Acc: 95.800\n",
            "Epoch 006: | Loss: 0.38608 | Acc: 85.716 | Val_Loss: 0.18365 | Val_Acc: 96.284\n",
            "Epoch 007: | Loss: 0.38194 | Acc: 86.158 | Val_Loss: 0.17287 | Val_Acc: 96.284\n",
            "Epoch 008: | Loss: 0.37448 | Acc: 86.732 | Val_Loss: 0.18271 | Val_Acc: 95.961\n",
            "Epoch 009: | Loss: 0.37378 | Acc: 86.519 | Val_Loss: 0.20621 | Val_Acc: 95.315\n",
            "Epoch 010: | Loss: 0.36756 | Acc: 86.836 | Val_Loss: 0.18216 | Val_Acc: 95.800\n",
            "Epoch 011: | Loss: 0.37293 | Acc: 86.694 | Val_Loss: 0.28717 | Val_Acc: 94.992\n",
            "Epoch 012: | Loss: 0.37727 | Acc: 86.350 | Val_Loss: 0.28688 | Val_Acc: 92.730\n",
            "Epoch 013: | Loss: 0.36993 | Acc: 86.820 | Val_Loss: 0.18631 | Val_Acc: 95.153\n",
            "Epoch 014: | Loss: 0.36928 | Acc: 86.721 | Val_Loss: 0.15430 | Val_Acc: 96.931\n",
            "Epoch 015: | Loss: 0.36486 | Acc: 86.907 | Val_Loss: 0.18148 | Val_Acc: 95.961\n",
            "Epoch 016: | Loss: 0.36453 | Acc: 87.213 | Val_Loss: 0.19821 | Val_Acc: 95.638\n",
            "Epoch 017: | Loss: 0.36351 | Acc: 86.940 | Val_Loss: 0.17073 | Val_Acc: 96.607\n",
            "Epoch 018: | Loss: 0.35837 | Acc: 87.284 | Val_Loss: 0.18813 | Val_Acc: 96.123\n",
            "Epoch 019: | Loss: 0.36069 | Acc: 87.230 | Val_Loss: 0.17540 | Val_Acc: 96.123\n",
            "Epoch 020: | Loss: 0.35623 | Acc: 87.344 | Val_Loss: 0.17981 | Val_Acc: 95.961\n",
            "Hyperparameters: Epochs=20, Batch Size=32, Learning Rate=0.001\n",
            "Final Training Loss: 0.35623, Final Training Acc: 87.344\n",
            "Final Validation Loss: 0.17981, Final Validation Acc: 95.961\n",
            "\n",
            "\n",
            "accuracy:  0.9596122778675282\n",
            "585 9 16 9\n",
            "Recall: 0.3600\n",
            "Precision: 0.5000\n",
            "F1 Score: 0.4186\n"
          ]
        },
        {
          "name": "stderr",
          "output_type": "stream",
          "text": [
            "c:\\Users\\sandu\\Desktop\\sem7\\fyp\\App\\.venv\\lib\\site-packages\\torch\\nn\\modules\\transformer.py:282: UserWarning: enable_nested_tensor is True, but self.use_nested_tensor is False because encoder_layer.self_attn.num_heads is odd\n",
            "  warnings.warn(f\"enable_nested_tensor is True, but self.use_nested_tensor is False because {why_not_sparsity_fast_path}\")\n"
          ]
        },
        {
          "name": "stdout",
          "output_type": "stream",
          "text": [
            "Epoch 001: | Loss: 0.51438 | Acc: 77.814 | Val_Loss: 0.20785 | Val_Acc: 95.961\n",
            "Epoch 002: | Loss: 0.41354 | Acc: 83.071 | Val_Loss: 0.19841 | Val_Acc: 95.961\n",
            "Epoch 003: | Loss: 0.40285 | Acc: 84.273 | Val_Loss: 0.20803 | Val_Acc: 92.730\n",
            "Epoch 004: | Loss: 0.38706 | Acc: 85.432 | Val_Loss: 0.18106 | Val_Acc: 95.477\n",
            "Epoch 005: | Loss: 0.37545 | Acc: 86.197 | Val_Loss: 0.17447 | Val_Acc: 96.446\n",
            "Epoch 006: | Loss: 0.37422 | Acc: 86.399 | Val_Loss: 0.22581 | Val_Acc: 93.215\n",
            "Epoch 007: | Loss: 0.36292 | Acc: 87.055 | Val_Loss: 0.19841 | Val_Acc: 94.830\n",
            "Epoch 008: | Loss: 0.36468 | Acc: 87.235 | Val_Loss: 0.19804 | Val_Acc: 95.477\n",
            "Epoch 009: | Loss: 0.35986 | Acc: 87.437 | Val_Loss: 0.18666 | Val_Acc: 95.800\n",
            "Epoch 010: | Loss: 0.36140 | Acc: 87.459 | Val_Loss: 0.19683 | Val_Acc: 95.315\n",
            "Epoch 011: | Loss: 0.35667 | Acc: 87.432 | Val_Loss: 0.18800 | Val_Acc: 95.153\n",
            "Epoch 012: | Loss: 0.34982 | Acc: 87.842 | Val_Loss: 0.19613 | Val_Acc: 96.123\n",
            "Epoch 013: | Loss: 0.36244 | Acc: 87.005 | Val_Loss: 0.21540 | Val_Acc: 94.346\n",
            "Epoch 014: | Loss: 0.36572 | Acc: 87.126 | Val_Loss: 0.19537 | Val_Acc: 96.123\n",
            "Epoch 015: | Loss: 0.35944 | Acc: 87.656 | Val_Loss: 0.20687 | Val_Acc: 94.184\n",
            "Epoch 016: | Loss: 0.35414 | Acc: 87.612 | Val_Loss: 0.18909 | Val_Acc: 95.961\n",
            "Epoch 017: | Loss: 0.35226 | Acc: 87.716 | Val_Loss: 0.20941 | Val_Acc: 94.830\n",
            "Epoch 018: | Loss: 0.35628 | Acc: 87.831 | Val_Loss: 0.17539 | Val_Acc: 95.961\n",
            "Epoch 019: | Loss: 0.35457 | Acc: 87.568 | Val_Loss: 0.16535 | Val_Acc: 95.638\n",
            "Epoch 020: | Loss: 0.35277 | Acc: 87.760 | Val_Loss: 0.20114 | Val_Acc: 95.477\n",
            "Hyperparameters: Epochs=20, Batch Size=32, Learning Rate=0.003\n",
            "Final Training Loss: 0.35277, Final Training Acc: 87.760\n",
            "Final Validation Loss: 0.20114, Final Validation Acc: 95.477\n",
            "\n",
            "\n",
            "accuracy:  0.9547657512116317\n",
            "583 11 17 8\n",
            "Recall: 0.3200\n",
            "Precision: 0.4211\n",
            "F1 Score: 0.3636\n"
          ]
        },
        {
          "name": "stderr",
          "output_type": "stream",
          "text": [
            "c:\\Users\\sandu\\Desktop\\sem7\\fyp\\App\\.venv\\lib\\site-packages\\torch\\nn\\modules\\transformer.py:282: UserWarning: enable_nested_tensor is True, but self.use_nested_tensor is False because encoder_layer.self_attn.num_heads is odd\n",
            "  warnings.warn(f\"enable_nested_tensor is True, but self.use_nested_tensor is False because {why_not_sparsity_fast_path}\")\n"
          ]
        },
        {
          "name": "stdout",
          "output_type": "stream",
          "text": [
            "Epoch 001: | Loss: 0.46287 | Acc: 80.459 | Val_Loss: 0.29436 | Val_Acc: 92.892\n",
            "Epoch 002: | Loss: 0.41430 | Acc: 84.377 | Val_Loss: 0.18747 | Val_Acc: 93.861\n",
            "Epoch 003: | Loss: 0.38757 | Acc: 85.923 | Val_Loss: 0.33359 | Val_Acc: 91.761\n",
            "Epoch 004: | Loss: 0.37667 | Acc: 86.393 | Val_Loss: 0.24037 | Val_Acc: 93.215\n",
            "Epoch 005: | Loss: 0.38479 | Acc: 85.519 | Val_Loss: 0.25556 | Val_Acc: 92.084\n",
            "Epoch 006: | Loss: 0.37614 | Acc: 86.601 | Val_Loss: 0.44133 | Val_Acc: 94.346\n",
            "Epoch 007: | Loss: 0.44566 | Acc: 83.699 | Val_Loss: 0.44508 | Val_Acc: 95.961\n",
            "Epoch 008: | Loss: 0.47508 | Acc: 82.301 | Val_Loss: 0.25175 | Val_Acc: 95.961\n",
            "Epoch 009: | Loss: 0.47031 | Acc: 82.361 | Val_Loss: 0.21211 | Val_Acc: 95.961\n",
            "Epoch 010: | Loss: 0.47122 | Acc: 82.301 | Val_Loss: 0.19213 | Val_Acc: 95.961\n",
            "Epoch 011: | Loss: 0.40731 | Acc: 84.814 | Val_Loss: 0.20794 | Val_Acc: 92.246\n",
            "Epoch 012: | Loss: 0.37448 | Acc: 86.721 | Val_Loss: 0.16662 | Val_Acc: 96.123\n",
            "Epoch 013: | Loss: 0.38473 | Acc: 86.437 | Val_Loss: 0.22940 | Val_Acc: 91.922\n",
            "Epoch 014: | Loss: 0.39075 | Acc: 86.776 | Val_Loss: 0.16172 | Val_Acc: 94.992\n",
            "Epoch 015: | Loss: 0.37129 | Acc: 86.967 | Val_Loss: 0.18735 | Val_Acc: 94.830\n",
            "Epoch 016: | Loss: 0.39580 | Acc: 86.262 | Val_Loss: 2.98838 | Val_Acc: 6.462\n",
            "Epoch 017: | Loss: 0.39341 | Acc: 86.235 | Val_Loss: 3.88396 | Val_Acc: 91.761\n",
            "Epoch 018: | Loss: 0.41260 | Acc: 85.126 | Val_Loss: 0.45577 | Val_Acc: 95.800\n",
            "Epoch 019: | Loss: 0.41575 | Acc: 85.011 | Val_Loss: 0.18065 | Val_Acc: 95.961\n",
            "Epoch 020: | Loss: 0.42107 | Acc: 84.645 | Val_Loss: 3.29386 | Val_Acc: 92.246\n",
            "Hyperparameters: Epochs=20, Batch Size=32, Learning Rate=0.004\n",
            "Final Training Loss: 0.42107, Final Training Acc: 84.645\n",
            "Final Validation Loss: 3.29386, Final Validation Acc: 92.246\n",
            "\n",
            "\n",
            "accuracy:  0.9224555735056543\n",
            "560 34 14 11\n",
            "Recall: 0.4400\n",
            "Precision: 0.2444\n",
            "F1 Score: 0.3143\n"
          ]
        },
        {
          "name": "stderr",
          "output_type": "stream",
          "text": [
            "c:\\Users\\sandu\\Desktop\\sem7\\fyp\\App\\.venv\\lib\\site-packages\\torch\\nn\\modules\\transformer.py:282: UserWarning: enable_nested_tensor is True, but self.use_nested_tensor is False because encoder_layer.self_attn.num_heads is odd\n",
            "  warnings.warn(f\"enable_nested_tensor is True, but self.use_nested_tensor is False because {why_not_sparsity_fast_path}\")\n"
          ]
        },
        {
          "name": "stdout",
          "output_type": "stream",
          "text": [
            "Epoch 001: | Loss: 0.47996 | Acc: 81.279 | Val_Loss: 0.23626 | Val_Acc: 89.176\n",
            "Epoch 002: | Loss: 0.40618 | Acc: 84.617 | Val_Loss: 0.55857 | Val_Acc: 92.084\n",
            "Epoch 003: | Loss: 0.38878 | Acc: 85.596 | Val_Loss: 0.44987 | Val_Acc: 90.145\n",
            "Epoch 004: | Loss: 0.38536 | Acc: 85.863 | Val_Loss: 0.20389 | Val_Acc: 94.184\n",
            "Epoch 005: | Loss: 0.37181 | Acc: 87.044 | Val_Loss: 0.26331 | Val_Acc: 93.376\n",
            "Epoch 006: | Loss: 0.37500 | Acc: 86.557 | Val_Loss: 0.18417 | Val_Acc: 95.153\n",
            "Epoch 007: | Loss: 0.37281 | Acc: 86.847 | Val_Loss: 0.25712 | Val_Acc: 92.569\n",
            "Epoch 008: | Loss: 0.36714 | Acc: 87.093 | Val_Loss: 0.20624 | Val_Acc: 94.992\n",
            "Epoch 009: | Loss: 0.36330 | Acc: 86.907 | Val_Loss: 0.81928 | Val_Acc: 94.346\n",
            "Epoch 010: | Loss: 0.36258 | Acc: 87.169 | Val_Loss: 0.18910 | Val_Acc: 94.669\n",
            "Epoch 011: | Loss: 0.37159 | Acc: 86.678 | Val_Loss: 0.27378 | Val_Acc: 94.023\n",
            "Epoch 012: | Loss: 0.37695 | Acc: 86.574 | Val_Loss: 0.20406 | Val_Acc: 96.446\n",
            "Epoch 013: | Loss: 0.39161 | Acc: 85.109 | Val_Loss: 0.17500 | Val_Acc: 96.123\n",
            "Epoch 014: | Loss: 0.39817 | Acc: 84.607 | Val_Loss: 0.22006 | Val_Acc: 96.446\n",
            "Epoch 015: | Loss: 0.41185 | Acc: 83.612 | Val_Loss: 0.22441 | Val_Acc: 95.800\n",
            "Epoch 016: | Loss: 0.47049 | Acc: 82.328 | Val_Loss: 0.39457 | Val_Acc: 95.961\n",
            "Epoch 017: | Loss: 0.47343 | Acc: 82.268 | Val_Loss: 0.22395 | Val_Acc: 95.961\n",
            "Epoch 018: | Loss: 0.46958 | Acc: 82.240 | Val_Loss: 0.18165 | Val_Acc: 95.961\n",
            "Epoch 019: | Loss: 0.46944 | Acc: 82.339 | Val_Loss: 0.18588 | Val_Acc: 95.961\n",
            "Epoch 020: | Loss: 0.46806 | Acc: 82.344 | Val_Loss: 0.29735 | Val_Acc: 95.961\n",
            "Hyperparameters: Epochs=20, Batch Size=32, Learning Rate=0.005\n",
            "Final Training Loss: 0.46806, Final Training Acc: 82.344\n",
            "Final Validation Loss: 0.29735, Final Validation Acc: 95.961\n",
            "\n",
            "\n",
            "accuracy:  0.9596122778675282\n",
            "594 0 25 0\n",
            "Recall: 0.0000\n",
            "Precision: nan\n",
            "F1 Score: nan\n"
          ]
        },
        {
          "name": "stderr",
          "output_type": "stream",
          "text": [
            "C:\\Users\\sandu\\AppData\\Local\\Temp\\ipykernel_9452\\3152788074.py:101: RuntimeWarning: invalid value encountered in scalar divide\n",
            "  precision = tp / (tp + fp)\n",
            "c:\\Users\\sandu\\Desktop\\sem7\\fyp\\App\\.venv\\lib\\site-packages\\torch\\nn\\modules\\transformer.py:282: UserWarning: enable_nested_tensor is True, but self.use_nested_tensor is False because encoder_layer.self_attn.num_heads is odd\n",
            "  warnings.warn(f\"enable_nested_tensor is True, but self.use_nested_tensor is False because {why_not_sparsity_fast_path}\")\n"
          ]
        },
        {
          "name": "stdout",
          "output_type": "stream",
          "text": [
            "Epoch 001: | Loss: 0.62108 | Acc: 69.322 | Val_Loss: 0.66848 | Val_Acc: 87.884\n",
            "Epoch 002: | Loss: 0.48642 | Acc: 82.415 | Val_Loss: 0.37633 | Val_Acc: 91.761\n",
            "Epoch 003: | Loss: 0.43244 | Acc: 83.623 | Val_Loss: 0.26441 | Val_Acc: 93.053\n",
            "Epoch 004: | Loss: 0.40947 | Acc: 84.459 | Val_Loss: 0.25934 | Val_Acc: 92.246\n",
            "Epoch 005: | Loss: 0.39891 | Acc: 84.891 | Val_Loss: 0.35293 | Val_Acc: 94.346\n",
            "Epoch 006: | Loss: 0.39842 | Acc: 84.847 | Val_Loss: 0.22462 | Val_Acc: 94.830\n",
            "Epoch 007: | Loss: 0.39288 | Acc: 85.322 | Val_Loss: 0.28852 | Val_Acc: 93.861\n",
            "Epoch 008: | Loss: 0.38447 | Acc: 85.546 | Val_Loss: 0.33053 | Val_Acc: 94.669\n",
            "Epoch 009: | Loss: 0.38647 | Acc: 85.721 | Val_Loss: 0.29489 | Val_Acc: 93.538\n",
            "Epoch 010: | Loss: 0.38671 | Acc: 85.874 | Val_Loss: 0.31578 | Val_Acc: 93.861\n",
            "Epoch 011: | Loss: 0.38066 | Acc: 85.929 | Val_Loss: 0.25033 | Val_Acc: 94.830\n",
            "Epoch 012: | Loss: 0.37271 | Acc: 86.710 | Val_Loss: 0.25294 | Val_Acc: 94.023\n",
            "Epoch 013: | Loss: 0.37862 | Acc: 86.262 | Val_Loss: 0.26361 | Val_Acc: 95.153\n",
            "Epoch 014: | Loss: 0.37495 | Acc: 86.563 | Val_Loss: 0.26981 | Val_Acc: 95.153\n",
            "Epoch 015: | Loss: 0.37070 | Acc: 86.705 | Val_Loss: 0.22631 | Val_Acc: 95.638\n",
            "Epoch 016: | Loss: 0.36394 | Acc: 86.978 | Val_Loss: 0.23875 | Val_Acc: 95.638\n",
            "Epoch 017: | Loss: 0.36560 | Acc: 86.896 | Val_Loss: 0.22004 | Val_Acc: 95.477\n",
            "Epoch 018: | Loss: 0.36762 | Acc: 86.951 | Val_Loss: 0.20632 | Val_Acc: 95.315\n",
            "Epoch 019: | Loss: 0.35851 | Acc: 87.022 | Val_Loss: 0.19056 | Val_Acc: 95.477\n",
            "Epoch 020: | Loss: 0.36359 | Acc: 87.005 | Val_Loss: 0.19269 | Val_Acc: 95.800\n",
            "Hyperparameters: Epochs=20, Batch Size=64, Learning Rate=0.0005\n",
            "Final Training Loss: 0.36359, Final Training Acc: 87.005\n",
            "Final Validation Loss: 0.19269, Final Validation Acc: 95.800\n",
            "\n",
            "\n",
            "accuracy:  0.9579967689822294\n",
            "584 10 16 9\n",
            "Recall: 0.3600\n",
            "Precision: 0.4737\n",
            "F1 Score: 0.4091\n"
          ]
        },
        {
          "name": "stderr",
          "output_type": "stream",
          "text": [
            "c:\\Users\\sandu\\Desktop\\sem7\\fyp\\App\\.venv\\lib\\site-packages\\torch\\nn\\modules\\transformer.py:282: UserWarning: enable_nested_tensor is True, but self.use_nested_tensor is False because encoder_layer.self_attn.num_heads is odd\n",
            "  warnings.warn(f\"enable_nested_tensor is True, but self.use_nested_tensor is False because {why_not_sparsity_fast_path}\")\n"
          ]
        },
        {
          "name": "stdout",
          "output_type": "stream",
          "text": [
            "Epoch 001: | Loss: 0.55677 | Acc: 75.601 | Val_Loss: 0.30813 | Val_Acc: 91.115\n",
            "Epoch 002: | Loss: 0.42171 | Acc: 84.454 | Val_Loss: 0.33363 | Val_Acc: 90.630\n",
            "Epoch 003: | Loss: 0.39909 | Acc: 84.934 | Val_Loss: 0.63081 | Val_Acc: 90.145\n",
            "Epoch 004: | Loss: 0.38706 | Acc: 85.710 | Val_Loss: 0.26691 | Val_Acc: 95.638\n",
            "Epoch 005: | Loss: 0.38163 | Acc: 86.432 | Val_Loss: 0.29962 | Val_Acc: 94.830\n",
            "Epoch 006: | Loss: 0.39374 | Acc: 85.727 | Val_Loss: 0.20133 | Val_Acc: 95.800\n",
            "Epoch 007: | Loss: 0.37701 | Acc: 86.317 | Val_Loss: 0.21468 | Val_Acc: 95.153\n",
            "Epoch 008: | Loss: 0.36918 | Acc: 86.678 | Val_Loss: 0.19967 | Val_Acc: 96.446\n",
            "Epoch 009: | Loss: 0.37300 | Acc: 86.645 | Val_Loss: 0.20534 | Val_Acc: 96.607\n",
            "Epoch 010: | Loss: 0.36094 | Acc: 87.235 | Val_Loss: 0.19682 | Val_Acc: 96.769\n",
            "Epoch 011: | Loss: 0.36666 | Acc: 87.077 | Val_Loss: 0.20469 | Val_Acc: 96.769\n",
            "Epoch 012: | Loss: 0.36321 | Acc: 87.060 | Val_Loss: 0.17136 | Val_Acc: 96.607\n",
            "Epoch 013: | Loss: 0.35844 | Acc: 87.464 | Val_Loss: 0.18935 | Val_Acc: 96.446\n",
            "Epoch 014: | Loss: 0.35768 | Acc: 87.563 | Val_Loss: 0.18091 | Val_Acc: 96.931\n",
            "Epoch 015: | Loss: 0.35826 | Acc: 87.574 | Val_Loss: 0.22925 | Val_Acc: 95.961\n",
            "Epoch 016: | Loss: 0.35426 | Acc: 87.634 | Val_Loss: 0.20602 | Val_Acc: 96.284\n",
            "Epoch 017: | Loss: 0.35280 | Acc: 87.519 | Val_Loss: 0.17390 | Val_Acc: 96.284\n",
            "Epoch 018: | Loss: 0.35157 | Acc: 87.896 | Val_Loss: 0.19687 | Val_Acc: 96.446\n",
            "Epoch 019: | Loss: 0.34818 | Acc: 87.776 | Val_Loss: 0.16474 | Val_Acc: 96.607\n",
            "Epoch 020: | Loss: 0.34971 | Acc: 87.634 | Val_Loss: 0.18421 | Val_Acc: 96.769\n",
            "Hyperparameters: Epochs=20, Batch Size=64, Learning Rate=0.001\n",
            "Final Training Loss: 0.34971, Final Training Acc: 87.634\n",
            "Final Validation Loss: 0.18421, Final Validation Acc: 96.769\n",
            "\n",
            "\n",
            "accuracy:  0.9676898222940227\n",
            "590 4 16 9\n",
            "Recall: 0.3600\n",
            "Precision: 0.6923\n",
            "F1 Score: 0.4737\n"
          ]
        },
        {
          "name": "stderr",
          "output_type": "stream",
          "text": [
            "c:\\Users\\sandu\\Desktop\\sem7\\fyp\\App\\.venv\\lib\\site-packages\\torch\\nn\\modules\\transformer.py:282: UserWarning: enable_nested_tensor is True, but self.use_nested_tensor is False because encoder_layer.self_attn.num_heads is odd\n",
            "  warnings.warn(f\"enable_nested_tensor is True, but self.use_nested_tensor is False because {why_not_sparsity_fast_path}\")\n"
          ]
        },
        {
          "name": "stdout",
          "output_type": "stream",
          "text": [
            "Epoch 001: | Loss: 0.47940 | Acc: 79.803 | Val_Loss: 0.23462 | Val_Acc: 88.368\n",
            "Epoch 002: | Loss: 0.40579 | Acc: 84.027 | Val_Loss: 3.39833 | Val_Acc: 83.037\n",
            "Epoch 003: | Loss: 0.40328 | Acc: 84.978 | Val_Loss: 0.42349 | Val_Acc: 89.338\n",
            "Epoch 004: | Loss: 0.39967 | Acc: 84.443 | Val_Loss: 0.23404 | Val_Acc: 88.691\n",
            "Epoch 005: | Loss: 0.40032 | Acc: 84.251 | Val_Loss: 0.25360 | Val_Acc: 93.053\n",
            "Epoch 006: | Loss: 0.38328 | Acc: 86.202 | Val_Loss: 0.29330 | Val_Acc: 92.407\n",
            "Epoch 007: | Loss: 0.37534 | Acc: 86.464 | Val_Loss: 0.28373 | Val_Acc: 92.892\n",
            "Epoch 008: | Loss: 0.37219 | Acc: 86.574 | Val_Loss: 0.25960 | Val_Acc: 93.700\n",
            "Epoch 009: | Loss: 0.37684 | Acc: 86.459 | Val_Loss: 0.26059 | Val_Acc: 92.730\n",
            "Epoch 010: | Loss: 0.37253 | Acc: 86.683 | Val_Loss: 0.30242 | Val_Acc: 92.407\n",
            "Epoch 011: | Loss: 0.39720 | Acc: 84.508 | Val_Loss: 0.36036 | Val_Acc: 88.853\n",
            "Epoch 012: | Loss: 0.39621 | Acc: 84.393 | Val_Loss: 0.25989 | Val_Acc: 90.468\n",
            "Epoch 013: | Loss: 0.39256 | Acc: 84.913 | Val_Loss: 103.32019 | Val_Acc: 83.037\n",
            "Epoch 014: | Loss: 0.38818 | Acc: 85.514 | Val_Loss: 14.33403 | Val_Acc: 84.653\n",
            "Epoch 015: | Loss: 0.39109 | Acc: 85.344 | Val_Loss: 7.84379 | Val_Acc: 5.008\n",
            "Epoch 016: | Loss: 0.38108 | Acc: 86.180 | Val_Loss: 0.51098 | Val_Acc: 93.700\n",
            "Epoch 017: | Loss: 0.38979 | Acc: 85.153 | Val_Loss: 3.06171 | Val_Acc: 8.239\n",
            "Epoch 018: | Loss: 0.38815 | Acc: 85.617 | Val_Loss: 42.79070 | Val_Acc: 79.968\n",
            "Epoch 019: | Loss: 0.37923 | Acc: 86.169 | Val_Loss: 208.29750 | Val_Acc: 81.745\n",
            "Epoch 020: | Loss: 0.38195 | Acc: 85.798 | Val_Loss: 7742.61458 | Val_Acc: 81.422\n",
            "Hyperparameters: Epochs=20, Batch Size=64, Learning Rate=0.003\n",
            "Final Training Loss: 0.38195, Final Training Acc: 85.798\n",
            "Final Validation Loss: 7742.61458, Final Validation Acc: 81.422\n",
            "\n",
            "\n",
            "accuracy:  0.81421647819063\n",
            "492 102 13 12\n",
            "Recall: 0.4800\n",
            "Precision: 0.1053\n",
            "F1 Score: 0.1727\n"
          ]
        },
        {
          "name": "stderr",
          "output_type": "stream",
          "text": [
            "c:\\Users\\sandu\\Desktop\\sem7\\fyp\\App\\.venv\\lib\\site-packages\\torch\\nn\\modules\\transformer.py:282: UserWarning: enable_nested_tensor is True, but self.use_nested_tensor is False because encoder_layer.self_attn.num_heads is odd\n",
            "  warnings.warn(f\"enable_nested_tensor is True, but self.use_nested_tensor is False because {why_not_sparsity_fast_path}\")\n"
          ]
        },
        {
          "name": "stdout",
          "output_type": "stream",
          "text": [
            "Epoch 001: | Loss: 0.45982 | Acc: 81.689 | Val_Loss: 0.28418 | Val_Acc: 90.307\n",
            "Epoch 002: | Loss: 0.40862 | Acc: 83.694 | Val_Loss: 0.29437 | Val_Acc: 89.015\n",
            "Epoch 003: | Loss: 0.40619 | Acc: 84.301 | Val_Loss: 0.30462 | Val_Acc: 90.468\n",
            "Epoch 004: | Loss: 0.38832 | Acc: 85.568 | Val_Loss: 0.34997 | Val_Acc: 89.338\n",
            "Epoch 005: | Loss: 0.38977 | Acc: 85.186 | Val_Loss: 0.22512 | Val_Acc: 95.153\n",
            "Epoch 006: | Loss: 0.38372 | Acc: 85.623 | Val_Loss: 0.26227 | Val_Acc: 91.761\n",
            "Epoch 007: | Loss: 0.37710 | Acc: 86.104 | Val_Loss: 0.26183 | Val_Acc: 93.700\n",
            "Epoch 008: | Loss: 0.38378 | Acc: 85.962 | Val_Loss: 0.66592 | Val_Acc: 91.761\n",
            "Epoch 009: | Loss: 0.44675 | Acc: 83.240 | Val_Loss: 0.17774 | Val_Acc: 95.961\n",
            "Epoch 010: | Loss: 0.46988 | Acc: 82.311 | Val_Loss: 0.30571 | Val_Acc: 95.961\n",
            "Epoch 011: | Loss: 0.47380 | Acc: 82.383 | Val_Loss: 0.28342 | Val_Acc: 95.961\n",
            "Epoch 012: | Loss: 0.47053 | Acc: 82.377 | Val_Loss: 0.22133 | Val_Acc: 95.961\n",
            "Epoch 013: | Loss: 0.46918 | Acc: 82.388 | Val_Loss: 0.24665 | Val_Acc: 95.961\n",
            "Epoch 014: | Loss: 0.47069 | Acc: 82.279 | Val_Loss: 0.22580 | Val_Acc: 95.961\n",
            "Epoch 015: | Loss: 0.46900 | Acc: 82.377 | Val_Loss: 0.27936 | Val_Acc: 95.961\n",
            "Epoch 016: | Loss: 0.47010 | Acc: 82.328 | Val_Loss: 0.24672 | Val_Acc: 95.961\n",
            "Epoch 017: | Loss: 0.46960 | Acc: 82.306 | Val_Loss: 0.22777 | Val_Acc: 95.961\n",
            "Epoch 018: | Loss: 0.46873 | Acc: 82.377 | Val_Loss: 0.23618 | Val_Acc: 95.961\n",
            "Epoch 019: | Loss: 0.46880 | Acc: 82.306 | Val_Loss: 0.26911 | Val_Acc: 95.961\n",
            "Epoch 020: | Loss: 0.46865 | Acc: 82.388 | Val_Loss: 0.27571 | Val_Acc: 95.961\n",
            "Hyperparameters: Epochs=20, Batch Size=64, Learning Rate=0.004\n",
            "Final Training Loss: 0.46865, Final Training Acc: 82.388\n",
            "Final Validation Loss: 0.27571, Final Validation Acc: 95.961\n",
            "\n",
            "\n",
            "accuracy:  0.9596122778675282\n",
            "594 0 25 0\n",
            "Recall: 0.0000\n",
            "Precision: nan\n",
            "F1 Score: nan\n"
          ]
        },
        {
          "name": "stderr",
          "output_type": "stream",
          "text": [
            "C:\\Users\\sandu\\AppData\\Local\\Temp\\ipykernel_9452\\3152788074.py:101: RuntimeWarning: invalid value encountered in scalar divide\n",
            "  precision = tp / (tp + fp)\n",
            "c:\\Users\\sandu\\Desktop\\sem7\\fyp\\App\\.venv\\lib\\site-packages\\torch\\nn\\modules\\transformer.py:282: UserWarning: enable_nested_tensor is True, but self.use_nested_tensor is False because encoder_layer.self_attn.num_heads is odd\n",
            "  warnings.warn(f\"enable_nested_tensor is True, but self.use_nested_tensor is False because {why_not_sparsity_fast_path}\")\n"
          ]
        },
        {
          "name": "stdout",
          "output_type": "stream",
          "text": [
            "Epoch 001: | Loss: 0.46874 | Acc: 79.781 | Val_Loss: 0.35586 | Val_Acc: 86.914\n",
            "Epoch 002: | Loss: 0.42713 | Acc: 82.634 | Val_Loss: 0.23763 | Val_Acc: 88.530\n",
            "Epoch 003: | Loss: 0.41845 | Acc: 82.825 | Val_Loss: 0.45728 | Val_Acc: 94.184\n",
            "Epoch 004: | Loss: 0.40749 | Acc: 84.230 | Val_Loss: 0.22027 | Val_Acc: 94.184\n",
            "Epoch 005: | Loss: 0.42826 | Acc: 84.098 | Val_Loss: 0.15444 | Val_Acc: 95.961\n",
            "Epoch 006: | Loss: 0.40921 | Acc: 84.984 | Val_Loss: 0.38827 | Val_Acc: 95.477\n",
            "Epoch 007: | Loss: 0.42296 | Acc: 82.689 | Val_Loss: 0.25908 | Val_Acc: 88.368\n",
            "Epoch 008: | Loss: 0.42370 | Acc: 83.066 | Val_Loss: 0.20401 | Val_Acc: 95.961\n",
            "Epoch 009: | Loss: 0.42405 | Acc: 83.230 | Val_Loss: 0.19681 | Val_Acc: 89.822\n",
            "Epoch 010: | Loss: 0.42018 | Acc: 83.213 | Val_Loss: 0.21749 | Val_Acc: 90.307\n",
            "Epoch 011: | Loss: 0.41911 | Acc: 83.158 | Val_Loss: 0.18758 | Val_Acc: 89.822\n",
            "Epoch 012: | Loss: 0.40433 | Acc: 85.443 | Val_Loss: 0.30678 | Val_Acc: 91.761\n",
            "Epoch 013: | Loss: 0.39688 | Acc: 86.552 | Val_Loss: 0.29425 | Val_Acc: 92.569\n",
            "Epoch 014: | Loss: 0.39716 | Acc: 86.536 | Val_Loss: 0.20383 | Val_Acc: 95.800\n",
            "Epoch 015: | Loss: 0.39866 | Acc: 86.246 | Val_Loss: 3.35600 | Val_Acc: 6.624\n",
            "Epoch 016: | Loss: 0.40589 | Acc: 85.754 | Val_Loss: 2.15295 | Val_Acc: 4.523\n",
            "Epoch 017: | Loss: 0.39871 | Acc: 86.508 | Val_Loss: 3.49070 | Val_Acc: 5.816\n",
            "Epoch 018: | Loss: 0.39435 | Acc: 86.519 | Val_Loss: 3.59473 | Val_Acc: 4.685\n",
            "Epoch 019: | Loss: 0.39433 | Acc: 86.355 | Val_Loss: 0.33672 | Val_Acc: 95.315\n",
            "Epoch 020: | Loss: 0.39795 | Acc: 86.049 | Val_Loss: 0.30230 | Val_Acc: 95.961\n",
            "Hyperparameters: Epochs=20, Batch Size=64, Learning Rate=0.005\n",
            "Final Training Loss: 0.39795, Final Training Acc: 86.049\n",
            "Final Validation Loss: 0.30230, Final Validation Acc: 95.961\n",
            "\n",
            "\n",
            "accuracy:  0.9596122778675282\n",
            "586 8 17 8\n",
            "Recall: 0.3200\n",
            "Precision: 0.5000\n",
            "F1 Score: 0.3902\n"
          ]
        }
      ],
      "source": [
        "import itertools\n",
        "import matplotlib.pyplot as plt\n",
        "from sklearn.metrics import confusion_matrix\n",
        "# import seaborn as sn\n",
        "import pandas as pd\n",
        "\n",
        "# Define the hyperparameter values to test\n",
        "hyperparameters = {\n",
        "    'epochs': [ 20],\n",
        "    'batch_size': [ 16,32,64],\n",
        "    'learning_rate': [0.0005,0.001, 0.003,0.004,0.005,]\n",
        "}\n",
        "\n",
        "# Generate all combinations of hyperparameters\n",
        "param_combinations = list(itertools.product(*hyperparameters.values()))\n",
        "\n",
        "# Iterate over each combination\n",
        "for params in param_combinations:\n",
        "    # Unpack the parameters\n",
        "    epochs, batch_size, learning_rate = params\n",
        "\n",
        "    # Create a new model and optimizer with the current hyperparameters\n",
        "    model = Classifier(d_model=11, seq_len=108, nhead=11, dim_feedforward=8, nlayers=8, device=device)\n",
        "    model.to(device)\n",
        "    optimizer = torch.optim.Adam(model.parameters(), lr=learning_rate)\n",
        "    # optimizer = optim.Adam(model.parameters(), lr=LEARNING_RATE)\n",
        "\n",
        "    # Training loop\n",
        "    for e in range(1, epochs + 1):\n",
        "        # ... (your existing training code)\n",
        "        epoch_loss = 0\n",
        "        epoch_acc = 0\n",
        "        model.train()\n",
        "        for X_batch, y_batch in train_loader:\n",
        "            #print(\"w.requires_grad:\",X_batch.requires_grad)\n",
        "            X_batch, y_batch = X_batch.to(device), y_batch.to(device)\n",
        "            optimizer.zero_grad()\n",
        "\n",
        "            y_pred,result_before_bin_classifier = model(X_batch.float())\n",
        "            # print(f\"y_pred = {y_pred}\")\n",
        "            #y_pred = (y_pred>0.5).float()\n",
        "            #print(f\"y_pred = {y_pred}\")\n",
        "            #print(f\"y_batch.unsqueeze(1) = {y_batch.unsqueeze(1)}\")\n",
        "\n",
        "            loss = criterion(y_pred.float(), y_batch.unsqueeze(1).float())\n",
        "            acc = binary_acc(y_pred.float(), y_batch.unsqueeze(1).float())\n",
        "\n",
        "\n",
        "            loss.backward()\n",
        "            optimizer.step()\n",
        "\n",
        "            epoch_loss += loss.item()\n",
        "            epoch_acc += acc.item()\n",
        "\n",
        "        val_loss = 0\n",
        "        val_accuracy = 0\n",
        "        model.eval()\n",
        "        for X_batch, y_batch in test_loader:\n",
        "            X_batch, y_batch = X_batch.to(device), y_batch.to(device)\n",
        "            y_pred,result_before_bin_classifier = model(X_batch.float())\n",
        "            loss = criterion(y_pred.float(), y_batch.unsqueeze(1).float())\n",
        "            acc = binary_acc(y_pred.float(), y_batch.unsqueeze(1).float())\n",
        "            val_loss += loss.item()\n",
        "            val_accuracy += acc.item()\n",
        "\n",
        "        print(f'Epoch {e+0:03}: | Loss: {epoch_loss/len(train_loader):.5f} | Acc: {epoch_acc/len(train_loader):.3f} | Val_Loss: {val_loss/len(test_loader):.5f} | Val_Acc: {val_accuracy/len(test_loader):.3f}')\n",
        "\n",
        "    y_pred = []\n",
        "    y_true = []\n",
        "    sigmoid = nn.Sigmoid()\n",
        "\n",
        "    for X_batch, y_batch in test_loader:\n",
        "            #print(\"w.requires_grad:\",X_batch.requires_grad)\n",
        "            X_batch, y_batch = X_batch.to(device), y_batch.to(device)\n",
        "            # print(X_batch.shape)\n",
        "            # print(y_batch.shape)\n",
        "            results,result_before_bin_classifier = model(X_batch.float())\n",
        "            y_batch_pred = torch.round(sigmoid(results))\n",
        "            y_pred.extend(y_batch_pred.cpu().detach().numpy())\n",
        "            y_true.extend(y_batch.cpu().detach().numpy())\n",
        "\n",
        "     # Print the results for each hyperparameter combination\n",
        "    print(f'Hyperparameters: Epochs={epochs}, Batch Size={batch_size}, Learning Rate={learning_rate}')\n",
        "    print(f'Final Training Loss: {epoch_loss/len(train_loader):.5f}, Final Training Acc: {epoch_acc/len(train_loader):.3f}')\n",
        "    print(f'Final Validation Loss: {val_loss/len(test_loader):.5f}, Final Validation Acc: {val_accuracy/len(test_loader):.3f}')\n",
        "    print('\\n')\n",
        "\n",
        "    count_true = 0\n",
        "    for i in range(len(y_pred)):\n",
        "        if y_true[i]==y_pred[i]:\n",
        "            count_true+=1\n",
        "    acc = count_true/len(y_pred)\n",
        "    print(\"accuracy: \",acc)\n",
        "\n",
        "    tn, fp, fn, tp = confusion_matrix(y_true, y_pred).ravel()\n",
        "    print(tn, fp, fn, tp)\n",
        "\n",
        "    # Calculate Recall\n",
        "    recall = tp / (tp + fn)\n",
        "    # Calculate Precision\n",
        "    precision = tp / (tp + fp)\n",
        "    # Calculate F1 Score\n",
        "    f1_score = 2 * (precision * recall) / (precision + recall)\n",
        "\n",
        "    print(\"Recall: {:.4f}\".format(recall))\n",
        "    print(\"Precision: {:.4f}\".format(precision))\n",
        "    print(\"F1 Score: {:.4f}\".format(f1_score))\n",
        "\n",
        "            \n",
        "   \n"
      ]
    },
    {
      "cell_type": "code",
      "execution_count": 75,
      "metadata": {
        "colab": {
          "base_uri": "https://localhost:8080/"
        },
        "id": "by_qiNMVC2oX",
        "outputId": "fc7c1c34-5409-4665-986e-f97f86f1b7ea"
      },
      "outputs": [
        {
          "name": "stdout",
          "output_type": "stream",
          "text": [
            "Epoch 001: | Loss: 0.56920 | Acc: 75.399 | Val_Loss: 0.46614 | Val_Acc: 88.530\n",
            "Epoch 002: | Loss: 0.43354 | Acc: 83.077 | Val_Loss: 0.81745 | Val_Acc: 94.346\n",
            "Epoch 003: | Loss: 0.40778 | Acc: 84.197 | Val_Loss: 0.41433 | Val_Acc: 87.237\n",
            "Epoch 004: | Loss: 0.40460 | Acc: 83.929 | Val_Loss: 0.28373 | Val_Acc: 90.630\n",
            "Epoch 005: | Loss: 0.40387 | Acc: 84.344 | Val_Loss: 0.32396 | Val_Acc: 89.015\n",
            "Epoch 006: | Loss: 0.39395 | Acc: 84.896 | Val_Loss: 0.30900 | Val_Acc: 90.953\n",
            "Epoch 007: | Loss: 0.38999 | Acc: 85.000 | Val_Loss: 0.23921 | Val_Acc: 93.700\n",
            "Epoch 008: | Loss: 0.38847 | Acc: 85.295 | Val_Loss: 0.30056 | Val_Acc: 92.892\n",
            "Epoch 009: | Loss: 0.38425 | Acc: 85.760 | Val_Loss: 0.25420 | Val_Acc: 94.023\n",
            "Epoch 010: | Loss: 0.37647 | Acc: 86.574 | Val_Loss: 0.49931 | Val_Acc: 91.438\n",
            "Epoch 011: | Loss: 0.37870 | Acc: 86.393 | Val_Loss: 0.23069 | Val_Acc: 94.023\n",
            "Epoch 012: | Loss: 0.37374 | Acc: 86.710 | Val_Loss: 0.22753 | Val_Acc: 94.507\n",
            "Epoch 013: | Loss: 0.37386 | Acc: 86.503 | Val_Loss: 0.35951 | Val_Acc: 93.376\n",
            "Epoch 014: | Loss: 0.36753 | Acc: 86.645 | Val_Loss: 0.30674 | Val_Acc: 93.053\n",
            "Epoch 015: | Loss: 0.36831 | Acc: 86.372 | Val_Loss: 0.32707 | Val_Acc: 92.246\n",
            "Epoch 016: | Loss: 0.36694 | Acc: 86.934 | Val_Loss: 0.21573 | Val_Acc: 95.153\n",
            "Epoch 017: | Loss: 0.36700 | Acc: 86.885 | Val_Loss: 0.25090 | Val_Acc: 93.053\n",
            "Epoch 018: | Loss: 0.36222 | Acc: 87.126 | Val_Loss: 0.27177 | Val_Acc: 93.700\n",
            "Epoch 019: | Loss: 0.35915 | Acc: 86.918 | Val_Loss: 0.23625 | Val_Acc: 93.861\n",
            "Epoch 020: | Loss: 0.36262 | Acc: 86.923 | Val_Loss: 0.21933 | Val_Acc: 94.992\n"
          ]
        }
      ],
      "source": [
        "\n",
        "# for e in range(1, EPOCHS+1):\n",
        "#     epoch_loss = 0\n",
        "#     epoch_acc = 0\n",
        "#     model.train()\n",
        "#     for X_batch, y_batch in train_loader:\n",
        "#         #print(\"w.requires_grad:\",X_batch.requires_grad)\n",
        "#         X_batch, y_batch = X_batch.to(device), y_batch.to(device)\n",
        "#         optimizer.zero_grad()\n",
        "\n",
        "#         y_pred,result_before_bin_classifier = model(X_batch.float())\n",
        "#         # print(f\"y_pred = {y_pred}\")\n",
        "#         #y_pred = (y_pred>0.5).float()\n",
        "#         #print(f\"y_pred = {y_pred}\")\n",
        "#         #print(f\"y_batch.unsqueeze(1) = {y_batch.unsqueeze(1)}\")\n",
        "\n",
        "#         loss = criterion(y_pred.float(), y_batch.unsqueeze(1).float())\n",
        "#         acc = binary_acc(y_pred.float(), y_batch.unsqueeze(1).float())\n",
        "\n",
        "\n",
        "#         loss.backward()\n",
        "#         optimizer.step()\n",
        "\n",
        "#         epoch_loss += loss.item()\n",
        "#         epoch_acc += acc.item()\n",
        "#     val_loss = 0\n",
        "#     val_accuracy = 0\n",
        "#     model.eval()\n",
        "#     for X_batch, y_batch in test_loader:\n",
        "#         X_batch, y_batch = X_batch.to(device), y_batch.to(device)\n",
        "#         y_pred,result_before_bin_classifier = model(X_batch.float())\n",
        "#         loss = criterion(y_pred.float(), y_batch.unsqueeze(1).float())\n",
        "#         acc = binary_acc(y_pred.float(), y_batch.unsqueeze(1).float())\n",
        "#         val_loss += loss.item()\n",
        "#         val_accuracy += acc.item()\n",
        "\n",
        "#     # Check for early stopping\n",
        "#         # if val_accuracy > best_validation_accuracy:\n",
        "#         #     best_validation_accuracy = val_accuracy\n",
        "#         #     no_improvement_counter = 0\n",
        "#         #     # Save the trained best fakebert if needed\n",
        "#         #     torch.save(fakebert.state_dict(), '/content/drive/Shareddrives/test/FYP/fake-news/fakebert-twitterus.pth')\n",
        "#         # else:\n",
        "#         #     no_improvement_counter += 1\n",
        "\n",
        "#     print(f'Epoch {e+0:03}: | Loss: {epoch_loss/len(train_loader):.5f} | Acc: {epoch_acc/len(train_loader):.3f} | Val_Loss: {val_loss/len(test_loader):.5f} | Val_Acc: {val_accuracy/len(test_loader):.3f}')\n",
        "#     #print(f'Epoch {e+0:03}: | Loss: {epoch_loss/len(train_loader):.5f} | Acc: {epoch_acc/len(train_loader):.3f}')"
      ]
    },
    {
      "cell_type": "code",
      "execution_count": 76,
      "metadata": {
        "id": "m2a7DTkzC5Vy"
      },
      "outputs": [],
      "source": [
        "#PATH = './DeFi_Supervised_v1.pth'\n",
        "#PATH = './DeFi_Ablation_v2.pth'\n",
        "PATH = './PonziShield_tr_v5_gpu.pth'\n",
        "torch.save(model, PATH)\n",
        "\n",
        "\n"
      ]
    },
    {
      "cell_type": "code",
      "execution_count": 77,
      "metadata": {
        "colab": {
          "base_uri": "https://localhost:8080/"
        },
        "id": "izEn8HI6C-NP",
        "outputId": "5f23c6ca-52a9-4e98-bc7c-14750f5fd644"
      },
      "outputs": [
        {
          "data": {
            "text/plain": [
              "Classifier(\n",
              "  (position_embedding): Embedding(108, 11)\n",
              "  (encoder): TransformerEncoder(\n",
              "    (layers): ModuleList(\n",
              "      (0-7): 8 x TransformerEncoderLayer(\n",
              "        (self_attn): MultiheadAttention(\n",
              "          (out_proj): NonDynamicallyQuantizableLinear(in_features=11, out_features=11, bias=True)\n",
              "        )\n",
              "        (linear1): Linear(in_features=11, out_features=8, bias=True)\n",
              "        (dropout): Dropout(p=0.5, inplace=False)\n",
              "        (linear2): Linear(in_features=8, out_features=11, bias=True)\n",
              "        (norm1): LayerNorm((11,), eps=1e-05, elementwise_affine=True)\n",
              "        (norm2): LayerNorm((11,), eps=1e-05, elementwise_affine=True)\n",
              "        (dropout1): Dropout(p=0.5, inplace=False)\n",
              "        (dropout2): Dropout(p=0.5, inplace=False)\n",
              "      )\n",
              "    )\n",
              "  )\n",
              "  (binary_classifier): BinaryClassification(\n",
              "    (layer_1): Linear(in_features=1188, out_features=64, bias=True)\n",
              "    (layer_2): Linear(in_features=64, out_features=64, bias=True)\n",
              "    (layer_out): Linear(in_features=64, out_features=1, bias=True)\n",
              "    (relu): ReLU()\n",
              "    (dropout): Dropout(p=0.1, inplace=False)\n",
              "    (batchnorm1): BatchNorm1d(64, eps=1e-05, momentum=0.1, affine=True, track_running_stats=True)\n",
              "    (batchnorm2): BatchNorm1d(64, eps=1e-05, momentum=0.1, affine=True, track_running_stats=True)\n",
              "  )\n",
              ")"
            ]
          },
          "execution_count": 77,
          "metadata": {},
          "output_type": "execute_result"
        }
      ],
      "source": [
        "#PATH = './DeFi_Ablation_v1.pth'\n",
        "PATH = './PonziShield_tr_v5_gpu.pth'\n",
        "# PATH = './PonziShield_tr_v3.pth'\n",
        "loaded_model = torch.load(PATH)\n",
        "loaded_model.eval()"
      ]
    },
    {
      "cell_type": "code",
      "execution_count": 78,
      "metadata": {
        "id": "cZ0o2hiGDDfj"
      },
      "outputs": [],
      "source": [
        "import matplotlib.pyplot as plt\n",
        "from sklearn.metrics import confusion_matrix\n",
        "# import seaborn as sn\n",
        "import pandas as pd"
      ]
    },
    {
      "cell_type": "code",
      "execution_count": 79,
      "metadata": {
        "id": "sGBwIMGUDGdB"
      },
      "outputs": [],
      "source": [
        "y_pred = []\n",
        "y_true = []\n",
        "sigmoid = nn.Sigmoid()\n",
        "\n",
        "for X_batch, y_batch in test_loader:\n",
        "        #print(\"w.requires_grad:\",X_batch.requires_grad)\n",
        "        X_batch, y_batch = X_batch.to(device), y_batch.to(device)\n",
        "        # print(X_batch.shape)\n",
        "        # print(y_batch.shape)\n",
        "        results,result_before_bin_classifier = loaded_model(X_batch.float())\n",
        "        y_batch_pred = torch.round(sigmoid(results))\n",
        "        y_pred.extend(y_batch_pred.cpu().detach().numpy())\n",
        "        y_true.extend(y_batch.cpu().detach().numpy())"
      ]
    },
    {
      "cell_type": "code",
      "execution_count": 80,
      "metadata": {
        "colab": {
          "base_uri": "https://localhost:8080/"
        },
        "id": "CSzmhsFfDKu3",
        "outputId": "5879c768-5ff1-4583-dc90-f1166fd16bf3"
      },
      "outputs": [
        {
          "name": "stdout",
          "output_type": "stream",
          "text": [
            "\n",
            "Class distribution in y_test:\n",
            "{0: 594, 1: 25}\n",
            "accuracy:  0.9499192245557351\n"
          ]
        }
      ],
      "source": [
        "unique_classes_train, counts_train = np.unique(y_test, return_counts=True)\n",
        "print(\"\\nClass distribution in y_test:\")\n",
        "print(dict(zip(unique_classes_train, counts_train)))\n",
        "\n",
        "count_true = 0\n",
        "for i in range(len(y_pred)):\n",
        "  if y_true[i]==y_pred[i]:\n",
        "    count_true+=1\n",
        "acc = count_true/len(y_pred)\n",
        "print(\"accuracy: \",acc)"
      ]
    },
    {
      "cell_type": "code",
      "execution_count": 81,
      "metadata": {
        "colab": {
          "base_uri": "https://localhost:8080/"
        },
        "id": "vHGP4PFqDMw1",
        "outputId": "0fb2d34c-a7e6-4fe1-ef08-ee76fb58175f"
      },
      "outputs": [
        {
          "name": "stdout",
          "output_type": "stream",
          "text": [
            "tn- 580 fp- 14 fn- 17 tp- 8\n"
          ]
        }
      ],
      "source": [
        "tn, fp, fn, tp = confusion_matrix(y_true, y_pred).ravel()\n",
        "print(\"tn-\",tn ,\"fp-\", fp,\"fn-\", fn,\"tp-\", tp)"
      ]
    },
    {
      "cell_type": "code",
      "execution_count": 82,
      "metadata": {},
      "outputs": [
        {
          "name": "stdout",
          "output_type": "stream",
          "text": [
            "Recall: 0.3200\n",
            "Precision: 0.3636\n",
            "F1 Score: 0.3404\n"
          ]
        }
      ],
      "source": [
        "# Calculate Recall\n",
        "recall = tp / (tp + fn)\n",
        "\n",
        "# Calculate Precision\n",
        "precision = tp / (tp + fp)\n",
        "\n",
        "# Calculate F1 Score\n",
        "f1_score = 2 * (precision * recall) / (precision + recall)\n",
        "\n",
        "print(\"Recall: {:.4f}\".format(recall))\n",
        "print(\"Precision: {:.4f}\".format(precision))\n",
        "print(\"F1 Score: {:.4f}\".format(f1_score))"
      ]
    },
    {
      "cell_type": "code",
      "execution_count": null,
      "metadata": {
        "colab": {
          "base_uri": "https://localhost:8080/",
          "height": 599
        },
        "id": "bgsv6Tk1DQLi",
        "outputId": "a71ab99b-a206-4038-e58f-ff66341910a9"
      },
      "outputs": [
        {
          "data": {
            "text/plain": [
              "<Figure size 1200x700 with 0 Axes>"
            ]
          },
          "metadata": {},
          "output_type": "display_data"
        }
      ],
      "source": [
        "cf_matrix = confusion_matrix(y_true, y_pred)\n",
        "df_cm = pd.DataFrame(cf_matrix / np.sum(cf_matrix, axis=1), index = ['0','1'],\n",
        "                     columns = ['0','1'])\n",
        "plt.figure(figsize = (12,7))\n",
        "# sn.heatmap(df_cm, annot=True)\n",
        "plt.savefig('output.png')"
      ]
    },
    {
      "cell_type": "markdown",
      "metadata": {},
      "source": [
        "For one DAPP"
      ]
    },
    {
      "cell_type": "code",
      "execution_count": null,
      "metadata": {},
      "outputs": [],
      "source": []
    },
    {
      "cell_type": "markdown",
      "metadata": {
        "id": "0GJccHvh7Kmg"
      },
      "source": [
        "**Two token**"
      ]
    },
    {
      "cell_type": "code",
      "execution_count": null,
      "metadata": {
        "id": "R778VOz17Pk7"
      },
      "outputs": [],
      "source": [
        "#Anubis\n",
        "ankh_x1 = np.load(\"ankh_full_x1.npy\", allow_pickle=True)"
      ]
    },
    {
      "cell_type": "code",
      "execution_count": null,
      "metadata": {
        "colab": {
          "base_uri": "https://localhost:8080/"
        },
        "id": "RODlfT087TAH",
        "outputId": "11319c3f-9ff4-4f46-e0c5-99e8f424aa81"
      },
      "outputs": [
        {
          "name": "stdout",
          "output_type": "stream",
          "text": [
            "(108, 7)\n",
            "(1, 108, 7)\n",
            "tensor([[0.0071]], device='cuda:0', grad_fn=<SigmoidBackward0>)\n"
          ]
        },
        {
          "data": {
            "text/plain": [
              "tensor([[0.]], device='cuda:0', grad_fn=<RoundBackward0>)"
            ]
          },
          "execution_count": 15,
          "metadata": {},
          "output_type": "execute_result"
        }
      ],
      "source": [
        "#500\n",
        "\n",
        "for i in range(50,108):\n",
        "  ankh_x1[i] = [0,0,0,0,0,0,0]\n",
        "\n",
        "print(ankh_x1.shape)\n",
        "ankh_x1 = np.reshape(ankh_x1, (1, 108, 7))\n",
        "print(ankh_x1.shape)\n",
        "\n",
        "ankh_x1 = torch.from_numpy(ankh_x1)\n",
        "ankh_x1 = ankh_x1.to(device)\n",
        "\n",
        "sigmoid = nn.Sigmoid()\n",
        "val = sigmoid(loaded_model(ankh_x1.float()))\n",
        "print(val)\n",
        "torch.round(val)"
      ]
    },
    {
      "cell_type": "code",
      "execution_count": null,
      "metadata": {
        "colab": {
          "base_uri": "https://localhost:8080/"
        },
        "id": "B0bNCGzH8Lwf",
        "outputId": "867a719d-b917-4996-ddd5-40008b5e1b3e"
      },
      "outputs": [
        {
          "name": "stdout",
          "output_type": "stream",
          "text": [
            "(108, 7)\n",
            "(1, 108, 7)\n",
            "tensor([[0.2284]], device='cuda:0', grad_fn=<SigmoidBackward0>)\n"
          ]
        },
        {
          "data": {
            "text/plain": [
              "tensor([[0.]], device='cuda:0', grad_fn=<RoundBackward0>)"
            ]
          },
          "execution_count": 27,
          "metadata": {},
          "output_type": "execute_result"
        }
      ],
      "source": [
        "#750\n",
        "\n",
        "for i in range(75,108):\n",
        "  ankh_x1[i] = [0,0,0,0,0,0,0]\n",
        "\n",
        "print(ankh_x1.shape)\n",
        "ankh_x1 = np.reshape(ankh_x1, (1, 108, 7))\n",
        "print(ankh_x1.shape)\n",
        "\n",
        "ankh_x1 = torch.from_numpy(ankh_x1)\n",
        "ankh_x1 = ankh_x1.to(device)\n",
        "\n",
        "sigmoid = nn.Sigmoid()\n",
        "val = sigmoid(loaded_model(ankh_x1.float()))\n",
        "print(val)\n",
        "torch.round(val)"
      ]
    },
    {
      "cell_type": "code",
      "execution_count": null,
      "metadata": {
        "colab": {
          "base_uri": "https://localhost:8080/"
        },
        "id": "GZNvipUc8RXX",
        "outputId": "24db96fb-7b60-43f5-90db-117012bcfd76"
      },
      "outputs": [
        {
          "name": "stdout",
          "output_type": "stream",
          "text": [
            "(108, 7)\n",
            "(1, 108, 7)\n",
            "tensor([[0.9375]], device='cuda:0', grad_fn=<SigmoidBackward0>)\n"
          ]
        },
        {
          "data": {
            "text/plain": [
              "tensor([[1.]], device='cuda:0', grad_fn=<RoundBackward0>)"
            ]
          },
          "execution_count": 29,
          "metadata": {},
          "output_type": "execute_result"
        }
      ],
      "source": [
        "#850\n",
        "\n",
        "for i in range(85,108):\n",
        "  ankh_x1[i] = [0,0,0,0,0,0,0]\n",
        "\n",
        "print(ankh_x1.shape)\n",
        "ankh_x1 = np.reshape(ankh_x1, (1, 108, 7))\n",
        "print(ankh_x1.shape)\n",
        "\n",
        "ankh_x1 = torch.from_numpy(ankh_x1)\n",
        "ankh_x1 = ankh_x1.to(device)\n",
        "\n",
        "sigmoid = nn.Sigmoid()\n",
        "val = sigmoid(loaded_model(ankh_x1.float()))\n",
        "print(val)\n",
        "torch.round(val)"
      ]
    },
    {
      "cell_type": "code",
      "execution_count": null,
      "metadata": {
        "colab": {
          "base_uri": "https://localhost:8080/"
        },
        "id": "D6ehoLVN8eg7",
        "outputId": "19bcfe53-b220-461b-c02f-9ad53745253d"
      },
      "outputs": [
        {
          "name": "stdout",
          "output_type": "stream",
          "text": [
            "(108, 7)\n",
            "(1, 108, 7)\n",
            "tensor([[7.5255e-07]], device='cuda:0', grad_fn=<SigmoidBackward0>)\n"
          ]
        },
        {
          "data": {
            "text/plain": [
              "tensor([[0.]], device='cuda:0', grad_fn=<RoundBackward0>)"
            ]
          },
          "execution_count": 25,
          "metadata": {},
          "output_type": "execute_result"
        }
      ],
      "source": [
        "#full\n",
        "\n",
        "#for i in range(50,108):\n",
        "#  ankh_x1[i] = [0,0,0,0,0,0,0]\n",
        "\n",
        "print(ankh_x1.shape)\n",
        "ankh_x1 = np.reshape(ankh_x1, (1, 108, 7))\n",
        "print(ankh_x1.shape)\n",
        "\n",
        "ankh_x1 = torch.from_numpy(ankh_x1)\n",
        "ankh_x1 = ankh_x1.to(device)\n",
        "\n",
        "sigmoid = nn.Sigmoid()\n",
        "val = sigmoid(loaded_model(ankh_x1.float()))\n",
        "print(val)\n",
        "torch.round(val)"
      ]
    },
    {
      "cell_type": "code",
      "execution_count": null,
      "metadata": {
        "id": "JJQK0TkG8yq9"
      },
      "outputs": [],
      "source": [
        "#Sushi\n",
        "sushi_x1 = np.load(\"sushi_full_x1.npy\", allow_pickle=True)"
      ]
    },
    {
      "cell_type": "code",
      "execution_count": null,
      "metadata": {
        "colab": {
          "base_uri": "https://localhost:8080/"
        },
        "id": "mijpOWkG89dp",
        "outputId": "b7c795fa-de14-4fd4-f32d-d0b4b723e3a7"
      },
      "outputs": [
        {
          "name": "stdout",
          "output_type": "stream",
          "text": [
            "(108, 7)\n",
            "(1, 108, 7)\n",
            "tensor([[0.0580]], device='cuda:0', grad_fn=<SigmoidBackward0>)\n"
          ]
        },
        {
          "data": {
            "text/plain": [
              "tensor([[0.]], device='cuda:0', grad_fn=<RoundBackward0>)"
            ]
          },
          "execution_count": 37,
          "metadata": {},
          "output_type": "execute_result"
        }
      ],
      "source": [
        "#500\n",
        "\n",
        "for i in range(50,108):\n",
        "  sushi_x1[i] = [0,0,0,0,0,0,0]\n",
        "\n",
        "print(sushi_x1.shape)\n",
        "sushi_x1 = np.reshape(sushi_x1, (1, 108, 7))\n",
        "print(sushi_x1.shape)\n",
        "\n",
        "sushi_x1 = torch.from_numpy(sushi_x1)\n",
        "sushi_x1 = sushi_x1.to(device)\n",
        "\n",
        "sigmoid = nn.Sigmoid()\n",
        "val = sigmoid(loaded_model(sushi_x1.float()))\n",
        "print(val)\n",
        "torch.round(val)"
      ]
    },
    {
      "cell_type": "code",
      "execution_count": null,
      "metadata": {
        "colab": {
          "base_uri": "https://localhost:8080/"
        },
        "id": "An3228-l9Fkj",
        "outputId": "f8c6818a-9446-4a0e-a58e-a705903927e4"
      },
      "outputs": [
        {
          "name": "stdout",
          "output_type": "stream",
          "text": [
            "(108, 7)\n",
            "(1, 108, 7)\n",
            "tensor([[0.9919]], device='cuda:0', grad_fn=<SigmoidBackward0>)\n"
          ]
        },
        {
          "data": {
            "text/plain": [
              "tensor([[1.]], device='cuda:0', grad_fn=<RoundBackward0>)"
            ]
          },
          "execution_count": 39,
          "metadata": {},
          "output_type": "execute_result"
        }
      ],
      "source": [
        "#750\n",
        "\n",
        "for i in range(75,108):\n",
        "  sushi_x1[i] = [0,0,0,0,0,0,0]\n",
        "\n",
        "print(sushi_x1.shape)\n",
        "sushi_x1 = np.reshape(sushi_x1, (1, 108, 7))\n",
        "print(sushi_x1.shape)\n",
        "\n",
        "sushi_x1 = torch.from_numpy(sushi_x1)\n",
        "sushi_x1 = sushi_x1.to(device)\n",
        "\n",
        "sigmoid = nn.Sigmoid()\n",
        "val = sigmoid(loaded_model(sushi_x1.float()))\n",
        "print(val)\n",
        "torch.round(val)"
      ]
    },
    {
      "cell_type": "code",
      "execution_count": null,
      "metadata": {
        "colab": {
          "base_uri": "https://localhost:8080/"
        },
        "id": "HwaSuG8I84_1",
        "outputId": "befe8a4a-da7a-46cb-fd71-b10e0fcf4979"
      },
      "outputs": [
        {
          "name": "stdout",
          "output_type": "stream",
          "text": [
            "(108, 7)\n",
            "(1, 108, 7)\n",
            "tensor([[0.9957]], device='cuda:0', grad_fn=<SigmoidBackward0>)\n"
          ]
        },
        {
          "data": {
            "text/plain": [
              "tensor([[1.]], device='cuda:0', grad_fn=<RoundBackward0>)"
            ]
          },
          "execution_count": 41,
          "metadata": {},
          "output_type": "execute_result"
        }
      ],
      "source": [
        "#850\n",
        "\n",
        "for i in range(85,108):\n",
        "  sushi_x1[i] = [0,0,0,0,0,0,0]\n",
        "\n",
        "print(sushi_x1.shape)\n",
        "sushi_x1 = np.reshape(sushi_x1, (1, 108, 7))\n",
        "print(sushi_x1.shape)\n",
        "\n",
        "sushi_x1 = torch.from_numpy(sushi_x1)\n",
        "sushi_x1 = sushi_x1.to(device)\n",
        "\n",
        "sigmoid = nn.Sigmoid()\n",
        "val = sigmoid(loaded_model(sushi_x1.float()))\n",
        "print(val)\n",
        "torch.round(val)"
      ]
    },
    {
      "cell_type": "code",
      "execution_count": null,
      "metadata": {
        "colab": {
          "base_uri": "https://localhost:8080/"
        },
        "id": "u8j-eq0S-8NE",
        "outputId": "b03a734f-0951-4356-9af6-917866b002ea"
      },
      "outputs": [
        {
          "name": "stdout",
          "output_type": "stream",
          "text": [
            "(108, 7)\n",
            "(1, 108, 7)\n",
            "tensor([[1.]], device='cuda:0', grad_fn=<SigmoidBackward0>)\n"
          ]
        },
        {
          "data": {
            "text/plain": [
              "tensor([[1.]], device='cuda:0', grad_fn=<RoundBackward0>)"
            ]
          },
          "execution_count": 43,
          "metadata": {},
          "output_type": "execute_result"
        }
      ],
      "source": [
        "#Full\n",
        "\n",
        "print(sushi_x1.shape)\n",
        "sushi_x1 = np.reshape(sushi_x1, (1, 108, 7))\n",
        "print(sushi_x1.shape)\n",
        "\n",
        "sushi_x1 = torch.from_numpy(sushi_x1)\n",
        "sushi_x1 = sushi_x1.to(device)\n",
        "\n",
        "sigmoid = nn.Sigmoid()\n",
        "val = sigmoid(loaded_model(sushi_x1.float()))\n",
        "print(val)\n",
        "torch.round(val)"
      ]
    },
    {
      "cell_type": "markdown",
      "metadata": {
        "id": "wddTMx_0FvUe"
      },
      "source": [
        "**APE**"
      ]
    },
    {
      "cell_type": "code",
      "execution_count": null,
      "metadata": {
        "colab": {
          "base_uri": "https://localhost:8080/",
          "height": 73
        },
        "id": "DYfxUxHXF14X",
        "outputId": "4395ee73-0dd7-4d1a-d5f1-65f67fed28b2"
      },
      "outputs": [
        {
          "data": {
            "text/html": [
              "\n",
              "     <input type=\"file\" id=\"files-db7de152-32b4-4e17-a237-d14ef2dcfc17\" name=\"files[]\" multiple disabled\n",
              "        style=\"border:none\" />\n",
              "     <output id=\"result-db7de152-32b4-4e17-a237-d14ef2dcfc17\">\n",
              "      Upload widget is only available when the cell has been executed in the\n",
              "      current browser session. Please rerun this cell to enable.\n",
              "      </output>\n",
              "      <script>// Copyright 2017 Google LLC\n",
              "//\n",
              "// Licensed under the Apache License, Version 2.0 (the \"License\");\n",
              "// you may not use this file except in compliance with the License.\n",
              "// You may obtain a copy of the License at\n",
              "//\n",
              "//      http://www.apache.org/licenses/LICENSE-2.0\n",
              "//\n",
              "// Unless required by applicable law or agreed to in writing, software\n",
              "// distributed under the License is distributed on an \"AS IS\" BASIS,\n",
              "// WITHOUT WARRANTIES OR CONDITIONS OF ANY KIND, either express or implied.\n",
              "// See the License for the specific language governing permissions and\n",
              "// limitations under the License.\n",
              "\n",
              "/**\n",
              " * @fileoverview Helpers for google.colab Python module.\n",
              " */\n",
              "(function(scope) {\n",
              "function span(text, styleAttributes = {}) {\n",
              "  const element = document.createElement('span');\n",
              "  element.textContent = text;\n",
              "  for (const key of Object.keys(styleAttributes)) {\n",
              "    element.style[key] = styleAttributes[key];\n",
              "  }\n",
              "  return element;\n",
              "}\n",
              "\n",
              "// Max number of bytes which will be uploaded at a time.\n",
              "const MAX_PAYLOAD_SIZE = 100 * 1024;\n",
              "\n",
              "function _uploadFiles(inputId, outputId) {\n",
              "  const steps = uploadFilesStep(inputId, outputId);\n",
              "  const outputElement = document.getElementById(outputId);\n",
              "  // Cache steps on the outputElement to make it available for the next call\n",
              "  // to uploadFilesContinue from Python.\n",
              "  outputElement.steps = steps;\n",
              "\n",
              "  return _uploadFilesContinue(outputId);\n",
              "}\n",
              "\n",
              "// This is roughly an async generator (not supported in the browser yet),\n",
              "// where there are multiple asynchronous steps and the Python side is going\n",
              "// to poll for completion of each step.\n",
              "// This uses a Promise to block the python side on completion of each step,\n",
              "// then passes the result of the previous step as the input to the next step.\n",
              "function _uploadFilesContinue(outputId) {\n",
              "  const outputElement = document.getElementById(outputId);\n",
              "  const steps = outputElement.steps;\n",
              "\n",
              "  const next = steps.next(outputElement.lastPromiseValue);\n",
              "  return Promise.resolve(next.value.promise).then((value) => {\n",
              "    // Cache the last promise value to make it available to the next\n",
              "    // step of the generator.\n",
              "    outputElement.lastPromiseValue = value;\n",
              "    return next.value.response;\n",
              "  });\n",
              "}\n",
              "\n",
              "/**\n",
              " * Generator function which is called between each async step of the upload\n",
              " * process.\n",
              " * @param {string} inputId Element ID of the input file picker element.\n",
              " * @param {string} outputId Element ID of the output display.\n",
              " * @return {!Iterable<!Object>} Iterable of next steps.\n",
              " */\n",
              "function* uploadFilesStep(inputId, outputId) {\n",
              "  const inputElement = document.getElementById(inputId);\n",
              "  inputElement.disabled = false;\n",
              "\n",
              "  const outputElement = document.getElementById(outputId);\n",
              "  outputElement.innerHTML = '';\n",
              "\n",
              "  const pickedPromise = new Promise((resolve) => {\n",
              "    inputElement.addEventListener('change', (e) => {\n",
              "      resolve(e.target.files);\n",
              "    });\n",
              "  });\n",
              "\n",
              "  const cancel = document.createElement('button');\n",
              "  inputElement.parentElement.appendChild(cancel);\n",
              "  cancel.textContent = 'Cancel upload';\n",
              "  const cancelPromise = new Promise((resolve) => {\n",
              "    cancel.onclick = () => {\n",
              "      resolve(null);\n",
              "    };\n",
              "  });\n",
              "\n",
              "  // Wait for the user to pick the files.\n",
              "  const files = yield {\n",
              "    promise: Promise.race([pickedPromise, cancelPromise]),\n",
              "    response: {\n",
              "      action: 'starting',\n",
              "    }\n",
              "  };\n",
              "\n",
              "  cancel.remove();\n",
              "\n",
              "  // Disable the input element since further picks are not allowed.\n",
              "  inputElement.disabled = true;\n",
              "\n",
              "  if (!files) {\n",
              "    return {\n",
              "      response: {\n",
              "        action: 'complete',\n",
              "      }\n",
              "    };\n",
              "  }\n",
              "\n",
              "  for (const file of files) {\n",
              "    const li = document.createElement('li');\n",
              "    li.append(span(file.name, {fontWeight: 'bold'}));\n",
              "    li.append(span(\n",
              "        `(${file.type || 'n/a'}) - ${file.size} bytes, ` +\n",
              "        `last modified: ${\n",
              "            file.lastModifiedDate ? file.lastModifiedDate.toLocaleDateString() :\n",
              "                                    'n/a'} - `));\n",
              "    const percent = span('0% done');\n",
              "    li.appendChild(percent);\n",
              "\n",
              "    outputElement.appendChild(li);\n",
              "\n",
              "    const fileDataPromise = new Promise((resolve) => {\n",
              "      const reader = new FileReader();\n",
              "      reader.onload = (e) => {\n",
              "        resolve(e.target.result);\n",
              "      };\n",
              "      reader.readAsArrayBuffer(file);\n",
              "    });\n",
              "    // Wait for the data to be ready.\n",
              "    let fileData = yield {\n",
              "      promise: fileDataPromise,\n",
              "      response: {\n",
              "        action: 'continue',\n",
              "      }\n",
              "    };\n",
              "\n",
              "    // Use a chunked sending to avoid message size limits. See b/62115660.\n",
              "    let position = 0;\n",
              "    do {\n",
              "      const length = Math.min(fileData.byteLength - position, MAX_PAYLOAD_SIZE);\n",
              "      const chunk = new Uint8Array(fileData, position, length);\n",
              "      position += length;\n",
              "\n",
              "      const base64 = btoa(String.fromCharCode.apply(null, chunk));\n",
              "      yield {\n",
              "        response: {\n",
              "          action: 'append',\n",
              "          file: file.name,\n",
              "          data: base64,\n",
              "        },\n",
              "      };\n",
              "\n",
              "      let percentDone = fileData.byteLength === 0 ?\n",
              "          100 :\n",
              "          Math.round((position / fileData.byteLength) * 100);\n",
              "      percent.textContent = `${percentDone}% done`;\n",
              "\n",
              "    } while (position < fileData.byteLength);\n",
              "  }\n",
              "\n",
              "  // All done.\n",
              "  yield {\n",
              "    response: {\n",
              "      action: 'complete',\n",
              "    }\n",
              "  };\n",
              "}\n",
              "\n",
              "scope.google = scope.google || {};\n",
              "scope.google.colab = scope.google.colab || {};\n",
              "scope.google.colab._files = {\n",
              "  _uploadFiles,\n",
              "  _uploadFilesContinue,\n",
              "};\n",
              "})(self);\n",
              "</script> "
            ],
            "text/plain": [
              "<IPython.core.display.HTML object>"
            ]
          },
          "metadata": {},
          "output_type": "display_data"
        },
        {
          "name": "stdout",
          "output_type": "stream",
          "text": [
            "Saving ape_full_x1.npy to ape_full_x1.npy\n"
          ]
        }
      ],
      "source": [
        "from google.colab import files\n",
        "uploaded=files.upload()"
      ]
    },
    {
      "cell_type": "code",
      "execution_count": null,
      "metadata": {
        "id": "J7xOK4d5Fxq1"
      },
      "outputs": [],
      "source": [
        "#Ape\n",
        "x1 = np.load(\"ape_full_x1.npy\", allow_pickle=True)"
      ]
    },
    {
      "cell_type": "code",
      "execution_count": null,
      "metadata": {
        "colab": {
          "base_uri": "https://localhost:8080/"
        },
        "id": "WYrL8_w9GAYC",
        "outputId": "fde4d624-18b9-4625-a97e-09caeda11ffa"
      },
      "outputs": [
        {
          "name": "stdout",
          "output_type": "stream",
          "text": [
            "(108, 7)\n",
            "(1, 108, 7)\n",
            "tensor([[0.0006]], device='cuda:0', grad_fn=<SigmoidBackward0>)\n"
          ]
        },
        {
          "data": {
            "text/plain": [
              "tensor([[0.]], device='cuda:0', grad_fn=<RoundBackward0>)"
            ]
          },
          "execution_count": 13,
          "metadata": {},
          "output_type": "execute_result"
        }
      ],
      "source": [
        "#500\n",
        "\n",
        "for i in range(50,108):\n",
        "  x1[i] = [0,0,0,0,0,0,0]\n",
        "\n",
        "print(x1.shape)\n",
        "x1 = np.reshape(x1, (1, 108, 7))\n",
        "print(x1.shape)\n",
        "\n",
        "x1 = torch.from_numpy(x1)\n",
        "x1 = x1.to(device)\n",
        "\n",
        "sigmoid = nn.Sigmoid()\n",
        "val = sigmoid(loaded_model(x1.float()))\n",
        "print(val)\n",
        "torch.round(val)"
      ]
    },
    {
      "cell_type": "code",
      "execution_count": null,
      "metadata": {
        "colab": {
          "base_uri": "https://localhost:8080/"
        },
        "id": "q3TmrbnhGIcv",
        "outputId": "629d2479-272d-4c5c-e812-924caef1c3c0"
      },
      "outputs": [
        {
          "name": "stdout",
          "output_type": "stream",
          "text": [
            "(108, 7)\n",
            "(1, 108, 7)\n",
            "tensor([[0.9763]], device='cuda:0', grad_fn=<SigmoidBackward0>)\n"
          ]
        },
        {
          "data": {
            "text/plain": [
              "tensor([[1.]], device='cuda:0', grad_fn=<RoundBackward0>)"
            ]
          },
          "execution_count": 16,
          "metadata": {},
          "output_type": "execute_result"
        }
      ],
      "source": [
        "#750\n",
        "\n",
        "for i in range(75,108):\n",
        "  x1[i] = [0,0,0,0,0,0,0]\n",
        "\n",
        "print(x1.shape)\n",
        "x1 = np.reshape(x1, (1, 108, 7))\n",
        "print(x1.shape)\n",
        "\n",
        "x1 = torch.from_numpy(x1)\n",
        "x1 = x1.to(device)\n",
        "\n",
        "sigmoid = nn.Sigmoid()\n",
        "val = sigmoid(loaded_model(x1.float()))\n",
        "print(val)\n",
        "torch.round(val)"
      ]
    },
    {
      "cell_type": "code",
      "execution_count": null,
      "metadata": {
        "colab": {
          "base_uri": "https://localhost:8080/"
        },
        "id": "t840Bw2GGRzq",
        "outputId": "b94ba91f-1e0c-485c-95bd-ebeba19782ad"
      },
      "outputs": [
        {
          "name": "stdout",
          "output_type": "stream",
          "text": [
            "(108, 7)\n",
            "(1, 108, 7)\n",
            "tensor([[0.9997]], device='cuda:0', grad_fn=<SigmoidBackward0>)\n"
          ]
        },
        {
          "data": {
            "text/plain": [
              "tensor([[1.]], device='cuda:0', grad_fn=<RoundBackward0>)"
            ]
          },
          "execution_count": 18,
          "metadata": {},
          "output_type": "execute_result"
        }
      ],
      "source": [
        "#850\n",
        "\n",
        "for i in range(85,108):\n",
        "  x1[i] = [0,0,0,0,0,0,0]\n",
        "\n",
        "print(x1.shape)\n",
        "x1 = np.reshape(x1, (1, 108, 7))\n",
        "print(x1.shape)\n",
        "\n",
        "x1 = torch.from_numpy(x1)\n",
        "x1 = x1.to(device)\n",
        "\n",
        "sigmoid = nn.Sigmoid()\n",
        "val = sigmoid(loaded_model(x1.float()))\n",
        "print(val)\n",
        "torch.round(val)"
      ]
    },
    {
      "cell_type": "code",
      "execution_count": null,
      "metadata": {
        "colab": {
          "base_uri": "https://localhost:8080/"
        },
        "id": "IR32mru-Gamj",
        "outputId": "b1fb144c-adfe-49af-8d3e-b579835171df"
      },
      "outputs": [
        {
          "name": "stdout",
          "output_type": "stream",
          "text": [
            "(108, 7)\n",
            "(1, 108, 7)\n",
            "tensor([[8.2050e-08]], device='cuda:0', grad_fn=<SigmoidBackward0>)\n"
          ]
        },
        {
          "data": {
            "text/plain": [
              "tensor([[0.]], device='cuda:0', grad_fn=<RoundBackward0>)"
            ]
          },
          "execution_count": 20,
          "metadata": {},
          "output_type": "execute_result"
        }
      ],
      "source": [
        "#Full\n",
        "\n",
        "print(x1.shape)\n",
        "x1 = np.reshape(x1, (1, 108, 7))\n",
        "print(x1.shape)\n",
        "\n",
        "x1 = torch.from_numpy(x1)\n",
        "x1 = x1.to(device)\n",
        "\n",
        "sigmoid = nn.Sigmoid()\n",
        "val = sigmoid(loaded_model(x1.float()))\n",
        "print(val)\n",
        "torch.round(val)"
      ]
    }
  ],
  "metadata": {
    "accelerator": "GPU",
    "colab": {
      "gpuType": "T4",
      "provenance": []
    },
    "kernelspec": {
      "display_name": "Python 3",
      "name": "python3"
    },
    "language_info": {
      "codemirror_mode": {
        "name": "ipython",
        "version": 3
      },
      "file_extension": ".py",
      "mimetype": "text/x-python",
      "name": "python",
      "nbconvert_exporter": "python",
      "pygments_lexer": "ipython3",
      "version": "3.9.0"
    }
  },
  "nbformat": 4,
  "nbformat_minor": 0
}
